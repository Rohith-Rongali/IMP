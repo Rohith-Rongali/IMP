{
  "cells": [
    {
      "cell_type": "markdown",
      "metadata": {
        "colab_type": "text",
        "id": "view-in-github"
      },
      "source": [
        "<a href=\"https://colab.research.google.com/github/Rohith-Rongali/IMP/blob/main/IMP_DT.ipynb\" target=\"_parent\"><img src=\"https://colab.research.google.com/assets/colab-badge.svg\" alt=\"Open In Colab\"/></a>"
      ]
    },
    {
      "cell_type": "markdown",
      "metadata": {
        "id": "sTt4FBrCswwi"
      },
      "source": [
        "# Imports"
      ]
    },
    {
      "cell_type": "code",
      "execution_count": 1,
      "metadata": {
        "id": "TkKwoTDlskqo"
      },
      "outputs": [],
      "source": [
        "import torch\n",
        "import torch.nn as nn\n",
        "import torch.nn.functional as F\n",
        "import torch.optim as optim\n",
        "from torch.utils.data import Dataset\n",
        "from torch.utils.data import DataLoader\n",
        "\n",
        "import torch.nn.utils.prune as prune\n",
        "\n",
        "from copy import deepcopy\n",
        "\n",
        "from tqdm import tqdm\n",
        "import os\n",
        "\n",
        "import numpy as np\n",
        "import matplotlib.pyplot as plt\n",
        "\n",
        "from types import SimpleNamespace"
      ]
    },
    {
      "cell_type": "markdown",
      "metadata": {
        "id": "Yci_s3iDs1Mm"
      },
      "source": [
        "# Data functions"
      ]
    },
    {
      "cell_type": "code",
      "execution_count": 2,
      "metadata": {
        "id": "wgzl99bdtK7G"
      },
      "outputs": [],
      "source": [
        "def generate_data(data_config):\n",
        "    # n = 128\n",
        "    # k = 7\n",
        "    num_points = data_config.num_points\n",
        "    n = data_config.n\n",
        "    k = data_config.k\n",
        "    alpha = data_config.alpha\n",
        "    bias = data_config.bias\n",
        "\n",
        "    data = torch.zeros(num_points, n)\n",
        "    \n",
        "    # Generate alpha fraction of points with {-1, 1} coordinates\n",
        "    alpha_points = int(num_points * alpha)\n",
        "    if alpha > 0.0:\n",
        "        probabilities = torch.tensor([1-bias, bias])\n",
        "        alpha_data = torch.multinomial(probabilities, alpha_points * n, replacement=True).view(alpha_points, n).type(torch.FloatTensor)\n",
        "        alpha_data = alpha_data * 2 - 1\n",
        "        data[:alpha_points] = alpha_data\n",
        "    \n",
        "    # Generate (1-alpha) fraction of points with {-1, 1} coordinates\n",
        "    uniform_points = num_points - alpha_points\n",
        "    uniform_data = torch.randint(0, 2, size=(uniform_points, n)).type(torch.FloatTensor)\n",
        "    uniform_data = uniform_data * 2 - 1\n",
        "    data[alpha_points:] = uniform_data\n",
        "\n",
        "    indices = torch.randint(0, n, (k,))\n",
        "    selected_columns = data.index_select(1, indices)\n",
        "    labels = torch.prod(selected_columns, dim=1)\n",
        "    labels = (labels + 1) / 2\n",
        "    \n",
        "    return data,labels.long()\n",
        "\n",
        "class CustomDataset(Dataset):\n",
        "    def __init__(self, x, y, transform=None):\n",
        "        self.x = x\n",
        "        self.y = y\n",
        "        self.transform = transform\n",
        "\n",
        "    def __len__(self):\n",
        "        return len(self.x)\n",
        "\n",
        "    def __getitem__(self, idx):\n",
        "        sample_x = self.x[idx]\n",
        "        sample_y = self.y[idx]\n",
        "\n",
        "        if self.transform:\n",
        "            sample_x, sample_y = self.transform(sample_x, sample_y)\n",
        "\n",
        "        return sample_x, sample_y"
      ]
    },
    {
      "cell_type": "markdown",
      "metadata": {
        "id": "3ikUnEJVwRei"
      },
      "source": [
        "# Models\n"
      ]
    },
    {
      "cell_type": "code",
      "execution_count": 3,
      "metadata": {
        "id": "LzvqA-FRwVVY"
      },
      "outputs": [],
      "source": [
        "class DNN(nn.Module):\n",
        "    def __init__(self, dim_in, dim_out, width, depth):\n",
        "        super(DNN, self).__init__()\n",
        "        self.depth = depth\n",
        "        self.layers = nn.ModuleList([nn.Linear(dim_in if i == 0 else width, width) for i in range(self.depth)])\n",
        "        self.output_layer = nn.Linear(width, dim_out)\n",
        "        self.relu = nn.ReLU()\n",
        "\n",
        "    def forward(self, x):\n",
        "        for layer in self.layers:\n",
        "            x = self.relu(layer(x))\n",
        "        x = self.output_layer(x)\n",
        "        return x"
      ]
    },
    {
      "cell_type": "markdown",
      "metadata": {
        "id": "dMpRYgpoxEJf"
      },
      "source": [
        "# Configs"
      ]
    },
    {
      "cell_type": "code",
      "execution_count": 24,
      "metadata": {
        "id": "Nz3C2i92xG4c"
      },
      "outputs": [],
      "source": [
        "\n",
        "model_config = SimpleNamespace(\n",
        "    width=64,\n",
        "    depth=2\n",
        ")\n",
        "\n",
        "data_config = SimpleNamespace(\n",
        "    num_points=10000,\n",
        "    n=40,\n",
        "    k=3,\n",
        "    alpha=0.0,\n",
        "    bias=0.5,\n",
        "    dim_out=2\n",
        ")    \n",
        "\n",
        "train_config = SimpleNamespace(\n",
        "    batch_size=32,\n",
        "    lr=0.01,\n",
        "    epochs=100\n",
        ")\n"
      ]
    },
    {
      "cell_type": "markdown",
      "metadata": {
        "id": "7BEZbB2Ps18N"
      },
      "source": [
        "# Training"
      ]
    },
    {
      "cell_type": "code",
      "execution_count": 12,
      "metadata": {
        "id": "2VUhFr590ybb"
      },
      "outputs": [],
      "source": [
        "device = torch.device(\"cuda:1\" if torch.cuda.is_available() else \"cpu\")"
      ]
    },
    {
      "cell_type": "code",
      "execution_count": 13,
      "metadata": {
        "id": "cMMdrJJitsUq"
      },
      "outputs": [],
      "source": [
        "x_train,y_train= generate_data(data_config)\n",
        "x_test,y_test= generate_data(data_config)\n",
        "data = [x_train, y_train, x_test, y_test]"
      ]
    },
    {
      "cell_type": "code",
      "execution_count": 14,
      "metadata": {
        "id": "XrkZpOuWvJwj"
      },
      "outputs": [],
      "source": [
        "# Create DataLoaders for train and test datasets\n",
        "batch_size = 32\n",
        "\n",
        "# Assuming you have a custom Dataset class, you can create instances like this:\n",
        "train_dataset = CustomDataset(x_train, y_train)\n",
        "test_dataset = CustomDataset(x_test, y_test)\n",
        "\n",
        "# Create DataLoaders\n",
        "train_dataloader = DataLoader(train_dataset, batch_size=batch_size, shuffle=True)\n",
        "test_dataloader = DataLoader(test_dataset, batch_size=batch_size, shuffle=False)"
      ]
    },
    {
      "cell_type": "code",
      "execution_count": 25,
      "metadata": {
        "id": "diQWbC5aw32C"
      },
      "outputs": [],
      "source": [
        "model = DNN(dim_in=data_config.n, dim_out=data_config.dim_out, width=model_config.width, depth=model_config.depth)\n",
        "loss_fn = nn.CrossEntropyLoss()\n",
        "optimizer = torch.optim.Adam(model.parameters(), lr=train_config.lr)"
      ]
    },
    {
      "cell_type": "code",
      "execution_count": 16,
      "metadata": {
        "id": "HkxSrBb4ziwR"
      },
      "outputs": [],
      "source": [
        "def train(model,loss_fn,optimizer,train_dataloader,\n",
        "          data,num_epochs=train_config.epochs,log_epochs=10,log_acc=10,thresh=1e-5,print_std=True):\n",
        "  [x_train,y_train,x_test,y_test]=data\n",
        "  model.to(device)\n",
        "  Train_losses=[]\n",
        "  acc_dict = {'train':[],'test':[]}\n",
        "  for epoch in range(num_epochs):\n",
        "      model.train()\n",
        "      for x_batch, y_batch in train_dataloader:\n",
        "          x_batch = x_batch.to(device)\n",
        "          y_batch = y_batch.to(device)\n",
        "          pred = model(x_batch)\n",
        "          loss = loss_fn(pred, y_batch)\n",
        "          loss.backward()\n",
        "          optimizer.step()\n",
        "          optimizer.zero_grad()\n",
        "\n",
        "\n",
        "      if epoch % log_epochs == 0:\n",
        "          loss_full = loss_fn(model(x_train.to(device)),y_train.to(device))\n",
        "          Train_losses.append(loss_full.item())\n",
        "          print(f'Epoch {epoch} Loss {loss_full.item():.4f}')\n",
        "      if log_acc!=0:\n",
        "        if epoch % log_acc == 0:\n",
        "          train_pred = model(x_train.to(device))\n",
        "          pred = torch.argmax(model(x_train.to(device)),dim=1)\n",
        "          zero_mask = (pred-y_train.to(device) == 0.0)\n",
        "          train_acc = zero_mask.sum().item()/len(y_train)\n",
        "          acc_dict['train'].append(train_acc)\n",
        "\n",
        "          test_pred = model(x_test.to(device))[:,0]\n",
        "          pred = torch.argmax(model(x_test.to(device)),dim=1)\n",
        "          zero_mask = (pred-y_test.to(device) == 0.0)\n",
        "          test_acc = zero_mask.sum().item()/len(y_test)\n",
        "          acc_dict['test'].append(test_acc)\n",
        "\n",
        "          if print_std:\n",
        "            print(f'Epoch {epoch} train_acc {train_acc} test_acc {test_acc}')\n",
        "      # if loss_full.item() < thresh:\n",
        "      #     print(f'Early stopping at epoch {epoch} because loss is below 0.01')\n",
        "      #     break\n",
        "\n",
        "  return Train_losses,acc_dict"
      ]
    },
    {
      "cell_type": "code",
      "execution_count": 17,
      "metadata": {
        "colab": {
          "base_uri": "https://localhost:8080/"
        },
        "id": "YVP7CC6l1Il0",
        "outputId": "cbc5c26e-520e-47fa-be90-a112c01d7803"
      },
      "outputs": [
        {
          "name": "stdout",
          "output_type": "stream",
          "text": [
            "Epoch 0 Loss 0.0003\n",
            "Epoch 0 train_acc 1.0 test_acc 0.4888\n",
            "Epoch 10 Loss 0.0000\n",
            "Epoch 10 train_acc 1.0 test_acc 0.4889\n",
            "Epoch 20 Loss 0.0000\n",
            "Epoch 20 train_acc 1.0 test_acc 0.4889\n",
            "Epoch 30 Loss 0.0000\n",
            "Epoch 30 train_acc 1.0 test_acc 0.4889\n",
            "Epoch 40 Loss 0.0000\n",
            "Epoch 40 train_acc 1.0 test_acc 0.4889\n",
            "Epoch 50 Loss 0.0000\n",
            "Epoch 50 train_acc 1.0 test_acc 0.4889\n",
            "Epoch 60 Loss 0.0000\n",
            "Epoch 60 train_acc 1.0 test_acc 0.4889\n",
            "Epoch 70 Loss 0.0000\n",
            "Epoch 70 train_acc 1.0 test_acc 0.4889\n",
            "Epoch 80 Loss 0.0000\n",
            "Epoch 80 train_acc 1.0 test_acc 0.4889\n",
            "Epoch 90 Loss 0.0000\n",
            "Epoch 90 train_acc 1.0 test_acc 0.4889\n"
          ]
        }
      ],
      "source": [
        "losses, acc_dict = train(model,loss_fn,optimizer,train_dataloader,data)"
      ]
    },
    {
      "cell_type": "markdown",
      "metadata": {
        "id": "6qunqIvXVyp9"
      },
      "source": [
        "## Pruning"
      ]
    },
    {
      "cell_type": "code",
      "execution_count": 26,
      "metadata": {
        "colab": {
          "base_uri": "https://localhost:8080/"
        },
        "id": "Oaqx3cYxV1Ps",
        "outputId": "1753670f-5a54-44ea-90b1-961af83ee189"
      },
      "outputs": [
        {
          "name": "stderr",
          "output_type": "stream",
          "text": [
            "  0%|          | 0/15 [00:00<?, ?it/s]"
          ]
        },
        {
          "name": "stdout",
          "output_type": "stream",
          "text": [
            "Epoch 0 Loss 0.0006\n",
            "Epoch 0 train_acc 0.9999 test_acc 0.489\n",
            "Epoch 10 Loss 0.0000\n",
            "Epoch 10 train_acc 1.0 test_acc 0.4889\n",
            "Epoch 20 Loss 0.0000\n",
            "Epoch 20 train_acc 1.0 test_acc 0.4889\n",
            "Epoch 30 Loss 0.0000\n",
            "Epoch 30 train_acc 1.0 test_acc 0.4889\n",
            "Epoch 40 Loss 0.0000\n",
            "Epoch 40 train_acc 1.0 test_acc 0.4889\n",
            "Epoch 50 Loss 0.0000\n",
            "Epoch 50 train_acc 1.0 test_acc 0.4889\n",
            "Epoch 60 Loss 0.0000\n",
            "Epoch 60 train_acc 1.0 test_acc 0.4889\n",
            "Epoch 70 Loss 0.0000\n",
            "Epoch 70 train_acc 1.0 test_acc 0.4889\n",
            "Epoch 80 Loss 0.0000\n",
            "Epoch 80 train_acc 1.0 test_acc 0.4889\n",
            "Epoch 90 Loss 0.0000\n",
            "Epoch 90 train_acc 1.0 test_acc 0.4889\n"
          ]
        },
        {
          "name": "stderr",
          "output_type": "stream",
          "text": [
            "  7%|▋         | 1/15 [00:31<07:23, 31.64s/it]"
          ]
        },
        {
          "name": "stdout",
          "output_type": "stream",
          "text": [
            "Epoch 0 Loss 0.4898\n",
            "Epoch 0 train_acc 0.7889 test_acc 0.4945\n",
            "Epoch 10 Loss 0.0004\n",
            "Epoch 10 train_acc 1.0 test_acc 0.4889\n",
            "Epoch 20 Loss 0.0001\n",
            "Epoch 20 train_acc 1.0 test_acc 0.4889\n",
            "Epoch 30 Loss 0.0000\n",
            "Epoch 30 train_acc 1.0 test_acc 0.4889\n",
            "Epoch 40 Loss 0.0000\n",
            "Epoch 40 train_acc 1.0 test_acc 0.4889\n",
            "Epoch 50 Loss 0.0000\n",
            "Epoch 50 train_acc 1.0 test_acc 0.4889\n",
            "Epoch 60 Loss 0.0000\n",
            "Epoch 60 train_acc 1.0 test_acc 0.4889\n",
            "Epoch 70 Loss 0.0000\n",
            "Epoch 70 train_acc 1.0 test_acc 0.4889\n",
            "Epoch 80 Loss 0.0000\n",
            "Epoch 80 train_acc 1.0 test_acc 0.4889\n",
            "Epoch 90 Loss 0.0000\n",
            "Epoch 90 train_acc 1.0 test_acc 0.4889\n"
          ]
        },
        {
          "name": "stderr",
          "output_type": "stream",
          "text": [
            " 13%|█▎        | 2/15 [01:07<07:26, 34.37s/it]"
          ]
        },
        {
          "name": "stdout",
          "output_type": "stream",
          "text": [
            "Epoch 0 Loss 0.2237\n",
            "Epoch 0 train_acc 0.9636 test_acc 0.4919\n",
            "Epoch 10 Loss 0.0003\n",
            "Epoch 10 train_acc 1.0 test_acc 0.4889\n",
            "Epoch 20 Loss 0.0001\n",
            "Epoch 20 train_acc 1.0 test_acc 0.4889\n",
            "Epoch 30 Loss 0.0000\n",
            "Epoch 30 train_acc 1.0 test_acc 0.4889\n",
            "Epoch 40 Loss 0.0000\n",
            "Epoch 40 train_acc 1.0 test_acc 0.4889\n",
            "Epoch 50 Loss 0.0000\n",
            "Epoch 50 train_acc 1.0 test_acc 0.4889\n",
            "Epoch 60 Loss 0.0000\n",
            "Epoch 60 train_acc 1.0 test_acc 0.4889\n",
            "Epoch 70 Loss 0.0000\n",
            "Epoch 70 train_acc 1.0 test_acc 0.4889\n",
            "Epoch 80 Loss 0.0000\n",
            "Epoch 80 train_acc 1.0 test_acc 0.4889\n",
            "Epoch 90 Loss 0.0000\n",
            "Epoch 90 train_acc 1.0 test_acc 0.4889\n"
          ]
        },
        {
          "name": "stderr",
          "output_type": "stream",
          "text": [
            " 20%|██        | 3/15 [01:44<07:03, 35.29s/it]"
          ]
        },
        {
          "name": "stdout",
          "output_type": "stream",
          "text": [
            "Epoch 0 Loss 0.0000\n",
            "Epoch 0 train_acc 1.0 test_acc 0.4889\n",
            "Epoch 10 Loss 0.0000\n",
            "Epoch 10 train_acc 1.0 test_acc 0.4889\n",
            "Epoch 20 Loss 0.0000\n",
            "Epoch 20 train_acc 1.0 test_acc 0.4889\n",
            "Epoch 30 Loss 0.0000\n",
            "Epoch 30 train_acc 1.0 test_acc 0.4889\n",
            "Epoch 40 Loss 0.0000\n",
            "Epoch 40 train_acc 1.0 test_acc 0.4889\n",
            "Epoch 50 Loss 0.0000\n",
            "Epoch 50 train_acc 1.0 test_acc 0.4889\n",
            "Epoch 60 Loss 0.0000\n",
            "Epoch 60 train_acc 1.0 test_acc 0.4889\n",
            "Epoch 70 Loss 0.0000\n",
            "Epoch 70 train_acc 1.0 test_acc 0.4889\n",
            "Epoch 80 Loss 0.0000\n",
            "Epoch 80 train_acc 1.0 test_acc 0.4889\n",
            "Epoch 90 Loss 0.0000\n",
            "Epoch 90 train_acc 1.0 test_acc 0.4889\n"
          ]
        },
        {
          "name": "stderr",
          "output_type": "stream",
          "text": [
            " 27%|██▋       | 4/15 [02:21<06:38, 36.19s/it]"
          ]
        },
        {
          "name": "stdout",
          "output_type": "stream",
          "text": [
            "Epoch 0 Loss 0.0000\n",
            "Epoch 0 train_acc 1.0 test_acc 0.4889\n",
            "Epoch 10 Loss 0.0000\n",
            "Epoch 10 train_acc 1.0 test_acc 0.4889\n",
            "Epoch 20 Loss 0.0000\n",
            "Epoch 20 train_acc 1.0 test_acc 0.4889\n",
            "Epoch 30 Loss 0.0000\n",
            "Epoch 30 train_acc 1.0 test_acc 0.4889\n",
            "Epoch 40 Loss 0.0000\n",
            "Epoch 40 train_acc 1.0 test_acc 0.4889\n",
            "Epoch 50 Loss 0.0000\n",
            "Epoch 50 train_acc 1.0 test_acc 0.4889\n",
            "Epoch 60 Loss 0.0000\n",
            "Epoch 60 train_acc 1.0 test_acc 0.4889\n",
            "Epoch 70 Loss 0.0000\n",
            "Epoch 70 train_acc 1.0 test_acc 0.4889\n",
            "Epoch 80 Loss 0.0000\n",
            "Epoch 80 train_acc 1.0 test_acc 0.4889\n",
            "Epoch 90 Loss 0.0000\n",
            "Epoch 90 train_acc 1.0 test_acc 0.4889\n"
          ]
        },
        {
          "name": "stderr",
          "output_type": "stream",
          "text": [
            " 33%|███▎      | 5/15 [02:59<06:05, 36.53s/it]"
          ]
        },
        {
          "name": "stdout",
          "output_type": "stream",
          "text": [
            "Epoch 0 Loss 0.0000\n",
            "Epoch 0 train_acc 1.0 test_acc 0.4889\n",
            "Epoch 10 Loss 0.0000\n",
            "Epoch 10 train_acc 1.0 test_acc 0.4889\n",
            "Epoch 20 Loss 0.0000\n",
            "Epoch 20 train_acc 1.0 test_acc 0.4889\n",
            "Epoch 30 Loss 0.0000\n",
            "Epoch 30 train_acc 1.0 test_acc 0.4889\n",
            "Epoch 40 Loss 0.0000\n",
            "Epoch 40 train_acc 1.0 test_acc 0.4889\n",
            "Epoch 50 Loss 0.0000\n",
            "Epoch 50 train_acc 1.0 test_acc 0.4889\n",
            "Epoch 60 Loss 0.0000\n",
            "Epoch 60 train_acc 1.0 test_acc 0.4889\n",
            "Epoch 70 Loss 0.0000\n",
            "Epoch 70 train_acc 1.0 test_acc 0.4889\n",
            "Epoch 80 Loss 0.0000\n",
            "Epoch 80 train_acc 1.0 test_acc 0.4889\n",
            "Epoch 90 Loss 0.0000\n",
            "Epoch 90 train_acc 1.0 test_acc 0.4889\n"
          ]
        },
        {
          "name": "stderr",
          "output_type": "stream",
          "text": [
            " 40%|████      | 6/15 [03:35<05:28, 36.53s/it]"
          ]
        },
        {
          "name": "stdout",
          "output_type": "stream",
          "text": [
            "Epoch 0 Loss 0.0000\n",
            "Epoch 0 train_acc 1.0 test_acc 0.4889\n",
            "Epoch 10 Loss 0.0000\n",
            "Epoch 10 train_acc 1.0 test_acc 0.4889\n",
            "Epoch 20 Loss 0.0000\n",
            "Epoch 20 train_acc 1.0 test_acc 0.4889\n",
            "Epoch 30 Loss 0.0000\n",
            "Epoch 30 train_acc 1.0 test_acc 0.4889\n",
            "Epoch 40 Loss 0.0000\n",
            "Epoch 40 train_acc 1.0 test_acc 0.4889\n",
            "Epoch 50 Loss 0.0000\n",
            "Epoch 50 train_acc 1.0 test_acc 0.4889\n",
            "Epoch 60 Loss 0.0000\n",
            "Epoch 60 train_acc 1.0 test_acc 0.4889\n",
            "Epoch 70 Loss 0.0000\n",
            "Epoch 70 train_acc 1.0 test_acc 0.4889\n",
            "Epoch 80 Loss 0.0000\n",
            "Epoch 80 train_acc 1.0 test_acc 0.4889\n",
            "Epoch 90 Loss 0.0000\n",
            "Epoch 90 train_acc 1.0 test_acc 0.4889\n"
          ]
        },
        {
          "name": "stderr",
          "output_type": "stream",
          "text": [
            " 47%|████▋     | 7/15 [04:11<04:50, 36.25s/it]"
          ]
        },
        {
          "name": "stdout",
          "output_type": "stream",
          "text": [
            "Epoch 0 Loss 0.0033\n",
            "Epoch 0 train_acc 1.0 test_acc 0.4889\n",
            "Epoch 10 Loss 0.0001\n",
            "Epoch 10 train_acc 1.0 test_acc 0.4889\n",
            "Epoch 20 Loss 0.0000\n",
            "Epoch 20 train_acc 1.0 test_acc 0.4889\n",
            "Epoch 30 Loss 0.0000\n",
            "Epoch 30 train_acc 1.0 test_acc 0.4889\n",
            "Epoch 40 Loss 0.0000\n",
            "Epoch 40 train_acc 1.0 test_acc 0.4889\n",
            "Epoch 50 Loss 0.0000\n",
            "Epoch 50 train_acc 1.0 test_acc 0.4889\n",
            "Epoch 60 Loss 0.0000\n",
            "Epoch 60 train_acc 1.0 test_acc 0.4889\n",
            "Epoch 70 Loss 0.0000\n",
            "Epoch 70 train_acc 1.0 test_acc 0.4889\n",
            "Epoch 80 Loss 0.0000\n",
            "Epoch 80 train_acc 1.0 test_acc 0.4889\n",
            "Epoch 90 Loss 0.0000\n",
            "Epoch 90 train_acc 1.0 test_acc 0.4889\n"
          ]
        },
        {
          "name": "stderr",
          "output_type": "stream",
          "text": [
            " 53%|█████▎    | 8/15 [04:47<04:13, 36.28s/it]"
          ]
        },
        {
          "name": "stdout",
          "output_type": "stream",
          "text": [
            "Epoch 0 Loss 0.0003\n",
            "Epoch 0 train_acc 1.0 test_acc 0.4889\n",
            "Epoch 10 Loss 0.0000\n",
            "Epoch 10 train_acc 1.0 test_acc 0.4889\n",
            "Epoch 20 Loss 0.0000\n",
            "Epoch 20 train_acc 1.0 test_acc 0.4889\n",
            "Epoch 30 Loss 0.0000\n",
            "Epoch 30 train_acc 1.0 test_acc 0.4889\n",
            "Epoch 40 Loss 0.0000\n",
            "Epoch 40 train_acc 1.0 test_acc 0.4889\n",
            "Epoch 50 Loss 0.0000\n",
            "Epoch 50 train_acc 1.0 test_acc 0.4889\n",
            "Epoch 60 Loss 0.0000\n",
            "Epoch 60 train_acc 1.0 test_acc 0.4889\n",
            "Epoch 70 Loss 0.0000\n",
            "Epoch 70 train_acc 1.0 test_acc 0.4889\n",
            "Epoch 80 Loss 0.0000\n",
            "Epoch 80 train_acc 1.0 test_acc 0.4889\n",
            "Epoch 90 Loss 0.0000\n",
            "Epoch 90 train_acc 1.0 test_acc 0.4889\n"
          ]
        },
        {
          "name": "stderr",
          "output_type": "stream",
          "text": [
            " 60%|██████    | 9/15 [05:23<03:36, 36.10s/it]"
          ]
        },
        {
          "name": "stdout",
          "output_type": "stream",
          "text": [
            "Epoch 0 Loss 0.5618\n",
            "Epoch 0 train_acc 0.7513 test_acc 0.4969\n",
            "Epoch 10 Loss 0.5614\n",
            "Epoch 10 train_acc 0.7513 test_acc 0.4969\n",
            "Epoch 20 Loss 0.5616\n",
            "Epoch 20 train_acc 0.7513 test_acc 0.4969\n",
            "Epoch 30 Loss 0.5613\n",
            "Epoch 30 train_acc 0.7513 test_acc 0.4969\n",
            "Epoch 40 Loss 0.5611\n",
            "Epoch 40 train_acc 0.7513 test_acc 0.4969\n",
            "Epoch 50 Loss 0.5622\n",
            "Epoch 50 train_acc 0.7513 test_acc 0.4969\n",
            "Epoch 60 Loss 0.5613\n",
            "Epoch 60 train_acc 0.7513 test_acc 0.4969\n",
            "Epoch 70 Loss 0.5616\n",
            "Epoch 70 train_acc 0.7513 test_acc 0.4969\n",
            "Epoch 80 Loss 0.5617\n",
            "Epoch 80 train_acc 0.7513 test_acc 0.4969\n",
            "Epoch 90 Loss 0.5614\n",
            "Epoch 90 train_acc 0.7513 test_acc 0.4969\n"
          ]
        },
        {
          "name": "stderr",
          "output_type": "stream",
          "text": [
            " 67%|██████▋   | 10/15 [06:00<03:01, 36.31s/it]"
          ]
        },
        {
          "name": "stdout",
          "output_type": "stream",
          "text": [
            "Epoch 0 Loss 0.6684\n",
            "Epoch 0 train_acc 0.6247 test_acc 0.4964\n",
            "Epoch 10 Loss 0.6597\n",
            "Epoch 10 train_acc 0.6247 test_acc 0.4964\n",
            "Epoch 20 Loss 0.6595\n",
            "Epoch 20 train_acc 0.6247 test_acc 0.4964\n",
            "Epoch 30 Loss 0.6610\n",
            "Epoch 30 train_acc 0.6247 test_acc 0.4964\n",
            "Epoch 40 Loss 0.6600\n",
            "Epoch 40 train_acc 0.6247 test_acc 0.4964\n",
            "Epoch 50 Loss 0.6595\n",
            "Epoch 50 train_acc 0.6247 test_acc 0.4964\n",
            "Epoch 60 Loss 0.6601\n",
            "Epoch 60 train_acc 0.6247 test_acc 0.4964\n",
            "Epoch 70 Loss 0.6600\n",
            "Epoch 70 train_acc 0.6247 test_acc 0.4964\n",
            "Epoch 80 Loss 0.6596\n",
            "Epoch 80 train_acc 0.6247 test_acc 0.4964\n",
            "Epoch 90 Loss 0.6595\n",
            "Epoch 90 train_acc 0.6247 test_acc 0.4964\n"
          ]
        },
        {
          "name": "stderr",
          "output_type": "stream",
          "text": [
            " 73%|███████▎  | 11/15 [06:36<02:25, 36.41s/it]"
          ]
        },
        {
          "name": "stdout",
          "output_type": "stream",
          "text": [
            "Epoch 0 Loss 0.6932\n",
            "Epoch 0 train_acc 0.5003 test_acc 0.5031\n",
            "Epoch 10 Loss 0.6948\n",
            "Epoch 10 train_acc 0.5003 test_acc 0.5031\n",
            "Epoch 20 Loss 0.6942\n",
            "Epoch 20 train_acc 0.4997 test_acc 0.4969\n",
            "Epoch 30 Loss 0.6932\n",
            "Epoch 30 train_acc 0.5003 test_acc 0.5031\n",
            "Epoch 40 Loss 0.6933\n",
            "Epoch 40 train_acc 0.4997 test_acc 0.4969\n",
            "Epoch 50 Loss 0.6934\n",
            "Epoch 50 train_acc 0.4997 test_acc 0.4969\n",
            "Epoch 60 Loss 0.6932\n",
            "Epoch 60 train_acc 0.5003 test_acc 0.5031\n",
            "Epoch 70 Loss 0.6932\n",
            "Epoch 70 train_acc 0.4997 test_acc 0.4969\n",
            "Epoch 80 Loss 0.6950\n",
            "Epoch 80 train_acc 0.5003 test_acc 0.5031\n",
            "Epoch 90 Loss 0.6933\n",
            "Epoch 90 train_acc 0.4997 test_acc 0.4969\n"
          ]
        },
        {
          "name": "stderr",
          "output_type": "stream",
          "text": [
            " 80%|████████  | 12/15 [07:12<01:49, 36.35s/it]"
          ]
        },
        {
          "name": "stdout",
          "output_type": "stream",
          "text": [
            "Epoch 0 Loss 0.6932\n",
            "Epoch 0 train_acc 0.5003 test_acc 0.5031\n",
            "Epoch 10 Loss 0.6938\n",
            "Epoch 10 train_acc 0.5003 test_acc 0.5031\n",
            "Epoch 20 Loss 0.6939\n",
            "Epoch 20 train_acc 0.5003 test_acc 0.5031\n",
            "Epoch 30 Loss 0.6936\n",
            "Epoch 30 train_acc 0.4997 test_acc 0.4969\n",
            "Epoch 40 Loss 0.6931\n",
            "Epoch 40 train_acc 0.5003 test_acc 0.5031\n",
            "Epoch 50 Loss 0.6945\n",
            "Epoch 50 train_acc 0.4997 test_acc 0.4969\n",
            "Epoch 60 Loss 0.6932\n",
            "Epoch 60 train_acc 0.4997 test_acc 0.4969\n",
            "Epoch 70 Loss 0.6934\n",
            "Epoch 70 train_acc 0.4997 test_acc 0.4969\n",
            "Epoch 80 Loss 0.6934\n",
            "Epoch 80 train_acc 0.4997 test_acc 0.4969\n",
            "Epoch 90 Loss 0.6932\n",
            "Epoch 90 train_acc 0.5003 test_acc 0.5031\n"
          ]
        },
        {
          "name": "stderr",
          "output_type": "stream",
          "text": [
            " 87%|████████▋ | 13/15 [07:49<01:12, 36.41s/it]"
          ]
        },
        {
          "name": "stdout",
          "output_type": "stream",
          "text": [
            "Epoch 0 Loss 0.6933\n",
            "Epoch 0 train_acc 0.5003 test_acc 0.5031\n",
            "Epoch 10 Loss 0.6932\n",
            "Epoch 10 train_acc 0.4997 test_acc 0.4969\n",
            "Epoch 20 Loss 0.6935\n",
            "Epoch 20 train_acc 0.4997 test_acc 0.4969\n",
            "Epoch 30 Loss 0.6933\n",
            "Epoch 30 train_acc 0.4997 test_acc 0.4969\n",
            "Epoch 40 Loss 0.6933\n",
            "Epoch 40 train_acc 0.4997 test_acc 0.4969\n",
            "Epoch 50 Loss 0.6938\n",
            "Epoch 50 train_acc 0.4997 test_acc 0.4969\n",
            "Epoch 60 Loss 0.6931\n",
            "Epoch 60 train_acc 0.4997 test_acc 0.4969\n",
            "Epoch 70 Loss 0.6932\n",
            "Epoch 70 train_acc 0.4997 test_acc 0.4969\n",
            "Epoch 80 Loss 0.6932\n",
            "Epoch 80 train_acc 0.4997 test_acc 0.4969\n",
            "Epoch 90 Loss 0.6937\n",
            "Epoch 90 train_acc 0.4997 test_acc 0.4969\n"
          ]
        },
        {
          "name": "stderr",
          "output_type": "stream",
          "text": [
            " 93%|█████████▎| 14/15 [08:25<00:36, 36.23s/it]"
          ]
        },
        {
          "name": "stdout",
          "output_type": "stream",
          "text": [
            "Epoch 0 Loss 0.6935\n",
            "Epoch 0 train_acc 0.5003 test_acc 0.5031\n",
            "Epoch 10 Loss 0.6932\n",
            "Epoch 10 train_acc 0.5003 test_acc 0.5031\n",
            "Epoch 20 Loss 0.6935\n",
            "Epoch 20 train_acc 0.5003 test_acc 0.5031\n",
            "Epoch 30 Loss 0.6934\n",
            "Epoch 30 train_acc 0.5003 test_acc 0.5031\n",
            "Epoch 40 Loss 0.6931\n",
            "Epoch 40 train_acc 0.4997 test_acc 0.4969\n",
            "Epoch 50 Loss 0.6936\n",
            "Epoch 50 train_acc 0.5003 test_acc 0.5031\n",
            "Epoch 60 Loss 0.6935\n",
            "Epoch 60 train_acc 0.4997 test_acc 0.4969\n",
            "Epoch 70 Loss 0.6938\n",
            "Epoch 70 train_acc 0.5003 test_acc 0.5031\n",
            "Epoch 80 Loss 0.6937\n",
            "Epoch 80 train_acc 0.4997 test_acc 0.4969\n",
            "Epoch 90 Loss 0.6935\n",
            "Epoch 90 train_acc 0.4997 test_acc 0.4969\n"
          ]
        },
        {
          "name": "stderr",
          "output_type": "stream",
          "text": [
            "                                               \r"
          ]
        }
      ],
      "source": [
        "INITIAL_WEIGHTS = deepcopy(model.state_dict())\n",
        "prune_epochs=15\n",
        "p = 0.2\n",
        "losses = {}\n",
        "acc_dict = {}\n",
        "for n in tqdm(range(1, prune_epochs + 1), total=prune_epochs, leave=False):\n",
        "\n",
        "  losses[n], acc_dict[n] = train(model,loss_fn,optimizer,train_dataloader,data)\n",
        "\n",
        "  pruning_rate = p ** (1 / n**0.5)\n",
        "\n",
        "  # Prune the model\n",
        "  prune.l1_unstructured(model.layers[0], name=\"weight\", amount=pruning_rate)\n",
        "  prune.l1_unstructured(model.layers[1], name=\"weight\", amount=pruning_rate)\n",
        "  prune.l1_unstructured(model.output_layer, name=\"weight\", amount=pruning_rate/2)\n",
        "\n",
        "  # Reset weights\n",
        "  reseted_weights = deepcopy(model.state_dict())\n",
        "  for param in reseted_weights.keys():\n",
        "      if param.split(\".\")[-1].replace(\"_orig\", \"\") in (\"bias\", \"weight\"):\n",
        "          reseted_weights[param] = deepcopy(INITIAL_WEIGHTS[param.replace(\"_orig\", \"\")])\n",
        "  if n< prune_epochs-1:\n",
        "    model.load_state_dict(reseted_weights)"
      ]
    },
    {
      "cell_type": "code",
      "execution_count": null,
      "metadata": {
        "id": "scyMB0gHdgRf"
      },
      "outputs": [],
      "source": []
    },
    {
      "cell_type": "markdown",
      "metadata": {
        "id": "yyyfoYEXVvK3"
      },
      "source": [
        "## Probing"
      ]
    },
    {
      "cell_type": "code",
      "execution_count": 27,
      "metadata": {
        "colab": {
          "base_uri": "https://localhost:8080/",
          "height": 435
        },
        "id": "lpxcyy_6GEQC",
        "outputId": "f3422a4d-fcd4-42eb-ce29-43a1288698c9"
      },
      "outputs": [
        {
          "data": {
            "image/png": "[encoded data removed]",
            "text/plain": [
              "<Figure size 640x480 with 2 Axes>"
            ]
          },
          "metadata": {},
          "output_type": "display_data"
        }
      ],
      "source": [
        "#normalise weights1 row-wise\n",
        "wt_mat = model.layers[0].weight.data.detach().cpu()\n",
        "w1_normed=F.normalize(wt_mat,p=2,dim=1)\n",
        "#visualise w1_normed as heat-map just in absolute values\n",
        "plt.imshow(w1_normed.abs().numpy())\n",
        "plt.colorbar()\n",
        "plt.show()"
      ]
    },
    {
      "cell_type": "code",
      "execution_count": 28,
      "metadata": {
        "colab": {
          "base_uri": "https://localhost:8080/",
          "height": 435
        },
        "id": "uQUG66BWHeOd",
        "outputId": "a2dd0e78-e1ca-4898-f8ad-d6bd84ed44a1"
      },
      "outputs": [
        {
          "data": {
            "image/png": "[encoded data removed]",
            "text/plain": [
              "<Figure size 640x480 with 2 Axes>"
            ]
          },
          "metadata": {},
          "output_type": "display_data"
        }
      ],
      "source": [
        "#normalise weights1 row-wise\n",
        "wt_mat = model.layers[1].weight.data.detach().cpu()\n",
        "w1_normed=F.normalize(wt_mat,p=2,dim=1)\n",
        "#visualise w1_normed as heat-map just in absolute values\n",
        "plt.imshow(w1_normed.abs().numpy())\n",
        "plt.colorbar()\n",
        "plt.show()"
      ]
    }
  ],
  "metadata": {
    "colab": {
      "authorship_tag": "ABX9TyN1gu3P2Bvdjy5Le6WrC1E7",
      "include_colab_link": true,
      "provenance": []
    },
    "kernelspec": {
      "display_name": "Python 3",
      "name": "python3"
    },
    "language_info": {
      "codemirror_mode": {
        "name": "ipython",
        "version": 3
      },
      "file_extension": ".py",
      "mimetype": "text/x-python",
      "name": "python",
      "nbconvert_exporter": "python",
      "pygments_lexer": "ipython3",
      "version": "3.11.3"
    }
  },
  "nbformat": 4,
  "nbformat_minor": 0
}
