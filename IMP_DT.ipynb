{
  "cells": [
    {
      "cell_type": "markdown",
      "metadata": {
        "colab_type": "text",
        "id": "view-in-github"
      },
      "source": [
        "<a href=\"https://colab.research.google.com/github/Rohith-Rongali/IMP/blob/main/IMP_DT.ipynb\" target=\"_parent\"><img src=\"https://colab.research.google.com/assets/colab-badge.svg\" alt=\"Open In Colab\"/></a>"
      ]
    },
    {
      "cell_type": "markdown",
      "metadata": {
        "id": "sTt4FBrCswwi"
      },
      "source": [
        "# Imports"
      ]
    },
    {
      "cell_type": "code",
      "execution_count": 1,
      "metadata": {
        "id": "TkKwoTDlskqo"
      },
      "outputs": [],
      "source": [
        "import torch\n",
        "import torch.nn as nn\n",
        "import torch.nn.functional as F\n",
        "import torch.optim as optim\n",
        "from torch.utils.data import Dataset\n",
        "from torch.utils.data import DataLoader\n",
        "\n",
        "import torch.nn.utils.prune as prune\n",
        "\n",
        "from copy import deepcopy\n",
        "\n",
        "from tqdm import tqdm\n",
        "import os\n",
        "\n",
        "import numpy as np\n",
        "import matplotlib.pyplot as plt\n",
        "\n",
        "from types import SimpleNamespace"
      ]
    },
    {
      "cell_type": "markdown",
      "metadata": {
        "id": "Yci_s3iDs1Mm"
      },
      "source": [
        "# Data functions"
      ]
    },
    {
      "cell_type": "code",
      "execution_count": 2,
      "metadata": {
        "id": "wgzl99bdtK7G"
      },
      "outputs": [],
      "source": [
        "def generate_points(num=40000,dim=18,type='normal',normal_var=1,radius=1):\n",
        "    '''\n",
        "    If type=='normal', then generate points from N(0,normal_var)\n",
        "    If type=='spherical', then simply divide the points by their norm.'''\n",
        "    X = torch.randn([num,dim]) #coordinates sampled from N(0,1)\n",
        "\n",
        "    if type=='spherical':\n",
        "      norm = torch.norm(X, p=2, dim=1, keepdim=True)\n",
        "      X_spherical = X / norm\n",
        "      return X_spherical\n",
        "\n",
        "    elif type=='normal':\n",
        "      return X\n",
        "\n",
        "    else:\n",
        "      raise ValueError('type should be either normal or spherical')\n",
        "\n",
        "\n",
        "class TreeNode:\n",
        "    '''\n",
        "    This class represents a node in the decision tree.\n",
        "    Each node has a depth, a maximum depth(of the tree), a feature index, and left and right child nodes.\n",
        "    Leaf nodes have a value, which is the predicted class.\n",
        "    '''\n",
        "    def __init__(self, depth, max_depth, feature_index):\n",
        "        self.depth = depth\n",
        "        self.max_depth = max_depth\n",
        "        self.feature = feature_index\n",
        "        self.left = None\n",
        "        self.right = None\n",
        "        self.value = None  # This will store the predicted class for leaf nodes\n",
        "\n",
        "    def build_tree(self):\n",
        "        if self.depth == self.max_depth:\n",
        "            self.value = float(self.feature % 2)\n",
        "            return\n",
        "\n",
        "        # Create left and right child nodes\n",
        "        self.left = TreeNode(self.depth + 1, self.max_depth, 2*self.feature+1)\n",
        "        self.right = TreeNode(self.depth + 1, self.max_depth, 2*self.feature+2)\n",
        "\n",
        "        # Recursively build left and right subtrees\n",
        "        self.left.build_tree()\n",
        "        self.right.build_tree()\n",
        "\n",
        "    def predict(self, x):\n",
        "        if self.value is not None:\n",
        "            return self.value\n",
        "\n",
        "        if x[self.feature] > 0:\n",
        "            return self.left.predict(x)\n",
        "        else:\n",
        "            return self.right.predict(x)\n",
        "\n",
        "\n",
        "def gen_std_basis_DT(depth, dim_in, type_data, num_points, feat_index_start=0,radius=1):\n",
        "    '''\n",
        "    Generate points uniformly random from a hypersphere. And the label is the prediction of the tree with depth = max_depth.\n",
        "    The node hyperplanes are simply characterised by standard basis vectors(for example, the root node hyperplane is x[0] = 0)\n",
        "\n",
        "    '''\n",
        "    Tree = TreeNode(depth = 0,max_depth=depth,feature_index = feat_index_start)\n",
        "    Tree.build_tree()\n",
        "    X = generate_points(num=num_points,dim=dim_in,type=type_data,radius=radius)\n",
        "\n",
        "    Y=[]\n",
        "    for item in X:\n",
        "        Y.append(Tree.predict(item))\n",
        "\n",
        "    Y = torch.tensor(Y)\n",
        "    return X,Y\n",
        "\n",
        "\n",
        "\n",
        "\n",
        "def set_npseed(seed):\n",
        "\tnp.random.seed(seed)\n",
        "\n",
        "\n",
        "def set_torchseed(seed):\n",
        "\ttorch.manual_seed(seed)\n",
        "\ttorch.cuda.manual_seed(seed)\n",
        "\ttorch.cuda.manual_seed_all(seed)\n",
        "\ttorch.backends.cudnn.deterministic = True\n",
        "\ttorch.backends.cudnn.benchmark = False\n",
        "\n",
        "\n",
        "\n",
        "# depth = 4\n",
        "# dim_in = 18\n",
        "# type_data = 'normal'\n",
        "# feat_index_start = 0 #the index of the first feature in the tree\n",
        "# num_points = 40000\n",
        "\n",
        "\n",
        "#     Tree = TreeNode(depth = 0,max_depth=depth,feature_index = feat_index_start)\n",
        "#     Tree.build_tree()\n",
        "#     X = generate_points(num=num_points,dim=dim_in,type=type_data)\n",
        "\n",
        "#     Y=[]\n",
        "#     for item in X:\n",
        "#     Y.append(Tree.predict(item))\n",
        "\n",
        "#     Y = torch.tensor(Y)\n",
        "\n",
        "class CustomDataset(Dataset):\n",
        "    def __init__(self, x, y, transform=None):\n",
        "        self.x = x\n",
        "        self.y = y\n",
        "        self.transform = transform\n",
        "\n",
        "    def __len__(self):\n",
        "        return len(self.x)\n",
        "\n",
        "    def __getitem__(self, idx):\n",
        "        sample_x = self.x[idx]\n",
        "        sample_y = self.y[idx]\n",
        "\n",
        "        if self.transform:\n",
        "            sample_x, sample_y = self.transform(sample_x, sample_y)\n",
        "\n",
        "        return sample_x, sample_y\n",
        "\n",
        "def return_data_elements(DataConfig):\n",
        "    # returns [data] and data_loader\n",
        "\n",
        "    x_train,y_train = gen_std_basis_DT(depth = DataConfig.depth, dim_in = DataConfig.dim_in, num_points = DataConfig.num_points,type_data= DataConfig.type_data, radius = DataConfig.radius)\n",
        "    x_test,y_test = gen_std_basis_DT(depth = DataConfig.depth, dim_in = DataConfig.dim_in, num_points = DataConfig.num_points,type_data= DataConfig.type_data, radius = DataConfig.radius)\n",
        "    # x_train, x_test, y_train, y_test = train_test_split(\n",
        "    # X, Y, test_size=0.1, random_state=42, stratify=Y)\n",
        "\n",
        "    data = [x_train,y_train.long(),x_test,y_test.long()]\n",
        "\n",
        "    return data\n",
        "\n",
        "def loaders(data,batch_size=32):\n",
        "    x_train,y_train,x_test,y_test = data\n",
        "    train_dataset = CustomDataset(x_train, y_train)\n",
        "    test_dataset = CustomDataset(x_test, y_test)\n",
        "    train_dataloader = DataLoader(train_dataset, batch_size=batch_size, shuffle=True)\n",
        "    test_dataloader = DataLoader(test_dataset, batch_size=batch_size, shuffle=False)\n",
        "    return train_dataloader, test_dataloader"
      ]
    },
    {
      "cell_type": "markdown",
      "metadata": {
        "id": "3ikUnEJVwRei"
      },
      "source": [
        "# Models\n"
      ]
    },
    {
      "cell_type": "code",
      "execution_count": 3,
      "metadata": {
        "id": "LzvqA-FRwVVY"
      },
      "outputs": [],
      "source": [
        "class DNN(nn.Module):\n",
        "    def __init__(self, dim_in, dim_out, width, depth):\n",
        "        super(DNN, self).__init__()\n",
        "        self.depth = depth\n",
        "        self.layers = nn.ModuleList([nn.Linear(dim_in if i == 0 else width, width) for i in range(self.depth)])\n",
        "        self.output_layer = nn.Linear(width, dim_out)\n",
        "        self.relu = nn.ReLU()\n",
        "\n",
        "    def forward(self, x):\n",
        "        for layer in self.layers:\n",
        "            x = self.relu(layer(x))\n",
        "        x = self.output_layer(x)\n",
        "        return x"
      ]
    },
    {
      "cell_type": "markdown",
      "metadata": {
        "id": "dMpRYgpoxEJf"
      },
      "source": [
        "# Configs"
      ]
    },
    {
      "cell_type": "code",
      "execution_count": 4,
      "metadata": {
        "id": "Nz3C2i92xG4c"
      },
      "outputs": [],
      "source": [
        "\n",
        "model_config = SimpleNamespace(\n",
        "    width=256,\n",
        "    depth=2\n",
        ")\n",
        "\n",
        "data_config = SimpleNamespace(\n",
        "    dim_in=100,\n",
        "    depth=4,\n",
        "    type_data='spherical',\n",
        "    num_points=30000,\n",
        "    radius=1,\n",
        "    dim_out=2\n",
        ")\n",
        "\n",
        "train_config = SimpleNamespace(\n",
        "    batch_size=32,\n",
        "    lr=0.01,\n",
        "    epochs=100\n",
        ")\n"
      ]
    },
    {
      "cell_type": "markdown",
      "metadata": {
        "id": "7BEZbB2Ps18N"
      },
      "source": [
        "# Training"
      ]
    },
    {
      "cell_type": "code",
      "execution_count": 5,
      "metadata": {
        "id": "2VUhFr590ybb"
      },
      "outputs": [],
      "source": [
        "device = torch.device(\"cuda:2\" if torch.cuda.is_available() else \"cpu\")"
      ]
    },
    {
      "cell_type": "code",
      "execution_count": 6,
      "metadata": {},
      "outputs": [
        {
          "data": {
            "text/plain": [
              "device(type='cuda', index=2)"
            ]
          },
          "execution_count": 6,
          "metadata": {},
          "output_type": "execute_result"
        }
      ],
      "source": [
        "device"
      ]
    },
    {
      "cell_type": "code",
      "execution_count": 7,
      "metadata": {
        "id": "cMMdrJJitsUq"
      },
      "outputs": [],
      "source": [
        "data= return_data_elements(data_config)\n",
        "x_train,y_train,x_test,y_test = data"
      ]
    },
    {
      "cell_type": "code",
      "execution_count": 8,
      "metadata": {
        "id": "XrkZpOuWvJwj"
      },
      "outputs": [],
      "source": [
        "# Create DataLoaders for train and test datasets\n",
        "batch_size = 32\n",
        "\n",
        "# Assuming you have a custom Dataset class, you can create instances like this:\n",
        "train_dataset = CustomDataset(x_train, y_train)\n",
        "test_dataset = CustomDataset(x_test, y_test)\n",
        "\n",
        "# Create DataLoaders\n",
        "train_dataloader = DataLoader(train_dataset, batch_size=batch_size, shuffle=True)\n",
        "test_dataloader = DataLoader(test_dataset, batch_size=batch_size, shuffle=False)"
      ]
    },
    {
      "cell_type": "code",
      "execution_count": 23,
      "metadata": {
        "id": "diQWbC5aw32C"
      },
      "outputs": [],
      "source": [
        "model = DNN(dim_in=data_config.dim_in, dim_out=data_config.dim_out, width=model_config.width, depth=model_config.depth)\n",
        "loss_fn = nn.CrossEntropyLoss()\n",
        "optimizer = torch.optim.SGD(model.parameters(), lr=train_config.lr, momentum=0.9)"
      ]
    },
    {
      "cell_type": "code",
      "execution_count": 20,
      "metadata": {
        "id": "HkxSrBb4ziwR"
      },
      "outputs": [],
      "source": [
        "def train(model,loss_fn,optimizer,train_dataloader,\n",
        "          data,num_epochs=train_config.epochs,log_epochs=10,log_acc=10,thresh=1e-5,print_std=True):\n",
        "  [x_train,y_train,x_test,y_test]=data\n",
        "  model.to(device)\n",
        "  Train_losses=[]\n",
        "  acc_dict = {'train':[],'test':[]}\n",
        "  for epoch in range(num_epochs):\n",
        "      model.train()\n",
        "      for x_batch, y_batch in train_dataloader:\n",
        "          x_batch = x_batch.to(device)\n",
        "          y_batch = y_batch.to(device)\n",
        "          pred = model(x_batch)\n",
        "          loss = loss_fn(pred, y_batch)\n",
        "          loss.backward()\n",
        "          optimizer.step()\n",
        "          optimizer.zero_grad()\n",
        "\n",
        "\n",
        "      if epoch % log_epochs == 0:\n",
        "          loss_full = loss_fn(model(x_train.to(device)),y_train.to(device))\n",
        "          Train_losses.append(loss_full.item())\n",
        "          print(f'Epoch {epoch} Loss {loss_full.item():.4f}')\n",
        "      if log_acc!=0:\n",
        "        if epoch % log_acc == 0:\n",
        "          train_pred = model(x_train.to(device))\n",
        "          pred = torch.argmax(model(x_train.to(device)),dim=1)\n",
        "          zero_mask = (pred-y_train.to(device) == 0.0)\n",
        "          train_acc = zero_mask.sum().item()/len(y_train)\n",
        "          acc_dict['train'].append(train_acc)\n",
        "\n",
        "          test_pred = model(x_test.to(device))[:,0]\n",
        "          pred = torch.argmax(model(x_test.to(device)),dim=1)\n",
        "          zero_mask = (pred-y_test.to(device) == 0.0)\n",
        "          test_acc = zero_mask.sum().item()/len(y_test)\n",
        "          acc_dict['test'].append(test_acc)\n",
        "\n",
        "          if print_std:\n",
        "            print(f'Epoch {epoch} train_acc {train_acc} test_acc {test_acc}')\n",
        "      if loss_full.item() < thresh:\n",
        "          print(f'Early stopping at epoch {epoch} because loss is below 0.01')\n",
        "          break\n",
        "\n",
        "  return Train_losses,acc_dict"
      ]
    },
    {
      "cell_type": "code",
      "execution_count": 21,
      "metadata": {},
      "outputs": [],
      "source": [
        "# save model in a new folder\n",
        "model_path = 'models'\n",
        "os.makedirs(model_path, exist_ok=True)\n",
        "torch.save(model.state_dict(), os.path.join(model_path, 'model_init.pt'))"
      ]
    },
    {
      "cell_type": "code",
      "execution_count": 24,
      "metadata": {
        "colab": {
          "base_uri": "https://localhost:8080/"
        },
        "id": "YVP7CC6l1Il0",
        "outputId": "cbc5c26e-520e-47fa-be90-a112c01d7803"
      },
      "outputs": [
        {
          "name": "stdout",
          "output_type": "stream",
          "text": [
            "Epoch 0 Loss 0.6731\n",
            "Epoch 0 train_acc 0.6071 test_acc 0.5918666666666667\n",
            "Epoch 10 Loss 0.5241\n",
            "Epoch 10 train_acc 0.7403666666666666 test_acc 0.6646666666666666\n",
            "Epoch 20 Loss 0.3820\n",
            "Epoch 20 train_acc 0.8295333333333333 test_acc 0.6703333333333333\n",
            "Epoch 30 Loss 0.2249\n",
            "Epoch 30 train_acc 0.9162 test_acc 0.6659666666666667\n",
            "Epoch 40 Loss 0.1301\n",
            "Epoch 40 train_acc 0.9490666666666666 test_acc 0.6588333333333334\n",
            "Epoch 50 Loss 0.0963\n",
            "Epoch 50 train_acc 0.9633666666666667 test_acc 0.6532333333333333\n",
            "Epoch 60 Loss 0.0453\n",
            "Epoch 60 train_acc 0.9841333333333333 test_acc 0.6562\n",
            "Epoch 70 Loss 0.0428\n",
            "Epoch 70 train_acc 0.9841333333333333 test_acc 0.6533333333333333\n",
            "Epoch 80 Loss 0.0005\n",
            "Epoch 80 train_acc 1.0 test_acc 0.6637\n",
            "Epoch 90 Loss 0.0003\n",
            "Epoch 90 train_acc 1.0 test_acc 0.6633\n"
          ]
        }
      ],
      "source": [
        "losses, acc_dict = train(model,loss_fn,optimizer,train_dataloader,data)"
      ]
    },
    {
      "cell_type": "code",
      "execution_count": 25,
      "metadata": {},
      "outputs": [],
      "source": [
        "# save model in a new folder\n",
        "torch.save(model.state_dict(), os.path.join(model_path, 'model0.pt'))"
      ]
    },
    {
      "cell_type": "markdown",
      "metadata": {},
      "source": [
        "## Large learning rate schedule"
      ]
    },
    {
      "cell_type": "code",
      "execution_count": 14,
      "metadata": {},
      "outputs": [],
      "source": [
        "model = DNN(dim_in=data_config.dim_in, dim_out=data_config.dim_out, width=model_config.width, depth=model_config.depth)\n",
        "loss_fn = nn.CrossEntropyLoss()\n",
        "optimizer = torch.optim.Adam(model.parameters(), lr=0.1)\n",
        "# \n"
      ]
    },
    {
      "cell_type": "markdown",
      "metadata": {
        "id": "6qunqIvXVyp9"
      },
      "source": [
        "## Pruning"
      ]
    },
    {
      "cell_type": "markdown",
      "metadata": {},
      "source": [
        "So far everything is the same. I set the pruning rate as $p ^ {1/n}$, this still works to some extent... Not sure how? I think we should still figure out some other schemes, maybe we can threshold the weights instead of removing a certain amount of smaller magnitude weights.... could try constant pruning fraction as well...."
      ]
    },
    {
      "cell_type": "code",
      "execution_count": 1,
      "metadata": {},
      "outputs": [
        {
          "name": "stdout",
          "output_type": "stream",
          "text": [
            " \n",
            "pruning rate=0.1\n",
            "Pruning 1 0.9 0.9\n",
            "Pruning 2 0.683772233983162 0.81\n",
            "Pruning 3 0.535841116638722 0.7290000000000001\n",
            "Pruning 4 0.4376586748096509 0.6561\n",
            "Pruning 5 0.36904265551980675 0.5904900000000001\n",
            "Pruning 6 0.31870793094203864 0.531441\n",
            "Pruning 7 0.28031432699884795 0.4782969000000001\n",
            "Pruning 8 0.2501057906675441 0.4304672100000001\n",
            "Pruning 9 0.2257363173188729 0.3874204890000001\n",
            "Pruning 10 0.2056717652757185 0.3486784401000001\n",
            "Pruning 11 0.18886916921031294 0.31381059609000006\n",
            "Pruning 12 0.1745958147319816 0.2824295364810001\n",
            "Pruning 13 0.16232235993170807 0.2541865828329001\n",
            "Pruning 14 0.15165710175592795 0.2287679245496101\n",
            "Pruning 15 0.14230410140910588 0.20589113209464907\n",
            "Pruning 16 0.13403567663993465 0.18530201888518416\n",
            "Pruning 17 0.12667383761715667 0.16677181699666577\n",
            "Pruning 18 0.12007745643089296 0.15009463529699918\n",
            "Pruning 19 0.11413320958991735 0.13508517176729928\n",
            "Pruning 20 0.10874906186625444 0.12157665459056935\n",
            " \n",
            "pruning rate=0.2\n",
            "Pruning 1 0.8 0.8\n",
            "Pruning 2 0.5527864045000421 0.6400000000000001\n",
            "Pruning 3 0.41519645235742675 0.5120000000000001\n",
            "Pruning 4 0.331259695023578 0.4096000000000001\n",
            "Pruning 5 0.27522033632230447 0.3276800000000001\n",
            "Pruning 6 0.23527550866826996 0.2621440000000001\n",
            "Pruning 7 0.20540259529814775 0.20971520000000007\n",
            "Pruning 8 0.18223456604205746 0.1677721600000001\n",
            "Pruning 9 0.16374896904962655 0.13421772800000006\n",
            "Pruning 10 0.1486600774792154 0.10737418240000006\n",
            "Pruning 11 0.1361123362974096 0.08589934592000005\n",
            "Pruning 12 0.1255147277788321 0.06871947673600004\n",
            "Pruning 13 0.11644604222876276 0.054975581388800036\n",
            "Pruning 14 0.10859806781572867 0.043980465111040035\n",
            "Pruning 15 0.10174012623840034 0.03518437208883203\n",
            "Pruning 16 0.09569616059758845 0.028147497671065624\n",
            "Pruning 17 0.09032948674199881 0.022517998136852502\n",
            "Pruning 18 0.0855323784023988 0.018014398509482003\n",
            "Pruning 19 0.08121878961882534 0.014411518807585602\n",
            "Pruning 20 0.07731916540941164 0.011529215046068483\n",
            " \n",
            "pruning rate=0.3\n",
            "Pruning 1 0.7 0.7\n",
            "Pruning 2 0.4522774424948339 0.48999999999999994\n",
            "Pruning 3 0.3305670499178305 0.3429999999999999\n",
            "Pruning 4 0.25991719550771475 0.24009999999999995\n",
            "Pruning 5 0.2139969144033772 0.16806999999999994\n",
            "Pruning 6 0.18181117699997296 0.11764899999999996\n",
            "Pruning 7 0.15801755565497966 0.08235429999999996\n",
            "Pruning 8 0.13971934550852227 0.05764800999999997\n",
            "Pruning 9 0.12521291707606708 0.04035360699999998\n",
            "Pruning 10 0.11343184943478668 0.028247524899999984\n",
            "Pruning 11 0.10367487860124702 0.019773267429999988\n",
            "Pruning 12 0.09546209421604279 0.01384128720099999\n",
            "Pruning 13 0.08845406633142938 0.009688901040699992\n",
            "Pruning 14 0.08240398630714385 0.006782230728489994\n",
            "Pruning 15 0.07712811194671554 0.004747561509942996\n",
            "Pruning 16 0.07248684403320849 0.0033232930569600965\n",
            "Pruning 17 0.06837222737362458 0.0023263051398720674\n",
            "Pruning 18 0.06469946919509717 0.001628413597910447\n",
            "Pruning 19 0.06140104567447868 0.001139889518537313\n",
            "Pruning 20 0.058422520147591195 0.0007979226629761189\n",
            " \n",
            "pruning rate=0.4\n",
            "Pruning 1 0.6 0.6\n",
            "Pruning 2 0.3675444679663241 0.36\n",
            "Pruning 3 0.2631937002719227 0.21599999999999997\n",
            "Pruning 4 0.20472927123294937 0.1296\n",
            "Pruning 5 0.1674467925981269 0.07775999999999998\n",
            "Pruning 6 0.14162578106744295 0.04665599999999999\n",
            "Pruning 7 0.12269333787625847 0.027993599999999993\n",
            "Pruning 8 0.10822047076250363 0.016796159999999994\n",
            "Pruning 9 0.09679892986331773 0.010077695999999997\n",
            "Pruning 10 0.08755646344451917 0.006046617599999997\n",
            "Pruning 11 0.07992414149644911 0.0036279705599999985\n",
            "Pruning 12 0.07351512752093081 0.002176782335999999\n",
            "Pruning 13 0.06805725860180156 0.0013060694015999993\n",
            "Pruning 14 0.06335350204906998 0.0007836416409599996\n",
            "Pruning 15 0.059257713443878535 0.00047018498457599973\n",
            "Pruning 16 0.05565920916361111 0.00028211099074559984\n",
            "Pruning 17 0.05247262897373173 0.00016926659444735988\n",
            "Pruning 18 0.049631087347296376 0.00010155995666841593\n",
            "Pruning 19 0.0470814329107867 6.093597400104956e-05\n",
            "Pruning 20 0.04478089604767599 3.6561584400629733e-05\n"
          ]
        }
      ],
      "source": [
        "# To compare pruning rate heuristics\n",
        "for i in [0.1,0.2,0.3,0.4]:\n",
        "    x=1\n",
        "    print(' ')\n",
        "    print(f'pruning rate={i}')\n",
        "    for j in range(1,21):\n",
        "        print(f'Pruning {j} {x*(1-i**(1/j))} {(1-i)**j}')\n"
      ]
    },
    {
      "cell_type": "code",
      "execution_count": 13,
      "metadata": {},
      "outputs": [],
      "source": [
        "model = DNN(dim_in=data_config.dim_in, dim_out=data_config.dim_out, width=model_config.width, depth=model_config.depth)\n",
        "loss_fn = nn.CrossEntropyLoss()\n",
        "optimizer = torch.optim.Adam(model.parameters(), lr=train_config.lr)"
      ]
    },
    {
      "cell_type": "code",
      "execution_count": 14,
      "metadata": {
        "colab": {
          "base_uri": "https://localhost:8080/"
        },
        "id": "Oaqx3cYxV1Ps",
        "outputId": "1753670f-5a54-44ea-90b1-961af83ee189"
      },
      "outputs": [
        {
          "name": "stderr",
          "output_type": "stream",
          "text": [
            "  0%|          | 0/6 [00:00<?, ?it/s]"
          ]
        },
        {
          "name": "stdout",
          "output_type": "stream",
          "text": [
            "Epoch 0 Loss 0.6048\n",
            "Epoch 0 train_acc 0.6732666666666667 test_acc 0.6371666666666667\n",
            "Epoch 10 Loss 0.1312\n",
            "Epoch 10 train_acc 0.9514333333333334 test_acc 0.6786666666666666\n",
            "Epoch 20 Loss 0.0665\n",
            "Epoch 20 train_acc 0.9756666666666667 test_acc 0.6755333333333333\n",
            "Epoch 30 Loss 0.0575\n",
            "Epoch 30 train_acc 0.9806 test_acc 0.6731666666666667\n",
            "Epoch 40 Loss 0.0411\n",
            "Epoch 40 train_acc 0.9864333333333334 test_acc 0.676\n",
            "Epoch 50 Loss 0.0491\n",
            "Epoch 50 train_acc 0.9845333333333334 test_acc 0.6781666666666667\n",
            "Epoch 60 Loss 0.0433\n",
            "Epoch 60 train_acc 0.9877666666666667 test_acc 0.6743333333333333\n",
            "Epoch 70 Loss 0.0395\n",
            "Epoch 70 train_acc 0.9889333333333333 test_acc 0.6727666666666666\n",
            "Epoch 80 Loss 0.0399\n",
            "Epoch 80 train_acc 0.9897 test_acc 0.6785\n",
            "Epoch 90 Loss 0.0317\n",
            "Epoch 90 train_acc 0.9920666666666667 test_acc 0.6789\n"
          ]
        },
        {
          "name": "stderr",
          "output_type": "stream",
          "text": [
            " 17%|█▋        | 1/6 [01:45<08:47, 105.59s/it]"
          ]
        },
        {
          "name": "stdout",
          "output_type": "stream",
          "text": [
            "Epoch 0 Loss 0.6334\n",
            "Epoch 0 train_acc 0.6309 test_acc 0.6168\n",
            "Epoch 10 Loss 0.1462\n",
            "Epoch 10 train_acc 0.9446 test_acc 0.7248333333333333\n",
            "Epoch 20 Loss 0.0625\n",
            "Epoch 20 train_acc 0.9775666666666667 test_acc 0.7233666666666667\n",
            "Epoch 30 Loss 0.0500\n",
            "Epoch 30 train_acc 0.9832333333333333 test_acc 0.7227333333333333\n",
            "Epoch 40 Loss 0.0594\n",
            "Epoch 40 train_acc 0.9796666666666667 test_acc 0.7171333333333333\n",
            "Epoch 50 Loss 0.0348\n",
            "Epoch 50 train_acc 0.9888 test_acc 0.7212\n",
            "Epoch 60 Loss 0.0368\n",
            "Epoch 60 train_acc 0.9889333333333333 test_acc 0.7248666666666667\n",
            "Epoch 70 Loss 0.0272\n",
            "Epoch 70 train_acc 0.9921333333333333 test_acc 0.7292666666666666\n",
            "Epoch 80 Loss 0.0319\n",
            "Epoch 80 train_acc 0.9915666666666667 test_acc 0.7283\n",
            "Epoch 90 Loss 0.0406\n",
            "Epoch 90 train_acc 0.9902 test_acc 0.7276\n"
          ]
        },
        {
          "name": "stderr",
          "output_type": "stream",
          "text": [
            " 33%|███▎      | 2/6 [03:43<07:31, 112.93s/it]"
          ]
        },
        {
          "name": "stdout",
          "output_type": "stream",
          "text": [
            "Epoch 0 Loss 0.5888\n",
            "Epoch 0 train_acc 0.6880333333333334 test_acc 0.6579666666666667\n",
            "Epoch 10 Loss 0.1294\n",
            "Epoch 10 train_acc 0.9512666666666667 test_acc 0.8279\n",
            "Epoch 20 Loss 0.0659\n",
            "Epoch 20 train_acc 0.9763666666666667 test_acc 0.8229666666666666\n",
            "Epoch 30 Loss 0.0456\n",
            "Epoch 30 train_acc 0.9836333333333334 test_acc 0.8231333333333334\n",
            "Epoch 40 Loss 0.0812\n",
            "Epoch 40 train_acc 0.9742666666666666 test_acc 0.8178333333333333\n",
            "Epoch 50 Loss 0.0482\n",
            "Epoch 50 train_acc 0.9848 test_acc 0.8219666666666666\n",
            "Epoch 60 Loss 0.0282\n",
            "Epoch 60 train_acc 0.9902333333333333 test_acc 0.8240666666666666\n",
            "Epoch 70 Loss 0.0219\n",
            "Epoch 70 train_acc 0.9933666666666666 test_acc 0.8284333333333334\n",
            "Epoch 80 Loss 0.0237\n",
            "Epoch 80 train_acc 0.9927666666666667 test_acc 0.8245333333333333\n",
            "Epoch 90 Loss 0.0370\n",
            "Epoch 90 train_acc 0.9884 test_acc 0.8243\n"
          ]
        },
        {
          "name": "stderr",
          "output_type": "stream",
          "text": [
            " 50%|█████     | 3/6 [05:45<05:50, 116.84s/it]"
          ]
        },
        {
          "name": "stdout",
          "output_type": "stream",
          "text": [
            "Epoch 0 Loss 0.5972\n",
            "Epoch 0 train_acc 0.6758 test_acc 0.6582333333333333\n",
            "Epoch 10 Loss 0.1894\n",
            "Epoch 10 train_acc 0.9226666666666666 test_acc 0.8830666666666667\n",
            "Epoch 20 Loss 0.0978\n",
            "Epoch 20 train_acc 0.9617 test_acc 0.9099333333333334\n",
            "Epoch 30 Loss 0.0774\n",
            "Epoch 30 train_acc 0.9690333333333333 test_acc 0.9133333333333333\n",
            "Epoch 40 Loss 0.0540\n",
            "Epoch 40 train_acc 0.9797666666666667 test_acc 0.922\n",
            "Epoch 50 Loss 0.0643\n",
            "Epoch 50 train_acc 0.9765 test_acc 0.9146666666666666\n",
            "Epoch 60 Loss 0.0470\n",
            "Epoch 60 train_acc 0.9817666666666667 test_acc 0.9182666666666667\n",
            "Epoch 70 Loss 0.0328\n",
            "Epoch 70 train_acc 0.9874 test_acc 0.9213666666666667\n",
            "Epoch 80 Loss 0.0405\n",
            "Epoch 80 train_acc 0.9858333333333333 test_acc 0.9202\n",
            "Epoch 90 Loss 0.0215\n",
            "Epoch 90 train_acc 0.9926333333333334 test_acc 0.9216\n"
          ]
        },
        {
          "name": "stderr",
          "output_type": "stream",
          "text": [
            " 67%|██████▋   | 4/6 [07:44<03:55, 117.89s/it]"
          ]
        },
        {
          "name": "stdout",
          "output_type": "stream",
          "text": [
            "Epoch 0 Loss 0.6090\n",
            "Epoch 0 train_acc 0.6644 test_acc 0.6515333333333333\n",
            "Epoch 10 Loss 0.2020\n",
            "Epoch 10 train_acc 0.9184 test_acc 0.9068\n",
            "Epoch 20 Loss 0.1307\n",
            "Epoch 20 train_acc 0.95 test_acc 0.9341333333333334\n",
            "Epoch 30 Loss 0.1088\n",
            "Epoch 30 train_acc 0.9588666666666666 test_acc 0.9421666666666667\n",
            "Epoch 40 Loss 0.1231\n",
            "Epoch 40 train_acc 0.9527333333333333 test_acc 0.9370333333333334\n",
            "Epoch 50 Loss 0.1012\n",
            "Epoch 50 train_acc 0.9580666666666666 test_acc 0.9406666666666667\n",
            "Epoch 60 Loss 0.0855\n",
            "Epoch 60 train_acc 0.9669333333333333 test_acc 0.9489\n",
            "Epoch 70 Loss 0.0784\n",
            "Epoch 70 train_acc 0.9692 test_acc 0.9502\n",
            "Epoch 80 Loss 0.0878\n",
            "Epoch 80 train_acc 0.9638 test_acc 0.9465666666666667\n",
            "Epoch 90 Loss 0.0770\n",
            "Epoch 90 train_acc 0.9709666666666666 test_acc 0.9519666666666666\n"
          ]
        },
        {
          "name": "stderr",
          "output_type": "stream",
          "text": [
            " 83%|████████▎ | 5/6 [09:43<01:58, 118.34s/it]"
          ]
        },
        {
          "name": "stdout",
          "output_type": "stream",
          "text": [
            "Epoch 0 Loss 0.0663\n",
            "Epoch 0 train_acc 0.9746666666666667 test_acc 0.9596333333333333\n",
            "Epoch 10 Loss 0.0641\n",
            "Epoch 10 train_acc 0.9742 test_acc 0.9598333333333333\n",
            "Epoch 20 Loss 0.0625\n",
            "Epoch 20 train_acc 0.9764333333333334 test_acc 0.9649333333333333\n",
            "Epoch 30 Loss 0.0543\n",
            "Epoch 30 train_acc 0.9799 test_acc 0.9652\n",
            "Epoch 40 Loss 0.0460\n",
            "Epoch 40 train_acc 0.9837333333333333 test_acc 0.9707333333333333\n",
            "Epoch 50 Loss 0.0536\n",
            "Epoch 50 train_acc 0.9794 test_acc 0.9649\n",
            "Epoch 60 Loss 0.0425\n",
            "Epoch 60 train_acc 0.9841 test_acc 0.9717333333333333\n",
            "Epoch 70 Loss 0.0472\n",
            "Epoch 70 train_acc 0.9826 test_acc 0.9686333333333333\n",
            "Epoch 80 Loss 0.0514\n",
            "Epoch 80 train_acc 0.9797 test_acc 0.9673666666666667\n",
            "Epoch 90 Loss 0.0472\n",
            "Epoch 90 train_acc 0.9822 test_acc 0.9673666666666667\n"
          ]
        },
        {
          "name": "stderr",
          "output_type": "stream",
          "text": [
            "                                              \r"
          ]
        }
      ],
      "source": [
        "INITIAL_WEIGHTS = deepcopy(model.state_dict())\n",
        "prune_epochs=6\n",
        "p = 0.2\n",
        "losses = {}\n",
        "acc_dict = {}\n",
        "for n in tqdm(range(1, prune_epochs + 1), total=prune_epochs, leave=False):\n",
        "\n",
        "  losses[n], acc_dict[n] = train(model,loss_fn,optimizer,train_dataloader,data)\n",
        "  \n",
        "  # Save the model with different model name using value of n\n",
        "  torch.save(model.state_dict(), os.path.join(model_path, 'model'+f'{n}'+'.pt'))\n",
        "\n",
        "  pruning_rate = p ** (1 / n)\n",
        "\n",
        "  # Prune the model\n",
        "  prune.l1_unstructured(model.layers[0], name=\"weight\", amount=pruning_rate)\n",
        "  prune.l1_unstructured(model.layers[1], name=\"weight\", amount=pruning_rate)\n",
        "  prune.l1_unstructured(model.output_layer, name=\"weight\", amount=pruning_rate/2)\n",
        "\n",
        "  # Reset weights\n",
        "  reseted_weights = deepcopy(model.state_dict())\n",
        "  for param in reseted_weights.keys():\n",
        "      if param.split(\".\")[-1].replace(\"_orig\", \"\") in (\"bias\", \"weight\"):\n",
        "          reseted_weights[param] = deepcopy(INITIAL_WEIGHTS[param.replace(\"_orig\", \"\")])\n",
        "  if n< prune_epochs-1:\n",
        "    model.load_state_dict(reseted_weights)\n",
        "  \n"
      ]
    },
    {
      "cell_type": "code",
      "execution_count": 15,
      "metadata": {},
      "outputs": [
        {
          "name": "stderr",
          "output_type": "stream",
          "text": [
            "  0%|          | 0/6 [00:00<?, ?it/s]"
          ]
        },
        {
          "name": "stdout",
          "output_type": "stream",
          "text": [
            "Epoch 0 Loss 0.1021\n",
            "Epoch 0 train_acc 0.9692 test_acc 0.9665\n",
            "Epoch 10 Loss 0.0778\n",
            "Epoch 10 train_acc 0.9743333333333334 test_acc 0.9725\n",
            "Epoch 20 Loss 0.0768\n",
            "Epoch 20 train_acc 0.9762666666666666 test_acc 0.9761333333333333\n",
            "Epoch 30 Loss 0.0692\n",
            "Epoch 30 train_acc 0.9752666666666666 test_acc 0.9733333333333334\n",
            "Epoch 40 Loss 0.0538\n",
            "Epoch 40 train_acc 0.9837333333333333 test_acc 0.9823333333333333\n",
            "Epoch 50 Loss 0.0504\n",
            "Epoch 50 train_acc 0.9851666666666666 test_acc 0.9835666666666667\n",
            "Epoch 60 Loss 0.0512\n",
            "Epoch 60 train_acc 0.9844 test_acc 0.9827666666666667\n",
            "Epoch 70 Loss 0.0514\n",
            "Epoch 70 train_acc 0.9848333333333333 test_acc 0.9821\n",
            "Epoch 80 Loss 0.0509\n",
            "Epoch 80 train_acc 0.9845333333333334 test_acc 0.9818333333333333\n",
            "Epoch 90 Loss 0.0490\n",
            "Epoch 90 train_acc 0.9843666666666666 test_acc 0.9829\n"
          ]
        },
        {
          "name": "stderr",
          "output_type": "stream",
          "text": [
            " 17%|█▋        | 1/6 [02:02<10:12, 122.47s/it]"
          ]
        },
        {
          "name": "stdout",
          "output_type": "stream",
          "text": [
            "Epoch 0 Loss 0.5124\n",
            "Epoch 0 train_acc 0.7391333333333333 test_acc 0.7406666666666667\n",
            "Epoch 10 Loss 0.5043\n",
            "Epoch 10 train_acc 0.7152 test_acc 0.7160666666666666\n",
            "Epoch 20 Loss 0.4995\n",
            "Epoch 20 train_acc 0.7502666666666666 test_acc 0.7459666666666667\n",
            "Epoch 30 Loss 0.4982\n",
            "Epoch 30 train_acc 0.7382 test_acc 0.7323666666666667\n",
            "Epoch 40 Loss 0.4976\n",
            "Epoch 40 train_acc 0.7624333333333333 test_acc 0.7577\n",
            "Epoch 50 Loss 0.4992\n",
            "Epoch 50 train_acc 0.7628333333333334 test_acc 0.7576\n",
            "Epoch 60 Loss 0.4975\n",
            "Epoch 60 train_acc 0.7513666666666666 test_acc 0.7467333333333334\n",
            "Epoch 70 Loss 0.4978\n",
            "Epoch 70 train_acc 0.7384 test_acc 0.7316666666666667\n",
            "Epoch 80 Loss 0.4953\n",
            "Epoch 80 train_acc 0.7518333333333334 test_acc 0.7463\n",
            "Epoch 90 Loss 0.4979\n",
            "Epoch 90 train_acc 0.7644333333333333 test_acc 0.7600666666666667\n"
          ]
        },
        {
          "name": "stderr",
          "output_type": "stream",
          "text": [
            " 33%|███▎      | 2/6 [04:02<08:04, 121.14s/it]"
          ]
        },
        {
          "name": "stdout",
          "output_type": "stream",
          "text": [
            "Epoch 0 Loss 0.6957\n",
            "Epoch 0 train_acc 0.5001333333333333 test_acc 0.4986\n",
            "Epoch 10 Loss 0.6859\n",
            "Epoch 10 train_acc 0.5630333333333334 test_acc 0.5574666666666667\n",
            "Epoch 20 Loss 0.6856\n",
            "Epoch 20 train_acc 0.5622666666666667 test_acc 0.5576333333333333\n",
            "Epoch 30 Loss 0.6858\n",
            "Epoch 30 train_acc 0.5629 test_acc 0.5576666666666666\n",
            "Epoch 40 Loss 0.6852\n",
            "Epoch 40 train_acc 0.5629 test_acc 0.5576666666666666\n",
            "Epoch 50 Loss 0.6857\n",
            "Epoch 50 train_acc 0.5614 test_acc 0.5548\n",
            "Epoch 60 Loss 0.6877\n",
            "Epoch 60 train_acc 0.5591666666666667 test_acc 0.5547\n",
            "Epoch 70 Loss 0.6858\n",
            "Epoch 70 train_acc 0.5618 test_acc 0.5552666666666667\n",
            "Epoch 80 Loss 0.6863\n",
            "Epoch 80 train_acc 0.5627333333333333 test_acc 0.5566\n",
            "Epoch 90 Loss 0.6856\n",
            "Epoch 90 train_acc 0.5622 test_acc 0.5576\n"
          ]
        },
        {
          "name": "stderr",
          "output_type": "stream",
          "text": [
            " 50%|█████     | 3/6 [06:03<06:03, 121.03s/it]"
          ]
        },
        {
          "name": "stdout",
          "output_type": "stream",
          "text": [
            "Epoch 0 Loss 0.6931\n",
            "Epoch 0 train_acc 0.5001333333333333 test_acc 0.4986\n",
            "Epoch 10 Loss 0.6939\n",
            "Epoch 10 train_acc 0.5001333333333333 test_acc 0.4986\n",
            "Epoch 20 Loss 0.6932\n",
            "Epoch 20 train_acc 0.4998666666666667 test_acc 0.5014\n",
            "Epoch 30 Loss 0.6938\n",
            "Epoch 30 train_acc 0.4998666666666667 test_acc 0.5014\n",
            "Epoch 40 Loss 0.6949\n",
            "Epoch 40 train_acc 0.5001333333333333 test_acc 0.4986\n",
            "Epoch 50 Loss 0.6936\n",
            "Epoch 50 train_acc 0.5001333333333333 test_acc 0.4986\n",
            "Epoch 60 Loss 0.6934\n",
            "Epoch 60 train_acc 0.5001333333333333 test_acc 0.4986\n",
            "Epoch 70 Loss 0.6932\n",
            "Epoch 70 train_acc 0.5001333333333333 test_acc 0.4986\n",
            "Epoch 80 Loss 0.6932\n",
            "Epoch 80 train_acc 0.4998666666666667 test_acc 0.5014\n",
            "Epoch 90 Loss 0.6934\n",
            "Epoch 90 train_acc 0.5001333333333333 test_acc 0.4986\n"
          ]
        },
        {
          "name": "stderr",
          "output_type": "stream",
          "text": [
            " 67%|██████▋   | 4/6 [08:03<04:01, 120.56s/it]"
          ]
        },
        {
          "name": "stdout",
          "output_type": "stream",
          "text": [
            "Epoch 0 Loss 0.7008\n",
            "Epoch 0 train_acc 0.4998666666666667 test_acc 0.5014\n",
            "Epoch 10 Loss 0.6937\n",
            "Epoch 10 train_acc 0.5001333333333333 test_acc 0.4986\n",
            "Epoch 20 Loss 0.6938\n",
            "Epoch 20 train_acc 0.4998666666666667 test_acc 0.5014\n",
            "Epoch 30 Loss 0.6947\n",
            "Epoch 30 train_acc 0.4998666666666667 test_acc 0.5014\n",
            "Epoch 40 Loss 0.6932\n",
            "Epoch 40 train_acc 0.4998666666666667 test_acc 0.5014\n",
            "Epoch 50 Loss 0.6939\n",
            "Epoch 50 train_acc 0.5001333333333333 test_acc 0.4986\n",
            "Epoch 60 Loss 0.6935\n",
            "Epoch 60 train_acc 0.4998666666666667 test_acc 0.5014\n",
            "Epoch 70 Loss 0.6942\n",
            "Epoch 70 train_acc 0.5001333333333333 test_acc 0.4986\n",
            "Epoch 80 Loss 0.6931\n",
            "Epoch 80 train_acc 0.4998666666666667 test_acc 0.5014\n",
            "Epoch 90 Loss 0.6932\n",
            "Epoch 90 train_acc 0.5001333333333333 test_acc 0.4986\n"
          ]
        },
        {
          "name": "stderr",
          "output_type": "stream",
          "text": [
            " 83%|████████▎ | 5/6 [10:02<02:00, 120.04s/it]"
          ]
        },
        {
          "name": "stdout",
          "output_type": "stream",
          "text": [
            "Epoch 0 Loss 0.6933\n",
            "Epoch 0 train_acc 0.5001333333333333 test_acc 0.4986\n",
            "Epoch 10 Loss 0.6932\n",
            "Epoch 10 train_acc 0.5001333333333333 test_acc 0.4986\n",
            "Epoch 20 Loss 0.6944\n",
            "Epoch 20 train_acc 0.4998666666666667 test_acc 0.5014\n",
            "Epoch 30 Loss 0.6933\n",
            "Epoch 30 train_acc 0.4998666666666667 test_acc 0.5014\n",
            "Epoch 40 Loss 0.6932\n",
            "Epoch 40 train_acc 0.4998666666666667 test_acc 0.5014\n",
            "Epoch 50 Loss 0.6937\n",
            "Epoch 50 train_acc 0.4998666666666667 test_acc 0.5014\n",
            "Epoch 60 Loss 0.6933\n",
            "Epoch 60 train_acc 0.5001333333333333 test_acc 0.4986\n",
            "Epoch 70 Loss 0.6939\n",
            "Epoch 70 train_acc 0.5001333333333333 test_acc 0.4986\n",
            "Epoch 80 Loss 0.6938\n",
            "Epoch 80 train_acc 0.5001333333333333 test_acc 0.4986\n",
            "Epoch 90 Loss 0.6935\n",
            "Epoch 90 train_acc 0.5001333333333333 test_acc 0.4986\n"
          ]
        },
        {
          "name": "stderr",
          "output_type": "stream",
          "text": [
            "                                              \r"
          ]
        }
      ],
      "source": [
        "prune_epochs=6\n",
        "p = 0.2\n",
        "losses = {}\n",
        "acc_dict = {}\n",
        "for n in tqdm(range(prune_epochs+1, 2*prune_epochs + 1), total=prune_epochs, leave=False):\n",
        "\n",
        "  losses[n], acc_dict[n] = train(model,loss_fn,optimizer,train_dataloader,data)\n",
        "  \n",
        "  # Save the model with different model name using value of n\n",
        "  torch.save(model.state_dict(), os.path.join(model_path, 'model'+f'{n}'+'.pt'))\n",
        "\n",
        "  pruning_rate = p ** (1 / n)\n",
        "\n",
        "  # Prune the model\n",
        "  prune.l1_unstructured(model.layers[0], name=\"weight\", amount=pruning_rate)\n",
        "  prune.l1_unstructured(model.layers[1], name=\"weight\", amount=pruning_rate)\n",
        "  prune.l1_unstructured(model.output_layer, name=\"weight\", amount=pruning_rate/2)\n",
        "\n",
        "  # Reset weights\n",
        "  reseted_weights = deepcopy(model.state_dict())\n",
        "  for param in reseted_weights.keys():\n",
        "      if param.split(\".\")[-1].replace(\"_orig\", \"\") in (\"bias\", \"weight\"):\n",
        "          reseted_weights[param] = deepcopy(INITIAL_WEIGHTS[param.replace(\"_orig\", \"\")])\n",
        "  if n< prune_epochs-1:\n",
        "    model.load_state_dict(reseted_weights)"
      ]
    },
    {
      "cell_type": "markdown",
      "metadata": {
        "id": "yyyfoYEXVvK3"
      },
      "source": [
        "### Probing"
      ]
    },
    {
      "cell_type": "code",
      "execution_count": 16,
      "metadata": {},
      "outputs": [
        {
          "data": {
            "text/plain": [
              "<matplotlib.legend.Legend at 0x7f23f81d8910>"
            ]
          },
          "execution_count": 16,
          "metadata": {},
          "output_type": "execute_result"
        },
        {
          "data": {
            "image/png": "[encoded data removed]",
            "text/plain": [
              "<Figure size 640x480 with 1 Axes>"
            ]
          },
          "metadata": {},
          "output_type": "display_data"
        }
      ],
      "source": [
        "#plot acc_dict(test)\n",
        "plt.figure()\n",
        "for key in acc_dict.keys():\n",
        "#   plt.plot(acc_dict[key]['train'],label=f'train_{key}')\n",
        "  plt.plot(acc_dict[key]['test'],label=f'test_{key}')\n",
        "plt.legend()"
      ]
    },
    {
      "cell_type": "code",
      "execution_count": 17,
      "metadata": {},
      "outputs": [
        {
          "data": {
            "text/plain": [
              "Text(0, 0.5, 'Final accuracy')"
            ]
          },
          "execution_count": 17,
          "metadata": {},
          "output_type": "execute_result"
        },
        {
          "data": {
            "image/png": "[encoded data removed]",
            "text/plain": [
              "<Figure size 640x480 with 1 Axes>"
            ]
          },
          "metadata": {},
          "output_type": "display_data"
        }
      ],
      "source": [
        "final_acc_list = [acc_dict[key]['test'][-1] for key in acc_dict.keys()]\n",
        "plt.figure()\n",
        "plt.plot(final_acc_list)\n",
        "plt.title('Final accuracy vs pruning epoch')\n",
        "plt.xlabel('Pruning epoch')\n",
        "plt.ylabel('Final accuracy')"
      ]
    },
    {
      "cell_type": "code",
      "execution_count": 18,
      "metadata": {
        "colab": {
          "base_uri": "https://localhost:8080/",
          "height": 435
        },
        "id": "lpxcyy_6GEQC",
        "outputId": "f3422a4d-fcd4-42eb-ce29-43a1288698c9"
      },
      "outputs": [
        {
          "data": {
            "image/png": "[encoded data removed]",
            "text/plain": [
              "<Figure size 640x480 with 2 Axes>"
            ]
          },
          "metadata": {},
          "output_type": "display_data"
        }
      ],
      "source": [
        "#normalise weights1 row-wise\n",
        "wt_mat = model.layers[0].weight.data.detach().cpu()\n",
        "w1_normed=F.normalize(wt_mat,p=2,dim=1)\n",
        "#visualise w1_normed as heat-map just in absolute values\n",
        "plt.imshow(w1_normed.abs().numpy())\n",
        "plt.colorbar()\n",
        "plt.show()"
      ]
    },
    {
      "cell_type": "code",
      "execution_count": 19,
      "metadata": {
        "colab": {
          "base_uri": "https://localhost:8080/",
          "height": 435
        },
        "id": "uQUG66BWHeOd",
        "outputId": "a2dd0e78-e1ca-4898-f8ad-d6bd84ed44a1"
      },
      "outputs": [
        {
          "data": {
            "image/png": "[encoded data removed]",
            "text/plain": [
              "<Figure size 640x480 with 2 Axes>"
            ]
          },
          "metadata": {},
          "output_type": "display_data"
        }
      ],
      "source": [
        "#normalise weights1 row-wise\n",
        "wt_mat = model.layers[1].weight.data.detach().cpu()\n",
        "w1_normed=F.normalize(wt_mat,p=2,dim=1)\n",
        "#visualise w1_normed as heat-map just in absolute values\n",
        "plt.imshow(w1_normed.abs().numpy())\n",
        "plt.colorbar()\n",
        "plt.show()"
      ]
    },
    {
      "cell_type": "markdown",
      "metadata": {},
      "source": [
        "## One-shot magnitude Pruning"
      ]
    },
    {
      "cell_type": "code",
      "execution_count": 17,
      "metadata": {},
      "outputs": [
        {
          "name": "stderr",
          "output_type": "stream",
          "text": [
            "  0%|          | 0/6 [00:00<?, ?it/s]"
          ]
        },
        {
          "name": "stdout",
          "output_type": "stream",
          "text": [
            "Epoch 0 Loss 0.6075\n",
            "Epoch 0 train_acc 0.6732333333333334 test_acc 0.6420333333333333\n",
            "Epoch 10 Loss 0.1464\n",
            "Epoch 10 train_acc 0.9438333333333333 test_acc 0.7055666666666667\n",
            "Epoch 20 Loss 0.0739\n",
            "Epoch 20 train_acc 0.9727333333333333 test_acc 0.7009666666666666\n",
            "Epoch 30 Loss 0.0605\n",
            "Epoch 30 train_acc 0.9787666666666667 test_acc 0.7049\n",
            "Epoch 40 Loss 0.0448\n",
            "Epoch 40 train_acc 0.9845666666666667 test_acc 0.7045333333333333\n",
            "Epoch 50 Loss 0.0545\n",
            "Epoch 50 train_acc 0.9827333333333333 test_acc 0.7065\n",
            "Epoch 60 Loss 0.0372\n",
            "Epoch 60 train_acc 0.9868666666666667 test_acc 0.7101666666666666\n",
            "Epoch 70 Loss 0.0477\n",
            "Epoch 70 train_acc 0.9866333333333334 test_acc 0.7076666666666667\n",
            "Epoch 80 Loss 0.0444\n",
            "Epoch 80 train_acc 0.9882666666666666 test_acc 0.7096\n",
            "Epoch 90 Loss 0.0389\n",
            "Epoch 90 train_acc 0.9886 test_acc 0.7136333333333333\n"
          ]
        },
        {
          "name": "stderr",
          "output_type": "stream",
          "text": [
            " 17%|█▋        | 1/6 [04:12<21:02, 252.53s/it]"
          ]
        },
        {
          "name": "stdout",
          "output_type": "stream",
          "text": [
            "Epoch 0 Loss 0.6140\n",
            "Epoch 0 train_acc 0.6654666666666667 test_acc 0.6423\n",
            "Epoch 10 Loss 0.1618\n",
            "Epoch 10 train_acc 0.9379333333333333 test_acc 0.7642666666666666\n",
            "Epoch 20 Loss 0.0826\n",
            "Epoch 20 train_acc 0.9693 test_acc 0.7568666666666667\n",
            "Epoch 30 Loss 0.0554\n",
            "Epoch 30 train_acc 0.9800333333333333 test_acc 0.7581666666666667\n",
            "Epoch 40 Loss 0.0463\n",
            "Epoch 40 train_acc 0.9837333333333333 test_acc 0.7631333333333333\n",
            "Epoch 50 Loss 0.0371\n",
            "Epoch 50 train_acc 0.9867 test_acc 0.7633666666666666\n",
            "Epoch 60 Loss 0.0338\n",
            "Epoch 60 train_acc 0.9883333333333333 test_acc 0.7678\n",
            "Epoch 70 Loss 0.0265\n",
            "Epoch 70 train_acc 0.9912 test_acc 0.7640666666666667\n",
            "Epoch 80 Loss 0.0322\n",
            "Epoch 80 train_acc 0.9897 test_acc 0.7631666666666667\n",
            "Epoch 90 Loss 0.0261\n",
            "Epoch 90 train_acc 0.9919666666666667 test_acc 0.7623333333333333\n"
          ]
        },
        {
          "name": "stderr",
          "output_type": "stream",
          "text": [
            " 33%|███▎      | 2/6 [07:59<15:50, 237.64s/it]"
          ]
        },
        {
          "name": "stdout",
          "output_type": "stream",
          "text": [
            "Epoch 0 Loss 0.5848\n",
            "Epoch 0 train_acc 0.6931 test_acc 0.6760666666666667\n",
            "Epoch 10 Loss 0.1684\n",
            "Epoch 10 train_acc 0.9354333333333333 test_acc 0.8258\n",
            "Epoch 20 Loss 0.0781\n",
            "Epoch 20 train_acc 0.9701333333333333 test_acc 0.8257333333333333\n",
            "Epoch 30 Loss 0.0567\n",
            "Epoch 30 train_acc 0.9794 test_acc 0.8249\n",
            "Epoch 40 Loss 0.0496\n",
            "Epoch 40 train_acc 0.9837 test_acc 0.8266666666666667\n",
            "Epoch 50 Loss 0.0459\n",
            "Epoch 50 train_acc 0.9843333333333333 test_acc 0.8308333333333333\n",
            "Epoch 60 Loss 0.0287\n",
            "Epoch 60 train_acc 0.9896 test_acc 0.8340666666666666\n",
            "Epoch 70 Loss 0.0554\n",
            "Epoch 70 train_acc 0.9844666666666667 test_acc 0.8275666666666667\n",
            "Epoch 80 Loss 0.0264\n",
            "Epoch 80 train_acc 0.9916333333333334 test_acc 0.8337\n",
            "Epoch 90 Loss 0.0223\n",
            "Epoch 90 train_acc 0.9923666666666666 test_acc 0.8331333333333333\n"
          ]
        },
        {
          "name": "stderr",
          "output_type": "stream",
          "text": [
            " 50%|█████     | 3/6 [12:07<12:06, 242.07s/it]"
          ]
        },
        {
          "name": "stdout",
          "output_type": "stream",
          "text": [
            "Epoch 0 Loss 0.5830\n",
            "Epoch 0 train_acc 0.6911 test_acc 0.6807\n",
            "Epoch 10 Loss 0.1359\n",
            "Epoch 10 train_acc 0.9478 test_acc 0.8931333333333333\n",
            "Epoch 20 Loss 0.0826\n",
            "Epoch 20 train_acc 0.9708333333333333 test_acc 0.9001\n",
            "Epoch 30 Loss 0.0504\n",
            "Epoch 30 train_acc 0.9817 test_acc 0.9013\n",
            "Epoch 40 Loss 0.0457\n",
            "Epoch 40 train_acc 0.9840666666666666 test_acc 0.9026\n",
            "Epoch 50 Loss 0.0287\n",
            "Epoch 50 train_acc 0.9906 test_acc 0.9045666666666666\n",
            "Epoch 60 Loss 0.0350\n",
            "Epoch 60 train_acc 0.9882 test_acc 0.9023\n",
            "Epoch 70 Loss 0.0172\n",
            "Epoch 70 train_acc 0.9942 test_acc 0.9044\n",
            "Epoch 80 Loss 0.0222\n",
            "Epoch 80 train_acc 0.9928333333333333 test_acc 0.9029\n",
            "Epoch 90 Loss 0.0171\n",
            "Epoch 90 train_acc 0.9947333333333334 test_acc 0.9060666666666667\n"
          ]
        },
        {
          "name": "stderr",
          "output_type": "stream",
          "text": [
            " 67%|██████▋   | 4/6 [15:53<07:51, 235.94s/it]"
          ]
        },
        {
          "name": "stdout",
          "output_type": "stream",
          "text": [
            "Epoch 0 Loss 0.5894\n",
            "Epoch 0 train_acc 0.6860333333333334 test_acc 0.6721\n",
            "Epoch 10 Loss 0.1819\n",
            "Epoch 10 train_acc 0.9271666666666667 test_acc 0.8794333333333333\n",
            "Epoch 20 Loss 0.0992\n",
            "Epoch 20 train_acc 0.9635 test_acc 0.9040333333333334\n",
            "Epoch 30 Loss 0.0616\n",
            "Epoch 30 train_acc 0.9789666666666667 test_acc 0.9167\n",
            "Epoch 40 Loss 0.0500\n",
            "Epoch 40 train_acc 0.9840666666666666 test_acc 0.9200666666666667\n",
            "Epoch 50 Loss 0.0383\n",
            "Epoch 50 train_acc 0.9872666666666666 test_acc 0.9277666666666666\n",
            "Epoch 60 Loss 0.0402\n",
            "Epoch 60 train_acc 0.9878333333333333 test_acc 0.9312333333333334\n",
            "Epoch 70 Loss 0.0381\n",
            "Epoch 70 train_acc 0.9890666666666666 test_acc 0.9336333333333333\n",
            "Epoch 80 Loss 0.0390\n",
            "Epoch 80 train_acc 0.9881666666666666 test_acc 0.9320666666666667\n",
            "Epoch 90 Loss 0.0227\n",
            "Epoch 90 train_acc 0.9933 test_acc 0.9404\n"
          ]
        },
        {
          "name": "stderr",
          "output_type": "stream",
          "text": [
            " 83%|████████▎ | 5/6 [19:58<03:59, 239.20s/it]"
          ]
        },
        {
          "name": "stdout",
          "output_type": "stream",
          "text": [
            "Epoch 0 Loss 0.5815\n",
            "Epoch 0 train_acc 0.6918 test_acc 0.6860666666666667\n",
            "Epoch 10 Loss 0.1698\n",
            "Epoch 10 train_acc 0.9322333333333334 test_acc 0.905\n",
            "Epoch 20 Loss 0.1115\n",
            "Epoch 20 train_acc 0.9565 test_acc 0.924\n",
            "Epoch 30 Loss 0.0609\n",
            "Epoch 30 train_acc 0.9790666666666666 test_acc 0.9415333333333333\n",
            "Epoch 40 Loss 0.0525\n",
            "Epoch 40 train_acc 0.9824666666666667 test_acc 0.9444666666666667\n",
            "Epoch 50 Loss 0.0511\n",
            "Epoch 50 train_acc 0.9821 test_acc 0.9394333333333333\n",
            "Epoch 60 Loss 0.0290\n",
            "Epoch 60 train_acc 0.9900666666666667 test_acc 0.9450666666666667\n",
            "Epoch 70 Loss 0.0369\n",
            "Epoch 70 train_acc 0.9877 test_acc 0.9386333333333333\n",
            "Epoch 80 Loss 0.0285\n",
            "Epoch 80 train_acc 0.9898666666666667 test_acc 0.9425\n",
            "Epoch 90 Loss 0.0377\n",
            "Epoch 90 train_acc 0.9884 test_acc 0.9403666666666667\n"
          ]
        },
        {
          "name": "stderr",
          "output_type": "stream",
          "text": [
            "                                              \r"
          ]
        }
      ],
      "source": [
        "prune_epochs=6\n",
        "p = 0.2\n",
        "lossesr = {}\n",
        "acc_dictr = {}\n",
        "for n in tqdm(range(1, prune_epochs + 1), total=prune_epochs, leave=False):\n",
        "\n",
        "  pruning_rate = p ** (1 / n)\n",
        "\n",
        "  modelr = DNN(dim_in=data_config.dim_in, dim_out=data_config.dim_out, width=model_config.width, depth=model_config.depth)\n",
        "  loss_fn = nn.CrossEntropyLoss()\n",
        "  optimizerr = torch.optim.Adam(modelr.parameters(), lr=train_config.lr)\n",
        "  # Prune the model\n",
        "  prune.l1_unstructured(modelr.layers[0], name=\"weight\", amount=pruning_rate)\n",
        "  prune.l1_unstructured(modelr.layers[1], name=\"weight\", amount=pruning_rate)\n",
        "  prune.l1_unstructured(modelr.output_layer, name=\"weight\", amount=pruning_rate/2)\n",
        "\n",
        "  lossesr[n], acc_dictr[n] = train(modelr,loss_fn,optimizerr,train_dataloader,data)"
      ]
    },
    {
      "cell_type": "markdown",
      "metadata": {},
      "source": [
        "## One-shot Random Pruning"
      ]
    },
    {
      "cell_type": "code",
      "execution_count": 22,
      "metadata": {},
      "outputs": [
        {
          "name": "stderr",
          "output_type": "stream",
          "text": [
            "  0%|          | 0/6 [00:00<?, ?it/s]"
          ]
        },
        {
          "name": "stdout",
          "output_type": "stream",
          "text": [
            "Epoch 0 Loss 0.6045\n",
            "Epoch 0 train_acc 0.6701 test_acc 0.6474333333333333\n",
            "Epoch 10 Loss 0.1359\n",
            "Epoch 10 train_acc 0.9481666666666667 test_acc 0.6964666666666667\n",
            "Epoch 20 Loss 0.0631\n",
            "Epoch 20 train_acc 0.9773333333333334 test_acc 0.6893\n",
            "Epoch 30 Loss 0.0685\n",
            "Epoch 30 train_acc 0.9771666666666666 test_acc 0.6886333333333333\n",
            "Epoch 40 Loss 0.0526\n",
            "Epoch 40 train_acc 0.9825666666666667 test_acc 0.6882666666666667\n",
            "Epoch 50 Loss 0.0387\n",
            "Epoch 50 train_acc 0.9880333333333333 test_acc 0.6971333333333334\n",
            "Epoch 60 Loss 0.0408\n",
            "Epoch 60 train_acc 0.9881666666666666 test_acc 0.6941666666666667\n",
            "Epoch 70 Loss 0.0462\n",
            "Epoch 70 train_acc 0.9861666666666666 test_acc 0.6888333333333333\n",
            "Epoch 80 Loss 0.0554\n",
            "Epoch 80 train_acc 0.9852333333333333 test_acc 0.6967\n",
            "Epoch 90 Loss 0.0410\n",
            "Epoch 90 train_acc 0.9892333333333333 test_acc 0.6945\n"
          ]
        },
        {
          "name": "stderr",
          "output_type": "stream",
          "text": [
            " 17%|█▋        | 1/6 [04:39<23:16, 279.26s/it]"
          ]
        },
        {
          "name": "stdout",
          "output_type": "stream",
          "text": [
            "Epoch 0 Loss 0.6015\n",
            "Epoch 0 train_acc 0.6708 test_acc 0.6541666666666667\n",
            "Epoch 10 Loss 0.1587\n",
            "Epoch 10 train_acc 0.9375333333333333 test_acc 0.7828333333333334\n",
            "Epoch 20 Loss 0.0715\n",
            "Epoch 20 train_acc 0.9732 test_acc 0.7859333333333334\n",
            "Epoch 30 Loss 0.0668\n",
            "Epoch 30 train_acc 0.9751 test_acc 0.7817666666666667\n",
            "Epoch 40 Loss 0.0423\n",
            "Epoch 40 train_acc 0.9847 test_acc 0.7876666666666666\n",
            "Epoch 50 Loss 0.0414\n",
            "Epoch 50 train_acc 0.9865333333333334 test_acc 0.7855\n",
            "Epoch 60 Loss 0.0262\n",
            "Epoch 60 train_acc 0.9913666666666666 test_acc 0.7842333333333333\n",
            "Epoch 70 Loss 0.0392\n",
            "Epoch 70 train_acc 0.9879 test_acc 0.7854666666666666\n",
            "Epoch 80 Loss 0.0229\n",
            "Epoch 80 train_acc 0.9925666666666667 test_acc 0.7869\n",
            "Epoch 90 Loss 0.0341\n",
            "Epoch 90 train_acc 0.9896666666666667 test_acc 0.7889333333333334\n"
          ]
        },
        {
          "name": "stderr",
          "output_type": "stream",
          "text": [
            " 33%|███▎      | 2/6 [07:51<15:11, 227.79s/it]"
          ]
        },
        {
          "name": "stdout",
          "output_type": "stream",
          "text": [
            "Epoch 0 Loss 0.5995\n",
            "Epoch 0 train_acc 0.6849333333333333 test_acc 0.6667666666666666\n",
            "Epoch 10 Loss 0.1934\n",
            "Epoch 10 train_acc 0.9232666666666667 test_acc 0.8292\n",
            "Epoch 20 Loss 0.1030\n",
            "Epoch 20 train_acc 0.9608666666666666 test_acc 0.8435\n",
            "Epoch 30 Loss 0.0660\n",
            "Epoch 30 train_acc 0.9755666666666667 test_acc 0.8592333333333333\n",
            "Epoch 40 Loss 0.0445\n",
            "Epoch 40 train_acc 0.9836333333333334 test_acc 0.8623333333333333\n",
            "Epoch 50 Loss 0.0377\n",
            "Epoch 50 train_acc 0.9860333333333333 test_acc 0.8671333333333333\n",
            "Epoch 60 Loss 0.0311\n",
            "Epoch 60 train_acc 0.9905666666666667 test_acc 0.8723333333333333\n",
            "Epoch 70 Loss 0.0285\n",
            "Epoch 70 train_acc 0.9902333333333333 test_acc 0.8711333333333333\n",
            "Epoch 80 Loss 0.0351\n",
            "Epoch 80 train_acc 0.9888333333333333 test_acc 0.8734333333333333\n",
            "Epoch 90 Loss 0.0184\n",
            "Epoch 90 train_acc 0.9939666666666667 test_acc 0.8796\n"
          ]
        },
        {
          "name": "stderr",
          "output_type": "stream",
          "text": [
            " 50%|█████     | 3/6 [10:48<10:14, 204.79s/it]"
          ]
        },
        {
          "name": "stdout",
          "output_type": "stream",
          "text": [
            "Epoch 0 Loss 0.6013\n",
            "Epoch 0 train_acc 0.6779666666666667 test_acc 0.6638333333333334\n",
            "Epoch 10 Loss 0.1737\n",
            "Epoch 10 train_acc 0.9335333333333333 test_acc 0.8864333333333333\n",
            "Epoch 20 Loss 0.0812\n",
            "Epoch 20 train_acc 0.9690666666666666 test_acc 0.9125\n",
            "Epoch 30 Loss 0.0496\n",
            "Epoch 30 train_acc 0.9827333333333333 test_acc 0.9198333333333333\n",
            "Epoch 40 Loss 0.0500\n",
            "Epoch 40 train_acc 0.9848333333333333 test_acc 0.9185666666666666\n",
            "Epoch 50 Loss 0.0418\n",
            "Epoch 50 train_acc 0.9862333333333333 test_acc 0.9205666666666666\n",
            "Epoch 60 Loss 0.0313\n",
            "Epoch 60 train_acc 0.9899666666666667 test_acc 0.9218\n",
            "Epoch 70 Loss 0.0275\n",
            "Epoch 70 train_acc 0.9912666666666666 test_acc 0.9251\n",
            "Epoch 80 Loss 0.0192\n",
            "Epoch 80 train_acc 0.994 test_acc 0.9251666666666667\n",
            "Epoch 90 Loss 0.0154\n",
            "Epoch 90 train_acc 0.9951 test_acc 0.9272333333333334\n"
          ]
        },
        {
          "name": "stderr",
          "output_type": "stream",
          "text": [
            " 67%|██████▋   | 4/6 [13:45<06:27, 193.80s/it]"
          ]
        },
        {
          "name": "stdout",
          "output_type": "stream",
          "text": [
            "Epoch 0 Loss 0.5928\n",
            "Epoch 0 train_acc 0.6865333333333333 test_acc 0.6722333333333333\n",
            "Epoch 10 Loss 0.2799\n",
            "Epoch 10 train_acc 0.8858666666666667 test_acc 0.8436333333333333\n",
            "Epoch 20 Loss 0.1699\n",
            "Epoch 20 train_acc 0.9335333333333333 test_acc 0.8857666666666667\n",
            "Epoch 30 Loss 0.1152\n",
            "Epoch 30 train_acc 0.9569333333333333 test_acc 0.9024\n",
            "Epoch 40 Loss 0.0872\n",
            "Epoch 40 train_acc 0.9665666666666667 test_acc 0.9087333333333333\n",
            "Epoch 50 Loss 0.0745\n",
            "Epoch 50 train_acc 0.9735333333333334 test_acc 0.9103666666666667\n",
            "Epoch 60 Loss 0.0562\n",
            "Epoch 60 train_acc 0.9798333333333333 test_acc 0.9112666666666667\n",
            "Epoch 70 Loss 0.0550\n",
            "Epoch 70 train_acc 0.9802 test_acc 0.9106666666666666\n",
            "Epoch 80 Loss 0.0571\n",
            "Epoch 80 train_acc 0.9789333333333333 test_acc 0.9080666666666667\n",
            "Epoch 90 Loss 0.0442\n",
            "Epoch 90 train_acc 0.9845666666666667 test_acc 0.9120333333333334\n"
          ]
        },
        {
          "name": "stderr",
          "output_type": "stream",
          "text": [
            " 83%|████████▎ | 5/6 [16:45<03:08, 188.85s/it]"
          ]
        },
        {
          "name": "stdout",
          "output_type": "stream",
          "text": [
            "Epoch 0 Loss 0.5984\n",
            "Epoch 0 train_acc 0.6807666666666666 test_acc 0.6647333333333333\n",
            "Epoch 10 Loss 0.2431\n",
            "Epoch 10 train_acc 0.9038666666666667 test_acc 0.8712333333333333\n",
            "Epoch 20 Loss 0.1193\n",
            "Epoch 20 train_acc 0.9553 test_acc 0.9220666666666667\n",
            "Epoch 30 Loss 0.0820\n",
            "Epoch 30 train_acc 0.971 test_acc 0.9356333333333333\n",
            "Epoch 40 Loss 0.0725\n",
            "Epoch 40 train_acc 0.9733 test_acc 0.939\n",
            "Epoch 50 Loss 0.0661\n",
            "Epoch 50 train_acc 0.9744333333333334 test_acc 0.9367666666666666\n",
            "Epoch 60 Loss 0.0426\n",
            "Epoch 60 train_acc 0.9854333333333334 test_acc 0.9469\n",
            "Epoch 70 Loss 0.0408\n",
            "Epoch 70 train_acc 0.9852 test_acc 0.9502666666666667\n",
            "Epoch 80 Loss 0.0384\n",
            "Epoch 80 train_acc 0.9876 test_acc 0.9492333333333334\n",
            "Epoch 90 Loss 0.0392\n",
            "Epoch 90 train_acc 0.9868666666666667 test_acc 0.9477\n"
          ]
        },
        {
          "name": "stderr",
          "output_type": "stream",
          "text": [
            "                                              \r"
          ]
        }
      ],
      "source": [
        "prune_epochs=6\n",
        "p = 0.2\n",
        "lossesrp = {}\n",
        "acc_dictrp = {}\n",
        "for n in tqdm(range(1, prune_epochs + 1), total=prune_epochs, leave=False):\n",
        "\n",
        "  pruning_rate = p ** (1 / n)\n",
        "\n",
        "  modelrp = DNN(dim_in=data_config.dim_in, dim_out=data_config.dim_out, width=model_config.width, depth=model_config.depth)\n",
        "  loss_fn = nn.CrossEntropyLoss()\n",
        "  optimizerrp = torch.optim.Adam(modelrp.parameters(), lr=train_config.lr)\n",
        "  # Prune the model\n",
        "  prune.random_unstructured(modelrp.layers[0], name=\"weight\", amount=pruning_rate)\n",
        "  prune.random_unstructured(modelrp.layers[1], name=\"weight\", amount=pruning_rate)\n",
        "  prune.random_unstructured(modelrp.output_layer, name=\"weight\", amount=pruning_rate/2)\n",
        "\n",
        "  lossesrp[n], acc_dictrp[n] = train(modelrp,loss_fn,optimizerrp,train_dataloader,data)"
      ]
    },
    {
      "cell_type": "markdown",
      "metadata": {},
      "source": [
        "## Analysis"
      ]
    },
    {
      "cell_type": "code",
      "execution_count": 39,
      "metadata": {},
      "outputs": [
        {
          "data": {
            "text/plain": [
              "Text(0, 0.5, 'Final accuracy')"
            ]
          },
          "execution_count": 39,
          "metadata": {},
          "output_type": "execute_result"
        },
        {
          "data": {
            "image/png": "[encoded data removed]",
            "text/plain": [
              "<Figure size 640x480 with 1 Axes>"
            ]
          },
          "metadata": {},
          "output_type": "display_data"
        }
      ],
      "source": [
        "#plot the above three acc_dict on the same plot\n",
        "#plot pr along x-axis\n",
        "plt.figure()\n",
        "plt.gca().invert_xaxis()\n",
        "plt.plot(pr,[acc_dict[key]['test'][-1] for key in acc_dict.keys()],label= 'IMP')\n",
        "# Reverse the x-axis\n",
        "\n",
        "\n",
        "# plt.plot(pr,[acc_dictr[key]['test'][-1] for key in acc_dictr.keys()],label= 'one-shot-magnitude')\n",
        "plt.plot(pr,[acc_dict[key]['test'][-1] for key in acc_dict.keys()][:1]+[acc_dictrp[key]['test'][-1] for key in acc_dictrp.keys()][:-1],label= 'RANDOM')\n",
        "\n",
        "\n",
        "plt.legend()\n",
        "plt.title('Test accuracy on Dataset-3')\n",
        "plt.xlabel('Percentage of weights remaining after pruning')\n",
        "plt.ylabel('Final accuracy')\n"
      ]
    }
  ],
  "metadata": {
    "colab": {
      "authorship_tag": "ABX9TyN1gu3P2Bvdjy5Le6WrC1E7",
      "include_colab_link": true,
      "provenance": []
    },
    "kernelspec": {
      "display_name": "env1",
      "language": "python",
      "name": "python3"
    },
    "language_info": {
      "codemirror_mode": {
        "name": "ipython",
        "version": 3
      },
      "file_extension": ".py",
      "mimetype": "text/x-python",
      "name": "python",
      "nbconvert_exporter": "python",
      "pygments_lexer": "ipython3",
      "version": "3.11.3"
    }
  },
  "nbformat": 4,
  "nbformat_minor": 0
}
