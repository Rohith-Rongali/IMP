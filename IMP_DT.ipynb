{
  "cells": [
    {
      "cell_type": "markdown",
      "metadata": {
        "colab_type": "text",
        "id": "view-in-github"
      },
      "source": [
        "<a href=\"https://colab.research.google.com/github/Rohith-Rongali/IMP/blob/main/IMP_DT.ipynb\" target=\"_parent\"><img src=\"https://colab.research.google.com/assets/colab-badge.svg\" alt=\"Open In Colab\"/></a>"
      ]
    },
    {
      "cell_type": "markdown",
      "metadata": {
        "id": "sTt4FBrCswwi"
      },
      "source": [
        "# Imports"
      ]
    },
    {
      "cell_type": "code",
      "execution_count": 1,
      "metadata": {
        "id": "TkKwoTDlskqo"
      },
      "outputs": [],
      "source": [
        "import torch\n",
        "import torch.nn as nn\n",
        "import torch.nn.functional as F\n",
        "import torch.optim as optim\n",
        "from torch.utils.data import Dataset\n",
        "from torch.utils.data import DataLoader\n",
        "\n",
        "import torch.nn.utils.prune as prune\n",
        "\n",
        "from copy import deepcopy\n",
        "\n",
        "from tqdm import tqdm\n",
        "import os\n",
        "\n",
        "import numpy as np\n",
        "import matplotlib.pyplot as plt\n",
        "\n",
        "from types import SimpleNamespace"
      ]
    },
    {
      "cell_type": "markdown",
      "metadata": {
        "id": "Yci_s3iDs1Mm"
      },
      "source": [
        "# Data functions"
      ]
    },
    {
      "cell_type": "code",
      "execution_count": 2,
      "metadata": {
        "id": "wgzl99bdtK7G"
      },
      "outputs": [],
      "source": [
        "def generate_points(num=40000,dim=18,type='normal',normal_var=1,radius=1):\n",
        "    '''\n",
        "    If type=='normal', then generate points from N(0,normal_var)\n",
        "    If type=='spherical', then simply divide the points by their norm.'''\n",
        "    X = torch.randn([num,dim]) #coordinates sampled from N(0,1)\n",
        "\n",
        "    if type=='spherical':\n",
        "      norm = torch.norm(X, p=2, dim=1, keepdim=True)\n",
        "      X_spherical = X / norm\n",
        "      return X_spherical\n",
        "\n",
        "    elif type=='normal':\n",
        "      return X\n",
        "\n",
        "    else:\n",
        "      raise ValueError('type should be either normal or spherical')\n",
        "\n",
        "\n",
        "class TreeNode:\n",
        "    '''\n",
        "    This class represents a node in the decision tree.\n",
        "    Each node has a depth, a maximum depth(of the tree), a feature index, and left and right child nodes.\n",
        "    Leaf nodes have a value, which is the predicted class.\n",
        "    '''\n",
        "    def __init__(self, depth, max_depth, feature_index):\n",
        "        self.depth = depth\n",
        "        self.max_depth = max_depth\n",
        "        self.feature = feature_index\n",
        "        self.left = None\n",
        "        self.right = None\n",
        "        self.value = None  # This will store the predicted class for leaf nodes\n",
        "\n",
        "    def build_tree(self):\n",
        "        if self.depth == self.max_depth:\n",
        "            self.value = float(self.feature % 2)\n",
        "            return\n",
        "\n",
        "        # Create left and right child nodes\n",
        "        self.left = TreeNode(self.depth + 1, self.max_depth, 2*self.feature+1)\n",
        "        self.right = TreeNode(self.depth + 1, self.max_depth, 2*self.feature+2)\n",
        "\n",
        "        # Recursively build left and right subtrees\n",
        "        self.left.build_tree()\n",
        "        self.right.build_tree()\n",
        "\n",
        "    def predict(self, x):\n",
        "        if self.value is not None:\n",
        "            return self.value\n",
        "\n",
        "        if x[self.feature] > 0:\n",
        "            return self.left.predict(x)\n",
        "        else:\n",
        "            return self.right.predict(x)\n",
        "\n",
        "\n",
        "def gen_std_basis_DT(depth, dim_in, type_data, num_points, feat_index_start=0,radius=1):\n",
        "    '''\n",
        "    Generate points uniformly random from a hypersphere. And the label is the prediction of the tree with depth = max_depth.\n",
        "    The node hyperplanes are simply characterised by standard basis vectors(for example, the root node hyperplane is x[0] = 0)\n",
        "\n",
        "    '''\n",
        "    Tree = TreeNode(depth = 0,max_depth=depth,feature_index = feat_index_start)\n",
        "    Tree.build_tree()\n",
        "    X = generate_points(num=num_points,dim=dim_in,type=type_data,radius=radius)\n",
        "\n",
        "    Y=[]\n",
        "    for item in X:\n",
        "        Y.append(Tree.predict(item))\n",
        "\n",
        "    Y = torch.tensor(Y)\n",
        "    return X,Y\n",
        "\n",
        "\n",
        "\n",
        "\n",
        "def set_npseed(seed):\n",
        "\tnp.random.seed(seed)\n",
        "\n",
        "\n",
        "def set_torchseed(seed):\n",
        "\ttorch.manual_seed(seed)\n",
        "\ttorch.cuda.manual_seed(seed)\n",
        "\ttorch.cuda.manual_seed_all(seed)\n",
        "\ttorch.backends.cudnn.deterministic = True\n",
        "\ttorch.backends.cudnn.benchmark = False\n",
        "\n",
        "\n",
        "\n",
        "# depth = 4\n",
        "# dim_in = 18\n",
        "# type_data = 'normal'\n",
        "# feat_index_start = 0 #the index of the first feature in the tree\n",
        "# num_points = 40000\n",
        "\n",
        "\n",
        "#     Tree = TreeNode(depth = 0,max_depth=depth,feature_index = feat_index_start)\n",
        "#     Tree.build_tree()\n",
        "#     X = generate_points(num=num_points,dim=dim_in,type=type_data)\n",
        "\n",
        "#     Y=[]\n",
        "#     for item in X:\n",
        "#     Y.append(Tree.predict(item))\n",
        "\n",
        "#     Y = torch.tensor(Y)\n",
        "\n",
        "class CustomDataset(Dataset):\n",
        "    def __init__(self, x, y, transform=None):\n",
        "        self.x = x\n",
        "        self.y = y\n",
        "        self.transform = transform\n",
        "\n",
        "    def __len__(self):\n",
        "        return len(self.x)\n",
        "\n",
        "    def __getitem__(self, idx):\n",
        "        sample_x = self.x[idx]\n",
        "        sample_y = self.y[idx]\n",
        "\n",
        "        if self.transform:\n",
        "            sample_x, sample_y = self.transform(sample_x, sample_y)\n",
        "\n",
        "        return sample_x, sample_y\n",
        "\n",
        "def return_data_elements(DataConfig):\n",
        "    # returns [data] and data_loader\n",
        "\n",
        "    x_train,y_train = gen_std_basis_DT(depth = DataConfig.depth, dim_in = DataConfig.dim_in, num_points = DataConfig.num_points,type_data= DataConfig.type_data, radius = DataConfig.radius)\n",
        "    x_test,y_test = gen_std_basis_DT(depth = DataConfig.depth, dim_in = DataConfig.dim_in, num_points = DataConfig.num_points,type_data= DataConfig.type_data, radius = DataConfig.radius)\n",
        "    # x_train, x_test, y_train, y_test = train_test_split(\n",
        "    # X, Y, test_size=0.1, random_state=42, stratify=Y)\n",
        "\n",
        "    data = [x_train,y_train.long(),x_test,y_test.long()]\n",
        "\n",
        "    return data\n",
        "\n",
        "def loaders(data,batch_size=32):\n",
        "    x_train,y_train,x_test,y_test = data\n",
        "    train_dataset = CustomDataset(x_train, y_train)\n",
        "    test_dataset = CustomDataset(x_test, y_test)\n",
        "    train_dataloader = DataLoader(train_dataset, batch_size=batch_size, shuffle=True)\n",
        "    test_dataloader = DataLoader(test_dataset, batch_size=batch_size, shuffle=False)\n",
        "    return train_dataloader, test_dataloader"
      ]
    },
    {
      "cell_type": "markdown",
      "metadata": {
        "id": "3ikUnEJVwRei"
      },
      "source": [
        "# Models\n"
      ]
    },
    {
      "cell_type": "code",
      "execution_count": 3,
      "metadata": {
        "id": "LzvqA-FRwVVY"
      },
      "outputs": [],
      "source": [
        "class DNN(nn.Module):\n",
        "    def __init__(self, dim_in, dim_out, width, depth):\n",
        "        super(DNN, self).__init__()\n",
        "        self.depth = depth\n",
        "        self.layers = nn.ModuleList([nn.Linear(dim_in if i == 0 else width, width) for i in range(self.depth)])\n",
        "        self.output_layer = nn.Linear(width, dim_out)\n",
        "        self.relu = nn.ReLU()\n",
        "\n",
        "    def forward(self, x):\n",
        "        for layer in self.layers:\n",
        "            x = self.relu(layer(x))\n",
        "        x = self.output_layer(x)\n",
        "        return x"
      ]
    },
    {
      "cell_type": "markdown",
      "metadata": {
        "id": "dMpRYgpoxEJf"
      },
      "source": [
        "# Configs"
      ]
    },
    {
      "cell_type": "code",
      "execution_count": 24,
      "metadata": {
        "id": "Nz3C2i92xG4c"
      },
      "outputs": [],
      "source": [
        "\n",
        "model_config = SimpleNamespace(\n",
        "    width=256,\n",
        "    depth=2\n",
        ")\n",
        "\n",
        "data_config = SimpleNamespace(\n",
        "    dim_in=100,\n",
        "    depth=4,\n",
        "    type_data='spherical',\n",
        "    num_points=30000,\n",
        "    radius=1,\n",
        "    dim_out=2\n",
        ")\n",
        "\n",
        "train_config = SimpleNamespace(\n",
        "    batch_size=32,\n",
        "    lr=0.01,\n",
        "    epochs=100\n",
        ")\n"
      ]
    },
    {
      "cell_type": "markdown",
      "metadata": {
        "id": "7BEZbB2Ps18N"
      },
      "source": [
        "# Training"
      ]
    },
    {
      "cell_type": "code",
      "execution_count": 25,
      "metadata": {
        "id": "2VUhFr590ybb"
      },
      "outputs": [],
      "source": [
        "device = torch.device(\"cuda\" if torch.cuda.is_available() else \"cpu\")"
      ]
    },
    {
      "cell_type": "code",
      "execution_count": 26,
      "metadata": {
        "id": "cMMdrJJitsUq"
      },
      "outputs": [],
      "source": [
        "data= return_data_elements(data_config)\n",
        "x_train,y_train,x_test,y_test = data"
      ]
    },
    {
      "cell_type": "code",
      "execution_count": 27,
      "metadata": {
        "id": "XrkZpOuWvJwj"
      },
      "outputs": [],
      "source": [
        "# Create DataLoaders for train and test datasets\n",
        "batch_size = 32\n",
        "\n",
        "# Assuming you have a custom Dataset class, you can create instances like this:\n",
        "train_dataset = CustomDataset(x_train, y_train)\n",
        "test_dataset = CustomDataset(x_test, y_test)\n",
        "\n",
        "# Create DataLoaders\n",
        "train_dataloader = DataLoader(train_dataset, batch_size=batch_size, shuffle=True)\n",
        "test_dataloader = DataLoader(test_dataset, batch_size=batch_size, shuffle=False)"
      ]
    },
    {
      "cell_type": "code",
      "execution_count": 28,
      "metadata": {
        "id": "diQWbC5aw32C"
      },
      "outputs": [],
      "source": [
        "model = DNN(dim_in=data_config.dim_in, dim_out=data_config.dim_out, width=model_config.width, depth=model_config.depth)\n",
        "loss_fn = nn.CrossEntropyLoss()\n",
        "optimizer = torch.optim.Adam(model.parameters(), lr=train_config.lr)"
      ]
    },
    {
      "cell_type": "code",
      "execution_count": 29,
      "metadata": {
        "id": "HkxSrBb4ziwR"
      },
      "outputs": [],
      "source": [
        "def train(model,loss_fn,optimizer,train_dataloader,\n",
        "          data,num_epochs=train_config.epochs,log_epochs=10,log_acc=10,thresh=1e-5,print_std=True):\n",
        "  [x_train,y_train,x_test,y_test]=data\n",
        "  model.to(device)\n",
        "  Train_losses=[]\n",
        "  acc_dict = {'train':[],'test':[]}\n",
        "  for epoch in range(num_epochs):\n",
        "      model.train()\n",
        "      for x_batch, y_batch in train_dataloader:\n",
        "          x_batch = x_batch.to(device)\n",
        "          y_batch = y_batch.to(device)\n",
        "          pred = model(x_batch)\n",
        "          loss = loss_fn(pred, y_batch)\n",
        "          loss.backward()\n",
        "          optimizer.step()\n",
        "          optimizer.zero_grad()\n",
        "\n",
        "\n",
        "      if epoch % log_epochs == 0:\n",
        "          loss_full = loss_fn(model(x_train.to(device)),y_train.to(device))\n",
        "          Train_losses.append(loss_full.item())\n",
        "          print(f'Epoch {epoch} Loss {loss_full.item():.4f}')\n",
        "      if log_acc!=0:\n",
        "        if epoch % log_acc == 0:\n",
        "          train_pred = model(x_train.to(device))\n",
        "          pred = torch.argmax(model(x_train.to(device)),dim=1)\n",
        "          zero_mask = (pred-y_train.to(device) == 0.0)\n",
        "          train_acc = zero_mask.sum().item()/len(y_train)\n",
        "          acc_dict['train'].append(train_acc)\n",
        "\n",
        "          test_pred = model(x_test.to(device))[:,0]\n",
        "          pred = torch.argmax(model(x_test.to(device)),dim=1)\n",
        "          zero_mask = (pred-y_test.to(device) == 0.0)\n",
        "          test_acc = zero_mask.sum().item()/len(y_test)\n",
        "          acc_dict['test'].append(test_acc)\n",
        "\n",
        "          if print_std:\n",
        "            print(f'Epoch {epoch} train_acc {train_acc} test_acc {test_acc}')\n",
        "      if loss_full.item() < thresh:\n",
        "          print(f'Early stopping at epoch {epoch} because loss is below 0.01')\n",
        "          break\n",
        "\n",
        "  return Train_losses,acc_dict"
      ]
    },
    {
      "cell_type": "code",
      "execution_count": 30,
      "metadata": {
        "colab": {
          "base_uri": "https://localhost:8080/"
        },
        "id": "YVP7CC6l1Il0",
        "outputId": "cbc5c26e-520e-47fa-be90-a112c01d7803"
      },
      "outputs": [
        {
          "name": "stdout",
          "output_type": "stream",
          "text": [
            "Epoch 0 Loss 0.6169\n",
            "Epoch 0 train_acc 0.6572333333333333 test_acc 0.6300333333333333\n",
            "Epoch 10 Loss 0.1693\n",
            "Epoch 10 train_acc 0.9347333333333333 test_acc 0.6691333333333334\n",
            "Epoch 20 Loss 0.0688\n",
            "Epoch 20 train_acc 0.9766 test_acc 0.6722\n",
            "Epoch 30 Loss 0.0505\n",
            "Epoch 30 train_acc 0.9832666666666666 test_acc 0.6690666666666667\n",
            "Epoch 40 Loss 0.0503\n",
            "Epoch 40 train_acc 0.9836 test_acc 0.6641666666666667\n",
            "Epoch 50 Loss 0.0442\n",
            "Epoch 50 train_acc 0.9867 test_acc 0.6748666666666666\n",
            "Epoch 60 Loss 0.0320\n",
            "Epoch 60 train_acc 0.9907 test_acc 0.6687666666666666\n",
            "Epoch 70 Loss 0.0259\n",
            "Epoch 70 train_acc 0.992 test_acc 0.6707\n",
            "Epoch 80 Loss 0.0292\n",
            "Epoch 80 train_acc 0.9916 test_acc 0.6694\n",
            "Epoch 90 Loss 0.0230\n",
            "Epoch 90 train_acc 0.9936666666666667 test_acc 0.6694333333333333\n"
          ]
        }
      ],
      "source": [
        "losses, acc_dict = train(model,loss_fn,optimizer,train_dataloader,data)"
      ]
    },
    {
      "cell_type": "markdown",
      "metadata": {
        "id": "6qunqIvXVyp9"
      },
      "source": [
        "## Pruning"
      ]
    },
    {
      "cell_type": "markdown",
      "metadata": {},
      "source": [
        "So far everything is the same. I set the pruning rate as $p ^ {1/n}$, this still works to some extent... Not sure how? I think we should still figure out some other schemes, maybe we can threshold the weights instead of removing a certain amount of smaller magnitude weights...."
      ]
    },
    {
      "cell_type": "code",
      "execution_count": 31,
      "metadata": {
        "colab": {
          "base_uri": "https://localhost:8080/"
        },
        "id": "Oaqx3cYxV1Ps",
        "outputId": "1753670f-5a54-44ea-90b1-961af83ee189"
      },
      "outputs": [
        {
          "name": "stderr",
          "output_type": "stream",
          "text": [
            "  0%|          | 0/6 [00:00<?, ?it/s]"
          ]
        },
        {
          "name": "stdout",
          "output_type": "stream",
          "text": [
            "Epoch 0 Loss 0.0317\n",
            "Epoch 0 train_acc 0.9905 test_acc 0.6689666666666667\n",
            "Epoch 10 Loss 0.0274\n",
            "Epoch 10 train_acc 0.9934333333333333 test_acc 0.6716666666666666\n",
            "Epoch 20 Loss 0.0223\n",
            "Epoch 20 train_acc 0.9944 test_acc 0.6708\n",
            "Epoch 30 Loss 0.0472\n",
            "Epoch 30 train_acc 0.9899333333333333 test_acc 0.6679\n",
            "Epoch 40 Loss 0.0586\n",
            "Epoch 40 train_acc 0.9894 test_acc 0.6704666666666667\n",
            "Epoch 50 Loss 0.0457\n",
            "Epoch 50 train_acc 0.9905666666666667 test_acc 0.6718666666666666\n",
            "Epoch 60 Loss 0.0201\n",
            "Epoch 60 train_acc 0.9957 test_acc 0.6686333333333333\n",
            "Epoch 70 Loss 0.0439\n",
            "Epoch 70 train_acc 0.9923666666666666 test_acc 0.6739\n",
            "Epoch 80 Loss 0.0254\n",
            "Epoch 80 train_acc 0.9942 test_acc 0.6658333333333334\n",
            "Epoch 90 Loss 0.0331\n",
            "Epoch 90 train_acc 0.9932 test_acc 0.6697666666666666\n"
          ]
        },
        {
          "name": "stderr",
          "output_type": "stream",
          "text": [
            " 17%|█▋        | 1/6 [01:41<08:26, 101.31s/it]"
          ]
        },
        {
          "name": "stdout",
          "output_type": "stream",
          "text": [
            "Epoch 0 Loss 0.0363\n",
            "Epoch 0 train_acc 0.9894 test_acc 0.6728\n",
            "Epoch 10 Loss 0.0201\n",
            "Epoch 10 train_acc 0.9948333333333333 test_acc 0.6746\n",
            "Epoch 20 Loss 0.0154\n",
            "Epoch 20 train_acc 0.9957333333333334 test_acc 0.6713333333333333\n",
            "Epoch 30 Loss 0.0249\n",
            "Epoch 30 train_acc 0.9937333333333334 test_acc 0.6696333333333333\n",
            "Epoch 40 Loss 0.0378\n",
            "Epoch 40 train_acc 0.9915666666666667 test_acc 0.6685333333333333\n",
            "Epoch 50 Loss 0.0289\n",
            "Epoch 50 train_acc 0.9936 test_acc 0.6729\n",
            "Epoch 60 Loss 0.0299\n",
            "Epoch 60 train_acc 0.9939 test_acc 0.6686\n",
            "Epoch 70 Loss 0.0374\n",
            "Epoch 70 train_acc 0.9939 test_acc 0.6757666666666666\n",
            "Epoch 80 Loss 0.0153\n",
            "Epoch 80 train_acc 0.9958666666666667 test_acc 0.6752\n",
            "Epoch 90 Loss 0.0519\n",
            "Epoch 90 train_acc 0.9874333333333334 test_acc 0.6736333333333333\n"
          ]
        },
        {
          "name": "stderr",
          "output_type": "stream",
          "text": [
            " 33%|███▎      | 2/6 [03:36<07:17, 109.28s/it]"
          ]
        },
        {
          "name": "stdout",
          "output_type": "stream",
          "text": [
            "Epoch 0 Loss 0.1614\n",
            "Epoch 0 train_acc 0.9409666666666666 test_acc 0.6797666666666666\n",
            "Epoch 10 Loss 0.0419\n",
            "Epoch 10 train_acc 0.9881 test_acc 0.6813\n",
            "Epoch 20 Loss 0.0323\n",
            "Epoch 20 train_acc 0.9914333333333334 test_acc 0.6815333333333333\n",
            "Epoch 30 Loss 0.0312\n",
            "Epoch 30 train_acc 0.9921333333333333 test_acc 0.6814666666666667\n",
            "Epoch 40 Loss 0.0354\n",
            "Epoch 40 train_acc 0.9896333333333334 test_acc 0.6829666666666667\n",
            "Epoch 50 Loss 0.0310\n",
            "Epoch 50 train_acc 0.9926 test_acc 0.6814\n",
            "Epoch 60 Loss 0.0217\n",
            "Epoch 60 train_acc 0.9949666666666667 test_acc 0.6839333333333333\n",
            "Epoch 70 Loss 0.0153\n",
            "Epoch 70 train_acc 0.9960666666666667 test_acc 0.6830666666666667\n",
            "Epoch 80 Loss 0.0238\n",
            "Epoch 80 train_acc 0.9940666666666667 test_acc 0.6815\n",
            "Epoch 90 Loss 0.0257\n",
            "Epoch 90 train_acc 0.9946 test_acc 0.6821\n"
          ]
        },
        {
          "name": "stderr",
          "output_type": "stream",
          "text": [
            " 50%|█████     | 3/6 [05:31<05:36, 112.00s/it]"
          ]
        },
        {
          "name": "stdout",
          "output_type": "stream",
          "text": [
            "Epoch 0 Loss 0.4272\n",
            "Epoch 0 train_acc 0.8043333333333333 test_acc 0.7145666666666667\n",
            "Epoch 10 Loss 0.2140\n",
            "Epoch 10 train_acc 0.9134 test_acc 0.7413666666666666\n",
            "Epoch 20 Loss 0.1630\n",
            "Epoch 20 train_acc 0.9336666666666666 test_acc 0.7409666666666667\n",
            "Epoch 30 Loss 0.1426\n",
            "Epoch 30 train_acc 0.9458333333333333 test_acc 0.7374\n",
            "Epoch 40 Loss 0.1218\n",
            "Epoch 40 train_acc 0.9531 test_acc 0.7401\n",
            "Epoch 50 Loss 0.1151\n",
            "Epoch 50 train_acc 0.9568 test_acc 0.7404333333333334\n",
            "Epoch 60 Loss 0.1022\n",
            "Epoch 60 train_acc 0.9624 test_acc 0.7402333333333333\n",
            "Epoch 70 Loss 0.0988\n",
            "Epoch 70 train_acc 0.9650333333333333 test_acc 0.7396333333333334\n",
            "Epoch 80 Loss 0.0807\n",
            "Epoch 80 train_acc 0.9697333333333333 test_acc 0.74\n",
            "Epoch 90 Loss 0.0848\n",
            "Epoch 90 train_acc 0.9702666666666667 test_acc 0.7395333333333334\n"
          ]
        },
        {
          "name": "stderr",
          "output_type": "stream",
          "text": [
            " 67%|██████▋   | 4/6 [07:27<03:47, 113.62s/it]"
          ]
        },
        {
          "name": "stdout",
          "output_type": "stream",
          "text": [
            "Epoch 0 Loss 0.5305\n",
            "Epoch 0 train_acc 0.7259 test_acc 0.7131666666666666\n",
            "Epoch 10 Loss 0.3117\n",
            "Epoch 10 train_acc 0.8689333333333333 test_acc 0.8475666666666667\n",
            "Epoch 20 Loss 0.2382\n",
            "Epoch 20 train_acc 0.9041666666666667 test_acc 0.8706\n",
            "Epoch 30 Loss 0.1871\n",
            "Epoch 30 train_acc 0.9257333333333333 test_acc 0.8907333333333334\n",
            "Epoch 40 Loss 0.1447\n",
            "Epoch 40 train_acc 0.9443666666666667 test_acc 0.9113\n",
            "Epoch 50 Loss 0.1246\n",
            "Epoch 50 train_acc 0.9543666666666667 test_acc 0.9234\n",
            "Epoch 60 Loss 0.1008\n",
            "Epoch 60 train_acc 0.9643333333333334 test_acc 0.9318666666666666\n",
            "Epoch 70 Loss 0.0816\n",
            "Epoch 70 train_acc 0.9714666666666667 test_acc 0.9397\n",
            "Epoch 80 Loss 0.0691\n",
            "Epoch 80 train_acc 0.9749333333333333 test_acc 0.9430666666666667\n",
            "Epoch 90 Loss 0.0637\n",
            "Epoch 90 train_acc 0.9785 test_acc 0.9500333333333333\n"
          ]
        },
        {
          "name": "stderr",
          "output_type": "stream",
          "text": [
            " 83%|████████▎ | 5/6 [09:26<01:55, 115.44s/it]"
          ]
        },
        {
          "name": "stdout",
          "output_type": "stream",
          "text": [
            "Epoch 0 Loss 0.4828\n",
            "Epoch 0 train_acc 0.7332 test_acc 0.7367666666666667\n",
            "Epoch 10 Loss 0.4252\n",
            "Epoch 10 train_acc 0.7524333333333333 test_acc 0.7541333333333333\n",
            "Epoch 20 Loss 0.4224\n",
            "Epoch 20 train_acc 0.7552 test_acc 0.7574333333333333\n",
            "Epoch 30 Loss 0.4224\n",
            "Epoch 30 train_acc 0.7554666666666666 test_acc 0.7569333333333333\n",
            "Epoch 40 Loss 0.3735\n",
            "Epoch 40 train_acc 0.8285333333333333 test_acc 0.8235\n",
            "Epoch 50 Loss 0.3369\n",
            "Epoch 50 train_acc 0.8443666666666667 test_acc 0.8412333333333334\n",
            "Epoch 60 Loss 0.3409\n",
            "Epoch 60 train_acc 0.8447666666666667 test_acc 0.8429333333333333\n",
            "Epoch 70 Loss 0.3371\n",
            "Epoch 70 train_acc 0.8462333333333333 test_acc 0.8436666666666667\n",
            "Epoch 80 Loss 0.3386\n",
            "Epoch 80 train_acc 0.8477333333333333 test_acc 0.8477333333333333\n",
            "Epoch 90 Loss 0.3414\n",
            "Epoch 90 train_acc 0.8447 test_acc 0.8432\n"
          ]
        },
        {
          "name": "stderr",
          "output_type": "stream",
          "text": [
            "                                              \r"
          ]
        }
      ],
      "source": [
        "INITIAL_WEIGHTS = deepcopy(model.state_dict())\n",
        "prune_epochs=6\n",
        "p = 0.2\n",
        "losses = {}\n",
        "acc_dict = {}\n",
        "for n in tqdm(range(1, prune_epochs + 1), total=prune_epochs, leave=False):\n",
        "\n",
        "  losses[n], acc_dict[n] = train(model,loss_fn,optimizer,train_dataloader,data)\n",
        "\n",
        "  pruning_rate = p ** (1 / n)\n",
        "\n",
        "  # Prune the model\n",
        "  prune.l1_unstructured(model.layers[0], name=\"weight\", amount=pruning_rate)\n",
        "  prune.l1_unstructured(model.layers[1], name=\"weight\", amount=pruning_rate)\n",
        "  prune.l1_unstructured(model.output_layer, name=\"weight\", amount=pruning_rate/2)\n",
        "\n",
        "  # Reset weights\n",
        "  reseted_weights = deepcopy(model.state_dict())\n",
        "  for param in reseted_weights.keys():\n",
        "      if param.split(\".\")[-1].replace(\"_orig\", \"\") in (\"bias\", \"weight\"):\n",
        "          reseted_weights[param] = deepcopy(INITIAL_WEIGHTS[param.replace(\"_orig\", \"\")])\n",
        "  if n< prune_epochs-1:\n",
        "    model.load_state_dict(reseted_weights)"
      ]
    },
    {
      "cell_type": "markdown",
      "metadata": {
        "id": "yyyfoYEXVvK3"
      },
      "source": [
        "## Probing"
      ]
    },
    {
      "cell_type": "code",
      "execution_count": 34,
      "metadata": {},
      "outputs": [
        {
          "data": {
            "text/plain": [
              "<matplotlib.legend.Legend at 0x7f8aac8bbc50>"
            ]
          },
          "execution_count": 34,
          "metadata": {},
          "output_type": "execute_result"
        },
        {
          "data": {
            "image/png": "[encoded data removed]",
            "text/plain": [
              "<Figure size 640x480 with 1 Axes>"
            ]
          },
          "metadata": {},
          "output_type": "display_data"
        }
      ],
      "source": [
        "#plot acc_dict(test)\n",
        "plt.figure()\n",
        "for key in acc_dict.keys():\n",
        "#   plt.plot(acc_dict[key]['train'],label=f'train_{key}')\n",
        "  plt.plot(acc_dict[key]['test'],label=f'test_{key}')\n",
        "plt.legend()"
      ]
    },
    {
      "cell_type": "markdown",
      "metadata": {},
      "source": [
        "The test accuracy is definitely improving with pruning, only till a certain point after which I guess we remove too many weights because of the current pruning rate heuristic and hence there is a drop in test accuracy."
      ]
    },
    {
      "cell_type": "code",
      "execution_count": 37,
      "metadata": {},
      "outputs": [
        {
          "data": {
            "text/plain": [
              "Text(0, 0.5, 'Final accuracy')"
            ]
          },
          "execution_count": 37,
          "metadata": {},
          "output_type": "execute_result"
        },
        {
          "data": {
            "image/png": "[encoded data removed]",
            "text/plain": [
              "<Figure size 640x480 with 1 Axes>"
            ]
          },
          "metadata": {},
          "output_type": "display_data"
        }
      ],
      "source": [
        "final_acc_list = [acc_dict[key]['test'][-1] for key in acc_dict.keys()]\n",
        "plt.figure()\n",
        "plt.plot(final_acc_list)\n",
        "plt.title('Final accuracy vs pruning epoch')\n",
        "plt.xlabel('Pruning epoch')\n",
        "plt.ylabel('Final accuracy')"
      ]
    },
    {
      "cell_type": "code",
      "execution_count": 38,
      "metadata": {
        "colab": {
          "base_uri": "https://localhost:8080/",
          "height": 435
        },
        "id": "lpxcyy_6GEQC",
        "outputId": "f3422a4d-fcd4-42eb-ce29-43a1288698c9"
      },
      "outputs": [
        {
          "data": {
            "image/png": "[encoded data removed]",
            "text/plain": [
              "<Figure size 640x480 with 2 Axes>"
            ]
          },
          "metadata": {},
          "output_type": "display_data"
        }
      ],
      "source": [
        "#normalise weights1 row-wise\n",
        "wt_mat = model.layers[0].weight.data.detach().cpu()\n",
        "w1_normed=F.normalize(wt_mat,p=2,dim=1)\n",
        "#visualise w1_normed as heat-map just in absolute values\n",
        "plt.imshow(w1_normed.abs().numpy())\n",
        "plt.colorbar()\n",
        "plt.show()"
      ]
    },
    {
      "cell_type": "code",
      "execution_count": 39,
      "metadata": {
        "colab": {
          "base_uri": "https://localhost:8080/",
          "height": 435
        },
        "id": "uQUG66BWHeOd",
        "outputId": "a2dd0e78-e1ca-4898-f8ad-d6bd84ed44a1"
      },
      "outputs": [
        {
          "data": {
            "image/png": "[encoded data removed]",
            "text/plain": [
              "<Figure size 640x480 with 2 Axes>"
            ]
          },
          "metadata": {},
          "output_type": "display_data"
        }
      ],
      "source": [
        "#normalise weights1 row-wise\n",
        "wt_mat = model.layers[1].weight.data.detach().cpu()\n",
        "w1_normed=F.normalize(wt_mat,p=2,dim=1)\n",
        "#visualise w1_normed as heat-map just in absolute values\n",
        "plt.imshow(w1_normed.abs().numpy())\n",
        "plt.colorbar()\n",
        "plt.show()"
      ]
    }
  ],
  "metadata": {
    "colab": {
      "authorship_tag": "ABX9TyN1gu3P2Bvdjy5Le6WrC1E7",
      "include_colab_link": true,
      "provenance": []
    },
    "kernelspec": {
      "display_name": "Python 3",
      "name": "python3"
    },
    "language_info": {
      "codemirror_mode": {
        "name": "ipython",
        "version": 3
      },
      "file_extension": ".py",
      "mimetype": "text/x-python",
      "name": "python",
      "nbconvert_exporter": "python",
      "pygments_lexer": "ipython3",
      "version": "3.11.3"
    }
  },
  "nbformat": 4,
  "nbformat_minor": 0
}
