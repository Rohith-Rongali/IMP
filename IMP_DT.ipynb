{
  "nbformat": 4,
  "nbformat_minor": 0,
  "metadata": {
    "colab": {
      "provenance": [],
      "authorship_tag": "ABX9TyN1gu3P2Bvdjy5Le6WrC1E7",
      "include_colab_link": true
    },
    "kernelspec": {
      "name": "python3",
      "display_name": "Python 3"
    },
    "language_info": {
      "name": "python"
    }
  },
  "cells": [
    {
      "cell_type": "markdown",
      "metadata": {
        "id": "view-in-github",
        "colab_type": "text"
      },
      "source": [
        "<a href=\"https://colab.research.google.com/github/Rohith-Rongali/IMP/blob/main/IMP_DT.ipynb\" target=\"_parent\"><img src=\"https://colab.research.google.com/assets/colab-badge.svg\" alt=\"Open In Colab\"/></a>"
      ]
    },
    {
      "cell_type": "markdown",
      "source": [
        "# Imports"
      ],
      "metadata": {
        "id": "sTt4FBrCswwi"
      }
    },
    {
      "cell_type": "code",
      "execution_count": 12,
      "metadata": {
        "id": "TkKwoTDlskqo"
      },
      "outputs": [],
      "source": [
        "import torch\n",
        "import torch.nn as nn\n",
        "import torch.nn.functional as F\n",
        "import torch.optim as optim\n",
        "from torch.utils.data import Dataset\n",
        "from torch.utils.data import DataLoader\n",
        "\n",
        "import torch.nn.utils.prune as prune\n",
        "\n",
        "from copy import deepcopy\n",
        "\n",
        "from tqdm import tqdm\n",
        "import os\n",
        "\n",
        "import numpy as np\n",
        "import matplotlib.pyplot as plt\n",
        "\n",
        "from types import SimpleNamespace"
      ]
    },
    {
      "cell_type": "markdown",
      "source": [
        "# Data functions"
      ],
      "metadata": {
        "id": "Yci_s3iDs1Mm"
      }
    },
    {
      "cell_type": "code",
      "source": [
        "def generate_points(num=40000,dim=18,type='normal',normal_var=1,radius=1):\n",
        "    '''\n",
        "    If type=='normal', then generate points from N(0,normal_var)\n",
        "    If type=='spherical', then simply divide the points by their norm.'''\n",
        "    X = torch.randn([num,dim]) #coordinates sampled from N(0,1)\n",
        "\n",
        "    if type=='spherical':\n",
        "      norm = torch.norm(X, p=2, dim=1, keepdim=True)\n",
        "      X_spherical = X / norm\n",
        "      return X_spherical\n",
        "\n",
        "    elif type=='normal':\n",
        "      return X\n",
        "\n",
        "    else:\n",
        "      raise ValueError('type should be either normal or spherical')\n",
        "\n",
        "\n",
        "class TreeNode:\n",
        "    '''\n",
        "    This class represents a node in the decision tree.\n",
        "    Each node has a depth, a maximum depth(of the tree), a feature index, and left and right child nodes.\n",
        "    Leaf nodes have a value, which is the predicted class.\n",
        "    '''\n",
        "    def __init__(self, depth, max_depth, feature_index):\n",
        "        self.depth = depth\n",
        "        self.max_depth = max_depth\n",
        "        self.feature = feature_index\n",
        "        self.left = None\n",
        "        self.right = None\n",
        "        self.value = None  # This will store the predicted class for leaf nodes\n",
        "\n",
        "    def build_tree(self):\n",
        "        if self.depth == self.max_depth:\n",
        "            self.value = float(self.feature % 2)\n",
        "            return\n",
        "\n",
        "        # Create left and right child nodes\n",
        "        self.left = TreeNode(self.depth + 1, self.max_depth, 2*self.feature+1)\n",
        "        self.right = TreeNode(self.depth + 1, self.max_depth, 2*self.feature+2)\n",
        "\n",
        "        # Recursively build left and right subtrees\n",
        "        self.left.build_tree()\n",
        "        self.right.build_tree()\n",
        "\n",
        "    def predict(self, x):\n",
        "        if self.value is not None:\n",
        "            return self.value\n",
        "\n",
        "        if x[self.feature] > 0:\n",
        "            return self.left.predict(x)\n",
        "        else:\n",
        "            return self.right.predict(x)\n",
        "\n",
        "\n",
        "def gen_std_basis_DT(depth, dim_in, type_data, num_points, feat_index_start=0,radius=1):\n",
        "    '''\n",
        "    Generate points uniformly random from a hypersphere. And the label is the prediction of the tree with depth = max_depth.\n",
        "    The node hyperplanes are simply characterised by standard basis vectors(for example, the root node hyperplane is x[0] = 0)\n",
        "\n",
        "    '''\n",
        "    Tree = TreeNode(depth = 0,max_depth=depth,feature_index = feat_index_start)\n",
        "    Tree.build_tree()\n",
        "    X = generate_points(num=num_points,dim=dim_in,type=type_data,radius=radius)\n",
        "\n",
        "    Y=[]\n",
        "    for item in X:\n",
        "        Y.append(Tree.predict(item))\n",
        "\n",
        "    Y = torch.tensor(Y)\n",
        "    return X,Y\n",
        "\n",
        "\n",
        "\n",
        "\n",
        "def set_npseed(seed):\n",
        "\tnp.random.seed(seed)\n",
        "\n",
        "\n",
        "def set_torchseed(seed):\n",
        "\ttorch.manual_seed(seed)\n",
        "\ttorch.cuda.manual_seed(seed)\n",
        "\ttorch.cuda.manual_seed_all(seed)\n",
        "\ttorch.backends.cudnn.deterministic = True\n",
        "\ttorch.backends.cudnn.benchmark = False\n",
        "\n",
        "\n",
        "\n",
        "# depth = 4\n",
        "# dim_in = 18\n",
        "# type_data = 'normal'\n",
        "# feat_index_start = 0 #the index of the first feature in the tree\n",
        "# num_points = 40000\n",
        "\n",
        "\n",
        "#     Tree = TreeNode(depth = 0,max_depth=depth,feature_index = feat_index_start)\n",
        "#     Tree.build_tree()\n",
        "#     X = generate_points(num=num_points,dim=dim_in,type=type_data)\n",
        "\n",
        "#     Y=[]\n",
        "#     for item in X:\n",
        "#     Y.append(Tree.predict(item))\n",
        "\n",
        "#     Y = torch.tensor(Y)\n",
        "\n",
        "class CustomDataset(Dataset):\n",
        "    def __init__(self, x, y, transform=None):\n",
        "        self.x = x\n",
        "        self.y = y\n",
        "        self.transform = transform\n",
        "\n",
        "    def __len__(self):\n",
        "        return len(self.x)\n",
        "\n",
        "    def __getitem__(self, idx):\n",
        "        sample_x = self.x[idx]\n",
        "        sample_y = self.y[idx]\n",
        "\n",
        "        if self.transform:\n",
        "            sample_x, sample_y = self.transform(sample_x, sample_y)\n",
        "\n",
        "        return sample_x, sample_y\n",
        "\n",
        "def return_data_elements(DataConfig):\n",
        "    # returns [data] and data_loader\n",
        "\n",
        "    x_train,y_train = gen_std_basis_DT(depth = DataConfig.depth, dim_in = DataConfig.dim_in, num_points = DataConfig.num_points,type_data= DataConfig.type_data, radius = DataConfig.radius)\n",
        "    x_test,y_test = gen_std_basis_DT(depth = DataConfig.depth, dim_in = DataConfig.dim_in, num_points = DataConfig.num_points,type_data= DataConfig.type_data, radius = DataConfig.radius)\n",
        "    # x_train, x_test, y_train, y_test = train_test_split(\n",
        "    # X, Y, test_size=0.1, random_state=42, stratify=Y)\n",
        "\n",
        "    data = [x_train,y_train.long(),x_test,y_test.long()]\n",
        "\n",
        "    return data\n",
        "\n",
        "def loaders(data,batch_size=32):\n",
        "    x_train,y_train,x_test,y_test = data\n",
        "    train_dataset = CustomDataset(x_train, y_train)\n",
        "    test_dataset = CustomDataset(x_test, y_test)\n",
        "    train_dataloader = DataLoader(train_dataset, batch_size=batch_size, shuffle=True)\n",
        "    test_dataloader = DataLoader(test_dataset, batch_size=batch_size, shuffle=False)\n",
        "    return train_dataloader, test_dataloader"
      ],
      "metadata": {
        "id": "wgzl99bdtK7G"
      },
      "execution_count": 3,
      "outputs": []
    },
    {
      "cell_type": "markdown",
      "source": [
        "# Models\n"
      ],
      "metadata": {
        "id": "3ikUnEJVwRei"
      }
    },
    {
      "cell_type": "code",
      "source": [
        "class DNN(nn.Module):\n",
        "    def __init__(self, dim_in, dim_out, width, depth):\n",
        "        super(DNN, self).__init__()\n",
        "        self.depth = depth\n",
        "        self.layers = nn.ModuleList([nn.Linear(dim_in if i == 0 else width, width) for i in range(self.depth)])\n",
        "        self.output_layer = nn.Linear(width, dim_out)\n",
        "        self.relu = nn.ReLU()\n",
        "\n",
        "    def forward(self, x):\n",
        "        for layer in self.layers:\n",
        "            x = self.relu(layer(x))\n",
        "        x = self.output_layer(x)\n",
        "        return x"
      ],
      "metadata": {
        "id": "LzvqA-FRwVVY"
      },
      "execution_count": 4,
      "outputs": []
    },
    {
      "cell_type": "markdown",
      "source": [
        "# Configs"
      ],
      "metadata": {
        "id": "dMpRYgpoxEJf"
      }
    },
    {
      "cell_type": "code",
      "source": [
        "\n",
        "model_config = SimpleNamespace(\n",
        "    width=256,\n",
        "    depth=2\n",
        ")\n",
        "\n",
        "data_config = SimpleNamespace(\n",
        "    dim_in=100,\n",
        "    depth=2,\n",
        "    type_data='spherical',\n",
        "    num_points=10000,\n",
        "    radius=1,\n",
        "    dim_out=2\n",
        ")\n",
        "\n",
        "train_config = SimpleNamespace(\n",
        "    batch_size=32,\n",
        "    lr=0.01,\n",
        "    epochs=100\n",
        ")\n"
      ],
      "metadata": {
        "id": "Nz3C2i92xG4c"
      },
      "execution_count": 5,
      "outputs": []
    },
    {
      "cell_type": "markdown",
      "source": [
        "# Training"
      ],
      "metadata": {
        "id": "7BEZbB2Ps18N"
      }
    },
    {
      "cell_type": "code",
      "source": [
        "device = torch.device(\"cuda\" if torch.cuda.is_available() else \"cpu\")"
      ],
      "metadata": {
        "id": "2VUhFr590ybb"
      },
      "execution_count": 6,
      "outputs": []
    },
    {
      "cell_type": "code",
      "source": [
        "data= return_data_elements(data_config)\n",
        "x_train,y_train,x_test,y_test = data"
      ],
      "metadata": {
        "id": "cMMdrJJitsUq"
      },
      "execution_count": 7,
      "outputs": []
    },
    {
      "cell_type": "code",
      "source": [
        "# Create DataLoaders for train and test datasets\n",
        "batch_size = 32\n",
        "\n",
        "# Assuming you have a custom Dataset class, you can create instances like this:\n",
        "train_dataset = CustomDataset(x_train, y_train)\n",
        "test_dataset = CustomDataset(x_test, y_test)\n",
        "\n",
        "# Create DataLoaders\n",
        "train_dataloader = DataLoader(train_dataset, batch_size=batch_size, shuffle=True)\n",
        "test_dataloader = DataLoader(test_dataset, batch_size=batch_size, shuffle=False)"
      ],
      "metadata": {
        "id": "XrkZpOuWvJwj"
      },
      "execution_count": 8,
      "outputs": []
    },
    {
      "cell_type": "code",
      "source": [
        "model = DNN(dim_in=data_config.dim_in, dim_out=data_config.dim_out, width=model_config.width, depth=model_config.depth)\n",
        "loss_fn = nn.CrossEntropyLoss()\n",
        "optimizer = torch.optim.Adam(model.parameters(), lr=train_config.lr)"
      ],
      "metadata": {
        "id": "diQWbC5aw32C"
      },
      "execution_count": 14,
      "outputs": []
    },
    {
      "cell_type": "code",
      "source": [
        "def train(model,loss_fn,optimizer,train_dataloader,\n",
        "          data,num_epochs=train_config.epochs,log_epochs=10,log_acc=10,thresh=1e-5,print_std=True):\n",
        "  [x_train,y_train,x_test,y_test]=data\n",
        "  model.to(device)\n",
        "  Train_losses=[]\n",
        "  acc_dict = {'train':[],'test':[]}\n",
        "  for epoch in range(num_epochs):\n",
        "      model.train()\n",
        "      for x_batch, y_batch in train_dataloader:\n",
        "          x_batch = x_batch.to(device)\n",
        "          y_batch = y_batch.to(device)\n",
        "          pred = model(x_batch)\n",
        "          loss = loss_fn(pred, y_batch)\n",
        "          loss.backward()\n",
        "          optimizer.step()\n",
        "          optimizer.zero_grad()\n",
        "\n",
        "\n",
        "      if epoch % log_epochs == 0:\n",
        "          loss_full = loss_fn(model(x_train.to(device)),y_train.to(device))\n",
        "          Train_losses.append(loss_full.item())\n",
        "          print(f'Epoch {epoch} Loss {loss_full.item():.4f}')\n",
        "      if log_acc!=0:\n",
        "        if epoch % log_acc == 0:\n",
        "          train_pred = model(x_train.to(device))\n",
        "          pred = torch.argmax(model(x_train.to(device)),dim=1)\n",
        "          zero_mask = (pred-y_train.to(device) == 0.0)\n",
        "          train_acc = zero_mask.sum().item()/len(y_train)\n",
        "          acc_dict['train'].append(train_acc)\n",
        "\n",
        "          test_pred = model(x_test.to(device))[:,0]\n",
        "          pred = torch.argmax(model(x_test.to(device)),dim=1)\n",
        "          zero_mask = (pred-y_test.to(device) == 0.0)\n",
        "          test_acc = zero_mask.sum().item()/len(y_test)\n",
        "          acc_dict['test'].append(test_acc)\n",
        "\n",
        "          if print_std:\n",
        "            print(f'Epoch {epoch} train_acc {train_acc} test_acc {test_acc}')\n",
        "      if loss_full.item() < thresh:\n",
        "          print(f'Early stopping at epoch {epoch} because loss is below 0.01')\n",
        "          break\n",
        "\n",
        "  return Train_losses,acc_dict"
      ],
      "metadata": {
        "id": "HkxSrBb4ziwR"
      },
      "execution_count": 10,
      "outputs": []
    },
    {
      "cell_type": "code",
      "source": [
        "# losses, acc_dict = train(model,loss_fn,optimizer,train_dataloader,data)"
      ],
      "metadata": {
        "colab": {
          "base_uri": "https://localhost:8080/"
        },
        "id": "YVP7CC6l1Il0",
        "outputId": "cbc5c26e-520e-47fa-be90-a112c01d7803"
      },
      "execution_count": null,
      "outputs": [
        {
          "output_type": "stream",
          "name": "stdout",
          "text": [
            "Epoch 0 Loss 0.2744\n",
            "Epoch 0 train_acc 0.8834 test_acc 0.8555\n",
            "Epoch 10 Loss 0.0257\n",
            "Epoch 10 train_acc 0.9922 test_acc 0.9071\n",
            "Epoch 20 Loss 0.0138\n",
            "Epoch 20 train_acc 0.9952 test_acc 0.9075\n",
            "Epoch 30 Loss 0.0001\n",
            "Epoch 30 train_acc 1.0 test_acc 0.9206\n",
            "Epoch 40 Loss 0.0000\n",
            "Epoch 40 train_acc 1.0 test_acc 0.922\n",
            "Early stopping at epoch 40 because loss is below 0.01\n"
          ]
        }
      ]
    },
    {
      "cell_type": "markdown",
      "source": [
        "## Pruning"
      ],
      "metadata": {
        "id": "6qunqIvXVyp9"
      }
    },
    {
      "cell_type": "code",
      "source": [
        "INITIAL_WEIGHTS = deepcopy(model.state_dict())\n",
        "prune_epochs=6\n",
        "p = 0.2\n",
        "losses = {}\n",
        "acc_dict = {}\n",
        "for n in tqdm(range(1, prune_epochs + 1), total=prune_epochs, leave=False):\n",
        "\n",
        "  losses[n], acc_dict[n] = train(model,loss_fn,optimizer,train_dataloader,data)\n",
        "\n",
        "  pruning_rate = p ** (1 / n)\n",
        "\n",
        "  # Prune the model\n",
        "  prune.l1_unstructured(model.layers[0], name=\"weight\", amount=pruning_rate)\n",
        "  prune.l1_unstructured(model.layers[1], name=\"weight\", amount=pruning_rate)\n",
        "  prune.l1_unstructured(model.output_layer, name=\"weight\", amount=pruning_rate/2)\n",
        "\n",
        "  # Reset weights\n",
        "  reseted_weights = deepcopy(model.state_dict())\n",
        "  for param in reseted_weights.keys():\n",
        "      if param.split(\".\")[-1].replace(\"_orig\", \"\") in (\"bias\", \"weight\"):\n",
        "          reseted_weights[param] = deepcopy(INITIAL_WEIGHTS[param.replace(\"_orig\", \"\")])\n",
        "  if n< prune_epochs-1:\n",
        "    model.load_state_dict(reseted_weights)"
      ],
      "metadata": {
        "colab": {
          "base_uri": "https://localhost:8080/"
        },
        "id": "Oaqx3cYxV1Ps",
        "outputId": "1753670f-5a54-44ea-90b1-961af83ee189"
      },
      "execution_count": 15,
      "outputs": [
        {
          "output_type": "stream",
          "name": "stderr",
          "text": [
            "\r  0%|          | 0/6 [00:00<?, ?it/s]"
          ]
        },
        {
          "output_type": "stream",
          "name": "stdout",
          "text": [
            "Epoch 0 Loss 0.3177\n",
            "Epoch 0 train_acc 0.8653 test_acc 0.8341\n",
            "Epoch 10 Loss 0.0366\n",
            "Epoch 10 train_acc 0.9874 test_acc 0.8998\n",
            "Epoch 20 Loss 0.0070\n",
            "Epoch 20 train_acc 0.9982 test_acc 0.9054\n",
            "Epoch 30 Loss 0.0065\n",
            "Epoch 30 train_acc 0.9982 test_acc 0.9022\n",
            "Epoch 40 Loss 0.0150\n",
            "Epoch 40 train_acc 0.9954 test_acc 0.8914\n",
            "Epoch 50 Loss 0.0071\n",
            "Epoch 50 train_acc 0.9984 test_acc 0.9067\n",
            "Epoch 60 Loss 0.0000\n",
            "Epoch 60 train_acc 1.0 test_acc 0.9057\n"
          ]
        },
        {
          "output_type": "stream",
          "name": "stderr",
          "text": [
            "\r 17%|█▋        | 1/6 [01:29<07:29, 89.97s/it]"
          ]
        },
        {
          "output_type": "stream",
          "name": "stdout",
          "text": [
            "Epoch 70 Loss 0.0000\n",
            "Epoch 70 train_acc 1.0 test_acc 0.9068\n",
            "Early stopping at epoch 70 because loss is below 0.01\n",
            "Epoch 0 Loss 0.2537\n",
            "Epoch 0 train_acc 0.8934 test_acc 0.8681\n",
            "Epoch 10 Loss 0.0585\n",
            "Epoch 10 train_acc 0.9852 test_acc 0.9111\n",
            "Epoch 20 Loss 0.0000\n",
            "Epoch 20 train_acc 1.0 test_acc 0.929\n"
          ]
        },
        {
          "output_type": "stream",
          "name": "stderr",
          "text": [
            "\r 33%|███▎      | 2/6 [02:19<04:24, 66.20s/it]"
          ]
        },
        {
          "output_type": "stream",
          "name": "stdout",
          "text": [
            "Epoch 30 Loss 0.0000\n",
            "Epoch 30 train_acc 1.0 test_acc 0.9306\n",
            "Early stopping at epoch 30 because loss is below 0.01\n",
            "Epoch 0 Loss 0.1697\n",
            "Epoch 0 train_acc 0.9331 test_acc 0.9145\n",
            "Epoch 10 Loss 0.0125\n",
            "Epoch 10 train_acc 0.9963 test_acc 0.9554\n",
            "Epoch 20 Loss 0.0001\n",
            "Epoch 20 train_acc 1.0 test_acc 0.9612\n"
          ]
        },
        {
          "output_type": "stream",
          "name": "stderr",
          "text": [
            "\r 50%|█████     | 3/6 [03:08<02:55, 58.37s/it]"
          ]
        },
        {
          "output_type": "stream",
          "name": "stdout",
          "text": [
            "Epoch 30 Loss 0.0000\n",
            "Epoch 30 train_acc 1.0 test_acc 0.9587\n",
            "Early stopping at epoch 30 because loss is below 0.01\n",
            "Epoch 0 Loss 0.1159\n",
            "Epoch 0 train_acc 0.9524 test_acc 0.9402\n",
            "Epoch 10 Loss 0.0192\n",
            "Epoch 10 train_acc 0.992 test_acc 0.964\n",
            "Epoch 20 Loss 0.0001\n",
            "Epoch 20 train_acc 1.0 test_acc 0.9749\n",
            "Epoch 30 Loss 0.0000\n",
            "Epoch 30 train_acc 1.0 test_acc 0.9752\n"
          ]
        },
        {
          "output_type": "stream",
          "name": "stderr",
          "text": [
            "\r 67%|██████▋   | 4/6 [04:21<02:08, 64.24s/it]"
          ]
        },
        {
          "output_type": "stream",
          "name": "stdout",
          "text": [
            "Epoch 40 Loss 0.0000\n",
            "Epoch 40 train_acc 1.0 test_acc 0.9741\n",
            "Early stopping at epoch 40 because loss is below 0.01\n",
            "Epoch 0 Loss 0.1953\n",
            "Epoch 0 train_acc 0.9212 test_acc 0.9151\n",
            "Epoch 10 Loss 0.0061\n",
            "Epoch 10 train_acc 0.9985 test_acc 0.9841\n",
            "Epoch 20 Loss 0.0018\n",
            "Epoch 20 train_acc 0.9999 test_acc 0.9825\n",
            "Epoch 30 Loss 0.0011\n",
            "Epoch 30 train_acc 0.9999 test_acc 0.9835\n",
            "Epoch 40 Loss 0.0030\n",
            "Epoch 40 train_acc 0.9992 test_acc 0.9848\n",
            "Epoch 50 Loss 0.0010\n",
            "Epoch 50 train_acc 0.9997 test_acc 0.9858\n",
            "Epoch 60 Loss 0.0001\n",
            "Epoch 60 train_acc 1.0 test_acc 0.9848\n",
            "Epoch 70 Loss 0.0000\n",
            "Epoch 70 train_acc 1.0 test_acc 0.9836\n",
            "Epoch 80 Loss 0.0018\n",
            "Epoch 80 train_acc 0.9997 test_acc 0.9836\n",
            "Epoch 90 Loss 0.0001\n",
            "Epoch 90 train_acc 1.0 test_acc 0.9842\n"
          ]
        },
        {
          "output_type": "stream",
          "name": "stderr",
          "text": [
            "\r 83%|████████▎ | 5/6 [08:10<02:03, 123.43s/it]"
          ]
        },
        {
          "output_type": "stream",
          "name": "stdout",
          "text": [
            "Epoch 0 Loss 0.0459\n",
            "Epoch 0 train_acc 0.992 test_acc 0.9809\n",
            "Epoch 10 Loss 0.0003\n",
            "Epoch 10 train_acc 1.0 test_acc 0.9879\n",
            "Epoch 20 Loss 0.0002\n",
            "Epoch 20 train_acc 1.0 test_acc 0.988\n",
            "Epoch 30 Loss 0.0002\n",
            "Epoch 30 train_acc 1.0 test_acc 0.9883\n",
            "Epoch 40 Loss 0.0000\n",
            "Epoch 40 train_acc 1.0 test_acc 0.9886\n",
            "Epoch 50 Loss 0.0002\n",
            "Epoch 50 train_acc 0.9999 test_acc 0.9872\n",
            "Epoch 60 Loss 0.0000\n",
            "Epoch 60 train_acc 1.0 test_acc 0.9879\n",
            "Epoch 70 Loss 0.0000\n",
            "Epoch 70 train_acc 1.0 test_acc 0.9879\n",
            "Epoch 80 Loss 0.0000\n",
            "Epoch 80 train_acc 1.0 test_acc 0.9872\n",
            "Epoch 90 Loss 0.0000\n",
            "Epoch 90 train_acc 1.0 test_acc 0.9875\n",
            "Early stopping at epoch 90 because loss is below 0.01\n"
          ]
        },
        {
          "output_type": "stream",
          "name": "stderr",
          "text": []
        }
      ]
    },
    {
      "cell_type": "code",
      "source": [],
      "metadata": {
        "id": "scyMB0gHdgRf"
      },
      "execution_count": null,
      "outputs": []
    },
    {
      "cell_type": "markdown",
      "source": [
        "## Probing"
      ],
      "metadata": {
        "id": "yyyfoYEXVvK3"
      }
    },
    {
      "cell_type": "code",
      "source": [
        "#normalise weights1 row-wise\n",
        "wt_mat = model.layers[0].weight.data.detach().cpu()\n",
        "w1_normed=F.normalize(wt_mat,p=2,dim=1)\n",
        "#visualise w1_normed as heat-map just in absolute values\n",
        "plt.imshow(w1_normed.abs().numpy())\n",
        "plt.colorbar()\n",
        "plt.show()"
      ],
      "metadata": {
        "colab": {
          "base_uri": "https://localhost:8080/",
          "height": 435
        },
        "id": "lpxcyy_6GEQC",
        "outputId": "f3422a4d-fcd4-42eb-ce29-43a1288698c9"
      },
      "execution_count": 19,
      "outputs": [
        {
          "output_type": "display_data",
          "data": {
            "text/plain": [
              "<Figure size 640x480 with 2 Axes>"
            ],
            "image/png": "[encoded data removed]"
          },
          "metadata": {}
        }
      ]
    },
    {
      "cell_type": "code",
      "source": [
        "#normalise weights1 row-wise\n",
        "wt_mat = model.layers[1].weight.data.detach().cpu()\n",
        "w1_normed=F.normalize(wt_mat,p=2,dim=1)\n",
        "#visualise w1_normed as heat-map just in absolute values\n",
        "plt.imshow(w1_normed.abs().numpy())\n",
        "plt.colorbar()\n",
        "plt.show()"
      ],
      "metadata": {
        "colab": {
          "base_uri": "https://localhost:8080/",
          "height": 435
        },
        "id": "uQUG66BWHeOd",
        "outputId": "a2dd0e78-e1ca-4898-f8ad-d6bd84ed44a1"
      },
      "execution_count": 20,
      "outputs": [
        {
          "output_type": "display_data",
          "data": {
            "text/plain": [
              "<Figure size 640x480 with 2 Axes>"
            ],
            "image/png": "[encoded data removed]"
          },
          "metadata": {}
        }
      ]
    }
  ]
}