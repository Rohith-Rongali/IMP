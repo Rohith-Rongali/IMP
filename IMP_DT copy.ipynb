{
  "cells": [
    {
      "cell_type": "markdown",
      "metadata": {
        "colab_type": "text",
        "id": "view-in-github"
      },
      "source": [
        "<a href=\"https://colab.research.google.com/github/Rohith-Rongali/IMP/blob/main/IMP_DT.ipynb\" target=\"_parent\"><img src=\"https://colab.research.google.com/assets/colab-badge.svg\" alt=\"Open In Colab\"/></a>"
      ]
    },
    {
      "cell_type": "markdown",
      "metadata": {
        "id": "sTt4FBrCswwi"
      },
      "source": [
        "# Imports"
      ]
    },
    {
      "cell_type": "code",
      "execution_count": 1,
      "metadata": {
        "id": "TkKwoTDlskqo"
      },
      "outputs": [],
      "source": [
        "import torch\n",
        "import torch.nn as nn\n",
        "import torch.nn.functional as F\n",
        "import torch.optim as optim\n",
        "from torch.utils.data import Dataset\n",
        "from torch.utils.data import DataLoader\n",
        "\n",
        "import torch.nn.utils.prune as prune\n",
        "\n",
        "from copy import deepcopy\n",
        "\n",
        "from tqdm import tqdm\n",
        "import os\n",
        "\n",
        "import numpy as np\n",
        "import matplotlib.pyplot as plt\n",
        "\n",
        "from types import SimpleNamespace"
      ]
    },
    {
      "cell_type": "markdown",
      "metadata": {
        "id": "Yci_s3iDs1Mm"
      },
      "source": [
        "# Data functions"
      ]
    },
    {
      "cell_type": "code",
      "execution_count": 2,
      "metadata": {
        "id": "wgzl99bdtK7G"
      },
      "outputs": [],
      "source": [
        "def generate_points(num=40000,dim=18,type='normal',normal_var=1,radius=1):\n",
        "    '''\n",
        "    If type=='normal', then generate points from N(0,normal_var)\n",
        "    If type=='spherical', then simply divide the points by their norm.'''\n",
        "    X = torch.randn([num,dim]) #coordinates sampled from N(0,1)\n",
        "\n",
        "    if type=='spherical':\n",
        "      norm = torch.norm(X, p=2, dim=1, keepdim=True)\n",
        "      X_spherical = X / norm\n",
        "      return X_spherical\n",
        "\n",
        "    elif type=='normal':\n",
        "      return X\n",
        "\n",
        "    else:\n",
        "      raise ValueError('type should be either normal or spherical')\n",
        "\n",
        "\n",
        "class TreeNode:\n",
        "    '''\n",
        "    This class represents a node in the decision tree.\n",
        "    Each node has a depth, a maximum depth(of the tree), a feature index, and left and right child nodes.\n",
        "    Leaf nodes have a value, which is the predicted class.\n",
        "    '''\n",
        "    def __init__(self, depth, max_depth, feature_index):\n",
        "        self.depth = depth\n",
        "        self.max_depth = max_depth\n",
        "        self.feature = feature_index\n",
        "        self.left = None\n",
        "        self.right = None\n",
        "        self.value = None  # This will store the predicted class for leaf nodes\n",
        "\n",
        "    def build_tree(self):\n",
        "        if self.depth == self.max_depth:\n",
        "            self.value = float(self.feature % 2)\n",
        "            return\n",
        "\n",
        "        # Create left and right child nodes\n",
        "        self.left = TreeNode(self.depth + 1, self.max_depth, 2*self.feature+1)\n",
        "        self.right = TreeNode(self.depth + 1, self.max_depth, 2*self.feature+2)\n",
        "\n",
        "        # Recursively build left and right subtrees\n",
        "        self.left.build_tree()\n",
        "        self.right.build_tree()\n",
        "\n",
        "    def predict(self, x):\n",
        "        if self.value is not None:\n",
        "            return self.value\n",
        "\n",
        "        if x[self.feature] > 0:\n",
        "            return self.left.predict(x)\n",
        "        else:\n",
        "            return self.right.predict(x)\n",
        "\n",
        "\n",
        "def gen_std_basis_DT(depth, dim_in, type_data, num_points, feat_index_start=0,radius=1):\n",
        "    '''\n",
        "    Generate points uniformly random from a hypersphere. And the label is the prediction of the tree with depth = max_depth.\n",
        "    The node hyperplanes are simply characterised by standard basis vectors(for example, the root node hyperplane is x[0] = 0)\n",
        "\n",
        "    '''\n",
        "    Tree = TreeNode(depth = 0,max_depth=depth,feature_index = feat_index_start)\n",
        "    Tree.build_tree()\n",
        "    X = generate_points(num=num_points,dim=dim_in,type=type_data,radius=radius)\n",
        "\n",
        "    Y=[]\n",
        "    for item in X:\n",
        "        Y.append(Tree.predict(item))\n",
        "\n",
        "    Y = torch.tensor(Y)\n",
        "    return X,Y\n",
        "\n",
        "\n",
        "\n",
        "\n",
        "def set_npseed(seed):\n",
        "\tnp.random.seed(seed)\n",
        "\n",
        "\n",
        "def set_torchseed(seed):\n",
        "\ttorch.manual_seed(seed)\n",
        "\ttorch.cuda.manual_seed(seed)\n",
        "\ttorch.cuda.manual_seed_all(seed)\n",
        "\ttorch.backends.cudnn.deterministic = True\n",
        "\ttorch.backends.cudnn.benchmark = False\n",
        "\n",
        "\n",
        "\n",
        "# depth = 4\n",
        "# dim_in = 18\n",
        "# type_data = 'normal'\n",
        "# feat_index_start = 0 #the index of the first feature in the tree\n",
        "# num_points = 40000\n",
        "\n",
        "\n",
        "#     Tree = TreeNode(depth = 0,max_depth=depth,feature_index = feat_index_start)\n",
        "#     Tree.build_tree()\n",
        "#     X = generate_points(num=num_points,dim=dim_in,type=type_data)\n",
        "\n",
        "#     Y=[]\n",
        "#     for item in X:\n",
        "#     Y.append(Tree.predict(item))\n",
        "\n",
        "#     Y = torch.tensor(Y)\n",
        "\n",
        "class CustomDataset(Dataset):\n",
        "    def __init__(self, x, y, transform=None):\n",
        "        self.x = x\n",
        "        self.y = y\n",
        "        self.transform = transform\n",
        "\n",
        "    def __len__(self):\n",
        "        return len(self.x)\n",
        "\n",
        "    def __getitem__(self, idx):\n",
        "        sample_x = self.x[idx]\n",
        "        sample_y = self.y[idx]\n",
        "\n",
        "        if self.transform:\n",
        "            sample_x, sample_y = self.transform(sample_x, sample_y)\n",
        "\n",
        "        return sample_x, sample_y\n",
        "\n",
        "def return_data_elements(DataConfig):\n",
        "    # returns [data] and data_loader\n",
        "\n",
        "    x_train,y_train = gen_std_basis_DT(depth = DataConfig.depth, dim_in = DataConfig.dim_in, num_points = DataConfig.num_points,type_data= DataConfig.type_data, radius = DataConfig.radius)\n",
        "    x_test,y_test = gen_std_basis_DT(depth = DataConfig.depth, dim_in = DataConfig.dim_in, num_points = DataConfig.num_points,type_data= DataConfig.type_data, radius = DataConfig.radius)\n",
        "    # x_train, x_test, y_train, y_test = train_test_split(\n",
        "    # X, Y, test_size=0.1, random_state=42, stratify=Y)\n",
        "\n",
        "    data = [x_train,y_train.long(),x_test,y_test.long()]\n",
        "\n",
        "    return data\n",
        "\n",
        "def loaders(data,batch_size=32):\n",
        "    x_train,y_train,x_test,y_test = data\n",
        "    train_dataset = CustomDataset(x_train, y_train)\n",
        "    test_dataset = CustomDataset(x_test, y_test)\n",
        "    train_dataloader = DataLoader(train_dataset, batch_size=batch_size, shuffle=True)\n",
        "    test_dataloader = DataLoader(test_dataset, batch_size=batch_size, shuffle=False)\n",
        "    return train_dataloader, test_dataloader"
      ]
    },
    {
      "cell_type": "markdown",
      "metadata": {
        "id": "3ikUnEJVwRei"
      },
      "source": [
        "# Models\n"
      ]
    },
    {
      "cell_type": "code",
      "execution_count": 3,
      "metadata": {
        "id": "LzvqA-FRwVVY"
      },
      "outputs": [],
      "source": [
        "class DNN(nn.Module):\n",
        "    def __init__(self, dim_in, dim_out, width, depth):\n",
        "        super(DNN, self).__init__()\n",
        "        self.depth = depth\n",
        "        self.layers = nn.ModuleList([nn.Linear(dim_in if i == 0 else width, width) for i in range(self.depth)])\n",
        "        self.output_layer = nn.Linear(width, dim_out)\n",
        "        self.relu = nn.ReLU()\n",
        "\n",
        "    def forward(self, x):\n",
        "        for layer in self.layers:\n",
        "            x = self.relu(layer(x))\n",
        "        x = self.output_layer(x)\n",
        "        return x"
      ]
    },
    {
      "cell_type": "markdown",
      "metadata": {
        "id": "dMpRYgpoxEJf"
      },
      "source": [
        "# Configs"
      ]
    },
    {
      "cell_type": "code",
      "execution_count": 5,
      "metadata": {
        "id": "Nz3C2i92xG4c"
      },
      "outputs": [],
      "source": [
        "\n",
        "model_config = SimpleNamespace(\n",
        "    width=256,\n",
        "    depth=2\n",
        ")\n",
        "\n",
        "data_config = SimpleNamespace(\n",
        "    dim_in=100,\n",
        "    depth=4,\n",
        "    type_data='spherical',\n",
        "    num_points=60000,\n",
        "    radius=1,\n",
        "    dim_out=2\n",
        ")\n",
        "\n",
        "train_config = SimpleNamespace(\n",
        "    batch_size=32,\n",
        "    lr=0.01,\n",
        "    epochs=100\n",
        ")\n"
      ]
    },
    {
      "cell_type": "markdown",
      "metadata": {
        "id": "7BEZbB2Ps18N"
      },
      "source": [
        "# Training"
      ]
    },
    {
      "cell_type": "code",
      "execution_count": 12,
      "metadata": {
        "id": "2VUhFr590ybb"
      },
      "outputs": [],
      "source": [
        "device = torch.device(\"cuda:1\" if torch.cuda.is_available() else \"cpu\")"
      ]
    },
    {
      "cell_type": "code",
      "execution_count": 13,
      "metadata": {
        "id": "cMMdrJJitsUq"
      },
      "outputs": [],
      "source": [
        "data= return_data_elements(data_config)\n",
        "x_train,y_train,x_test,y_test = data"
      ]
    },
    {
      "cell_type": "code",
      "execution_count": 14,
      "metadata": {
        "id": "XrkZpOuWvJwj"
      },
      "outputs": [],
      "source": [
        "# Create DataLoaders for train and test datasets\n",
        "batch_size = 32\n",
        "\n",
        "# Assuming you have a custom Dataset class, you can create instances like this:\n",
        "train_dataset = CustomDataset(x_train, y_train)\n",
        "test_dataset = CustomDataset(x_test, y_test)\n",
        "\n",
        "# Create DataLoaders\n",
        "train_dataloader = DataLoader(train_dataset, batch_size=batch_size, shuffle=True)\n",
        "test_dataloader = DataLoader(test_dataset, batch_size=batch_size, shuffle=False)"
      ]
    },
    {
      "cell_type": "code",
      "execution_count": 15,
      "metadata": {
        "id": "diQWbC5aw32C"
      },
      "outputs": [],
      "source": [
        "model = DNN(dim_in=data_config.dim_in, dim_out=data_config.dim_out, width=model_config.width, depth=model_config.depth)\n",
        "loss_fn = nn.CrossEntropyLoss()\n",
        "optimizer = torch.optim.Adam(model.parameters(), lr=train_config.lr)"
      ]
    },
    {
      "cell_type": "code",
      "execution_count": 16,
      "metadata": {
        "id": "HkxSrBb4ziwR"
      },
      "outputs": [],
      "source": [
        "def train(model,loss_fn,optimizer,train_dataloader,\n",
        "          data,num_epochs=train_config.epochs,log_epochs=10,log_acc=10,thresh=1e-5,print_std=True):\n",
        "  [x_train,y_train,x_test,y_test]=data\n",
        "  model.to(device)\n",
        "  Train_losses=[]\n",
        "  acc_dict = {'train':[],'test':[]}\n",
        "  for epoch in range(num_epochs):\n",
        "      model.train()\n",
        "      for x_batch, y_batch in train_dataloader:\n",
        "          x_batch = x_batch.to(device)\n",
        "          y_batch = y_batch.to(device)\n",
        "          pred = model(x_batch)\n",
        "          loss = loss_fn(pred, y_batch)\n",
        "          loss.backward()\n",
        "          optimizer.step()\n",
        "          optimizer.zero_grad()\n",
        "\n",
        "\n",
        "      if epoch % log_epochs == 0:\n",
        "          loss_full = loss_fn(model(x_train.to(device)),y_train.to(device))\n",
        "          Train_losses.append(loss_full.item())\n",
        "          print(f'Epoch {epoch} Loss {loss_full.item():.4f}')\n",
        "      if log_acc!=0:\n",
        "        if epoch % log_acc == 0:\n",
        "          train_pred = model(x_train.to(device))\n",
        "          pred = torch.argmax(model(x_train.to(device)),dim=1)\n",
        "          zero_mask = (pred-y_train.to(device) == 0.0)\n",
        "          train_acc = zero_mask.sum().item()/len(y_train)\n",
        "          acc_dict['train'].append(train_acc)\n",
        "\n",
        "          test_pred = model(x_test.to(device))[:,0]\n",
        "          pred = torch.argmax(model(x_test.to(device)),dim=1)\n",
        "          zero_mask = (pred-y_test.to(device) == 0.0)\n",
        "          test_acc = zero_mask.sum().item()/len(y_test)\n",
        "          acc_dict['test'].append(test_acc)\n",
        "\n",
        "          if print_std:\n",
        "            print(f'Epoch {epoch} train_acc {train_acc} test_acc {test_acc}')\n",
        "      if loss_full.item() < thresh:\n",
        "          print(f'Early stopping at epoch {epoch} because loss is below 0.01')\n",
        "          break\n",
        "\n",
        "  return Train_losses,acc_dict"
      ]
    },
    {
      "cell_type": "code",
      "execution_count": 17,
      "metadata": {
        "colab": {
          "base_uri": "https://localhost:8080/"
        },
        "id": "YVP7CC6l1Il0",
        "outputId": "cbc5c26e-520e-47fa-be90-a112c01d7803"
      },
      "outputs": [
        {
          "name": "stdout",
          "output_type": "stream",
          "text": [
            "Epoch 0 Loss 0.5745\n",
            "Epoch 0 train_acc 0.70375 test_acc 0.6797333333333333\n",
            "Epoch 10 Loss 0.1822\n",
            "Epoch 10 train_acc 0.9298333333333333 test_acc 0.7782333333333333\n",
            "Epoch 20 Loss 0.1100\n",
            "Epoch 20 train_acc 0.9579833333333333 test_acc 0.7799833333333334\n",
            "Epoch 30 Loss 0.0767\n",
            "Epoch 30 train_acc 0.97135 test_acc 0.7811666666666667\n",
            "Epoch 40 Loss 0.0676\n",
            "Epoch 40 train_acc 0.97575 test_acc 0.7840666666666667\n",
            "Epoch 50 Loss 0.0716\n",
            "Epoch 50 train_acc 0.9755 test_acc 0.7831333333333333\n",
            "Epoch 60 Loss 0.0671\n",
            "Epoch 60 train_acc 0.9793833333333334 test_acc 0.7839833333333334\n",
            "Epoch 70 Loss 0.0754\n",
            "Epoch 70 train_acc 0.9793166666666666 test_acc 0.7823833333333333\n",
            "Epoch 80 Loss 0.0544\n",
            "Epoch 80 train_acc 0.9845666666666667 test_acc 0.7877333333333333\n",
            "Epoch 90 Loss 0.0389\n",
            "Epoch 90 train_acc 0.9883833333333333 test_acc 0.7886\n"
          ]
        }
      ],
      "source": [
        "losses, acc_dict = train(model,loss_fn,optimizer,train_dataloader,data)"
      ]
    },
    {
      "cell_type": "markdown",
      "metadata": {},
      "source": [
        "## Large learning rate schedule"
      ]
    },
    {
      "cell_type": "code",
      "execution_count": 14,
      "metadata": {},
      "outputs": [],
      "source": [
        "model = DNN(dim_in=data_config.dim_in, dim_out=data_config.dim_out, width=model_config.width, depth=model_config.depth)\n",
        "loss_fn = nn.CrossEntropyLoss()\n",
        "optimizer = torch.optim.Adam(model.parameters(), lr=0.1)\n"
      ]
    },
    {
      "cell_type": "markdown",
      "metadata": {
        "id": "6qunqIvXVyp9"
      },
      "source": [
        "## Pruning"
      ]
    },
    {
      "cell_type": "markdown",
      "metadata": {},
      "source": [
        "So far everything is the same. I set the pruning rate as $p ^ {1/n}$, this still works to some extent... Not sure how? I think we should still figure out some other schemes, maybe we can threshold the weights instead of removing a certain amount of smaller magnitude weights.... could try constant pruning fraction as well...."
      ]
    },
    {
      "cell_type": "code",
      "execution_count": 1,
      "metadata": {},
      "outputs": [
        {
          "name": "stdout",
          "output_type": "stream",
          "text": [
            " \n",
            "pruning rate=0.1\n",
            "Pruning 1 0.9 0.9\n",
            "Pruning 2 0.683772233983162 0.81\n",
            "Pruning 3 0.535841116638722 0.7290000000000001\n",
            "Pruning 4 0.4376586748096509 0.6561\n",
            "Pruning 5 0.36904265551980675 0.5904900000000001\n",
            "Pruning 6 0.31870793094203864 0.531441\n",
            "Pruning 7 0.28031432699884795 0.4782969000000001\n",
            "Pruning 8 0.2501057906675441 0.4304672100000001\n",
            "Pruning 9 0.2257363173188729 0.3874204890000001\n",
            "Pruning 10 0.2056717652757185 0.3486784401000001\n",
            "Pruning 11 0.18886916921031294 0.31381059609000006\n",
            "Pruning 12 0.1745958147319816 0.2824295364810001\n",
            "Pruning 13 0.16232235993170807 0.2541865828329001\n",
            "Pruning 14 0.15165710175592795 0.2287679245496101\n",
            "Pruning 15 0.14230410140910588 0.20589113209464907\n",
            "Pruning 16 0.13403567663993465 0.18530201888518416\n",
            "Pruning 17 0.12667383761715667 0.16677181699666577\n",
            "Pruning 18 0.12007745643089296 0.15009463529699918\n",
            "Pruning 19 0.11413320958991735 0.13508517176729928\n",
            "Pruning 20 0.10874906186625444 0.12157665459056935\n",
            " \n",
            "pruning rate=0.2\n",
            "Pruning 1 0.8 0.8\n",
            "Pruning 2 0.5527864045000421 0.6400000000000001\n",
            "Pruning 3 0.41519645235742675 0.5120000000000001\n",
            "Pruning 4 0.331259695023578 0.4096000000000001\n",
            "Pruning 5 0.27522033632230447 0.3276800000000001\n",
            "Pruning 6 0.23527550866826996 0.2621440000000001\n",
            "Pruning 7 0.20540259529814775 0.20971520000000007\n",
            "Pruning 8 0.18223456604205746 0.1677721600000001\n",
            "Pruning 9 0.16374896904962655 0.13421772800000006\n",
            "Pruning 10 0.1486600774792154 0.10737418240000006\n",
            "Pruning 11 0.1361123362974096 0.08589934592000005\n",
            "Pruning 12 0.1255147277788321 0.06871947673600004\n",
            "Pruning 13 0.11644604222876276 0.054975581388800036\n",
            "Pruning 14 0.10859806781572867 0.043980465111040035\n",
            "Pruning 15 0.10174012623840034 0.03518437208883203\n",
            "Pruning 16 0.09569616059758845 0.028147497671065624\n",
            "Pruning 17 0.09032948674199881 0.022517998136852502\n",
            "Pruning 18 0.0855323784023988 0.018014398509482003\n",
            "Pruning 19 0.08121878961882534 0.014411518807585602\n",
            "Pruning 20 0.07731916540941164 0.011529215046068483\n",
            " \n",
            "pruning rate=0.3\n",
            "Pruning 1 0.7 0.7\n",
            "Pruning 2 0.4522774424948339 0.48999999999999994\n",
            "Pruning 3 0.3305670499178305 0.3429999999999999\n",
            "Pruning 4 0.25991719550771475 0.24009999999999995\n",
            "Pruning 5 0.2139969144033772 0.16806999999999994\n",
            "Pruning 6 0.18181117699997296 0.11764899999999996\n",
            "Pruning 7 0.15801755565497966 0.08235429999999996\n",
            "Pruning 8 0.13971934550852227 0.05764800999999997\n",
            "Pruning 9 0.12521291707606708 0.04035360699999998\n",
            "Pruning 10 0.11343184943478668 0.028247524899999984\n",
            "Pruning 11 0.10367487860124702 0.019773267429999988\n",
            "Pruning 12 0.09546209421604279 0.01384128720099999\n",
            "Pruning 13 0.08845406633142938 0.009688901040699992\n",
            "Pruning 14 0.08240398630714385 0.006782230728489994\n",
            "Pruning 15 0.07712811194671554 0.004747561509942996\n",
            "Pruning 16 0.07248684403320849 0.0033232930569600965\n",
            "Pruning 17 0.06837222737362458 0.0023263051398720674\n",
            "Pruning 18 0.06469946919509717 0.001628413597910447\n",
            "Pruning 19 0.06140104567447868 0.001139889518537313\n",
            "Pruning 20 0.058422520147591195 0.0007979226629761189\n",
            " \n",
            "pruning rate=0.4\n",
            "Pruning 1 0.6 0.6\n",
            "Pruning 2 0.3675444679663241 0.36\n",
            "Pruning 3 0.2631937002719227 0.21599999999999997\n",
            "Pruning 4 0.20472927123294937 0.1296\n",
            "Pruning 5 0.1674467925981269 0.07775999999999998\n",
            "Pruning 6 0.14162578106744295 0.04665599999999999\n",
            "Pruning 7 0.12269333787625847 0.027993599999999993\n",
            "Pruning 8 0.10822047076250363 0.016796159999999994\n",
            "Pruning 9 0.09679892986331773 0.010077695999999997\n",
            "Pruning 10 0.08755646344451917 0.006046617599999997\n",
            "Pruning 11 0.07992414149644911 0.0036279705599999985\n",
            "Pruning 12 0.07351512752093081 0.002176782335999999\n",
            "Pruning 13 0.06805725860180156 0.0013060694015999993\n",
            "Pruning 14 0.06335350204906998 0.0007836416409599996\n",
            "Pruning 15 0.059257713443878535 0.00047018498457599973\n",
            "Pruning 16 0.05565920916361111 0.00028211099074559984\n",
            "Pruning 17 0.05247262897373173 0.00016926659444735988\n",
            "Pruning 18 0.049631087347296376 0.00010155995666841593\n",
            "Pruning 19 0.0470814329107867 6.093597400104956e-05\n",
            "Pruning 20 0.04478089604767599 3.6561584400629733e-05\n"
          ]
        }
      ],
      "source": [
        "# To compare pruning rate heuristics\n",
        "for i in [0.1,0.2,0.3,0.4]:\n",
        "    x=1\n",
        "    print(' ')\n",
        "    print(f'pruning rate={i}')\n",
        "    for j in range(1,21):\n",
        "        print(f'Pruning {j} {x*(1-i**(1/j))} {(1-i)**j}')\n"
      ]
    },
    {
      "cell_type": "code",
      "execution_count": 18,
      "metadata": {},
      "outputs": [],
      "source": [
        "model = DNN(dim_in=data_config.dim_in, dim_out=data_config.dim_out, width=model_config.width, depth=model_config.depth)\n",
        "loss_fn = nn.CrossEntropyLoss()\n",
        "optimizer = torch.optim.Adam(model.parameters(), lr=train_config.lr)"
      ]
    },
    {
      "cell_type": "code",
      "execution_count": 19,
      "metadata": {
        "colab": {
          "base_uri": "https://localhost:8080/"
        },
        "id": "Oaqx3cYxV1Ps",
        "outputId": "1753670f-5a54-44ea-90b1-961af83ee189"
      },
      "outputs": [
        {
          "name": "stderr",
          "output_type": "stream",
          "text": [
            "  0%|          | 0/6 [00:00<?, ?it/s]"
          ]
        },
        {
          "name": "stdout",
          "output_type": "stream",
          "text": [
            "Epoch 0 Loss 0.5714\n",
            "Epoch 0 train_acc 0.7024166666666667 test_acc 0.6766666666666666\n",
            "Epoch 10 Loss 0.1536\n",
            "Epoch 10 train_acc 0.93955 test_acc 0.7992833333333333\n",
            "Epoch 20 Loss 0.0934\n",
            "Epoch 20 train_acc 0.96455 test_acc 0.7982666666666667\n",
            "Epoch 30 Loss 0.0545\n",
            "Epoch 30 train_acc 0.9791833333333333 test_acc 0.8057833333333333\n",
            "Epoch 40 Loss 0.0715\n",
            "Epoch 40 train_acc 0.9755 test_acc 0.8076833333333333\n",
            "Epoch 50 Loss 0.0608\n",
            "Epoch 50 train_acc 0.9808833333333333 test_acc 0.80795\n",
            "Epoch 60 Loss 0.0777\n",
            "Epoch 60 train_acc 0.9764166666666667 test_acc 0.80625\n",
            "Epoch 70 Loss 0.0533\n",
            "Epoch 70 train_acc 0.9826333333333334 test_acc 0.8088833333333333\n",
            "Epoch 80 Loss 0.0429\n",
            "Epoch 80 train_acc 0.9864166666666667 test_acc 0.8076333333333333\n",
            "Epoch 90 Loss 0.0411\n",
            "Epoch 90 train_acc 0.9877666666666667 test_acc 0.8122333333333334\n"
          ]
        },
        {
          "name": "stderr",
          "output_type": "stream",
          "text": [
            " 17%|█▋        | 1/6 [05:07<25:37, 307.54s/it]"
          ]
        },
        {
          "name": "stdout",
          "output_type": "stream",
          "text": [
            "Epoch 0 Loss 0.5680\n",
            "Epoch 0 train_acc 0.707 test_acc 0.6841666666666667\n",
            "Epoch 10 Loss 0.1177\n",
            "Epoch 10 train_acc 0.9570666666666666 test_acc 0.85495\n",
            "Epoch 20 Loss 0.0855\n",
            "Epoch 20 train_acc 0.96935 test_acc 0.8505166666666667\n",
            "Epoch 30 Loss 0.0453\n",
            "Epoch 30 train_acc 0.9842 test_acc 0.8645\n",
            "Epoch 40 Loss 0.0390\n",
            "Epoch 40 train_acc 0.98705 test_acc 0.8705666666666667\n",
            "Epoch 50 Loss 0.0382\n",
            "Epoch 50 train_acc 0.9890666666666666 test_acc 0.87175\n",
            "Epoch 60 Loss 0.0390\n",
            "Epoch 60 train_acc 0.9891166666666666 test_acc 0.8736833333333334\n",
            "Epoch 70 Loss 0.0399\n",
            "Epoch 70 train_acc 0.9896 test_acc 0.8741333333333333\n",
            "Epoch 80 Loss 0.0236\n",
            "Epoch 80 train_acc 0.99345 test_acc 0.8802833333333333\n",
            "Epoch 90 Loss 0.0237\n",
            "Epoch 90 train_acc 0.9934666666666667 test_acc 0.8797\n"
          ]
        },
        {
          "name": "stderr",
          "output_type": "stream",
          "text": [
            " 33%|███▎      | 2/6 [10:01<19:57, 299.29s/it]"
          ]
        },
        {
          "name": "stdout",
          "output_type": "stream",
          "text": [
            "Epoch 0 Loss 0.5071\n",
            "Epoch 0 train_acc 0.7523333333333333 test_acc 0.7408166666666667\n",
            "Epoch 10 Loss 0.1313\n",
            "Epoch 10 train_acc 0.94885 test_acc 0.9108\n",
            "Epoch 20 Loss 0.0666\n",
            "Epoch 20 train_acc 0.9748166666666667 test_acc 0.9221833333333334\n",
            "Epoch 30 Loss 0.0474\n",
            "Epoch 30 train_acc 0.9829666666666667 test_acc 0.9255333333333333\n",
            "Epoch 40 Loss 0.0383\n",
            "Epoch 40 train_acc 0.9861666666666666 test_acc 0.92595\n",
            "Epoch 50 Loss 0.0316\n",
            "Epoch 50 train_acc 0.9899166666666667 test_acc 0.9283166666666667\n",
            "Epoch 60 Loss 0.0242\n",
            "Epoch 60 train_acc 0.9924166666666666 test_acc 0.9267666666666666\n",
            "Epoch 70 Loss 0.0264\n",
            "Epoch 70 train_acc 0.9914666666666667 test_acc 0.9260333333333334\n",
            "Epoch 80 Loss 0.0245\n",
            "Epoch 80 train_acc 0.9927 test_acc 0.9280333333333334\n",
            "Epoch 90 Loss 0.0362\n",
            "Epoch 90 train_acc 0.9894333333333334 test_acc 0.9254666666666667\n"
          ]
        },
        {
          "name": "stderr",
          "output_type": "stream",
          "text": [
            " 50%|█████     | 3/6 [14:30<14:17, 285.75s/it]"
          ]
        },
        {
          "name": "stdout",
          "output_type": "stream",
          "text": [
            "Epoch 0 Loss 0.5239\n",
            "Epoch 0 train_acc 0.74215 test_acc 0.7321666666666666\n",
            "Epoch 10 Loss 0.1184\n",
            "Epoch 10 train_acc 0.9572333333333334 test_acc 0.9440833333333334\n",
            "Epoch 20 Loss 0.0635\n",
            "Epoch 20 train_acc 0.9770833333333333 test_acc 0.96\n",
            "Epoch 30 Loss 0.0431\n",
            "Epoch 30 train_acc 0.9853166666666666 test_acc 0.9641166666666666\n",
            "Epoch 40 Loss 0.0411\n",
            "Epoch 40 train_acc 0.98545 test_acc 0.9630333333333333\n",
            "Epoch 50 Loss 0.0453\n",
            "Epoch 50 train_acc 0.9869666666666667 test_acc 0.96435\n",
            "Epoch 60 Loss 0.0359\n",
            "Epoch 60 train_acc 0.9872333333333333 test_acc 0.9655833333333333\n",
            "Epoch 70 Loss 0.0327\n",
            "Epoch 70 train_acc 0.9900666666666667 test_acc 0.9650833333333333\n",
            "Epoch 80 Loss 0.0277\n",
            "Epoch 80 train_acc 0.9911666666666666 test_acc 0.9660333333333333\n",
            "Epoch 90 Loss 0.0353\n",
            "Epoch 90 train_acc 0.9899833333333333 test_acc 0.9658\n"
          ]
        },
        {
          "name": "stderr",
          "output_type": "stream",
          "text": [
            " 67%|██████▋   | 4/6 [18:53<09:13, 276.62s/it]"
          ]
        },
        {
          "name": "stdout",
          "output_type": "stream",
          "text": [
            "Epoch 0 Loss 0.5699\n",
            "Epoch 0 train_acc 0.7052333333333334 test_acc 0.6991\n",
            "Epoch 10 Loss 0.1965\n",
            "Epoch 10 train_acc 0.9232333333333334 test_acc 0.9156333333333333\n",
            "Epoch 20 Loss 0.1897\n",
            "Epoch 20 train_acc 0.9276666666666666 test_acc 0.9220666666666667\n",
            "Epoch 30 Loss 0.1504\n",
            "Epoch 30 train_acc 0.94545 test_acc 0.9394\n",
            "Epoch 40 Loss 0.1336\n",
            "Epoch 40 train_acc 0.9506666666666667 test_acc 0.94175\n",
            "Epoch 50 Loss 0.1326\n",
            "Epoch 50 train_acc 0.94925 test_acc 0.9429666666666666\n",
            "Epoch 60 Loss 0.1277\n",
            "Epoch 60 train_acc 0.9519666666666666 test_acc 0.9454833333333333\n",
            "Epoch 70 Loss 0.1286\n",
            "Epoch 70 train_acc 0.9511166666666667 test_acc 0.94195\n",
            "Epoch 80 Loss 0.1215\n",
            "Epoch 80 train_acc 0.9537333333333333 test_acc 0.9473\n",
            "Epoch 90 Loss 0.1277\n",
            "Epoch 90 train_acc 0.9564166666666667 test_acc 0.9470666666666666\n"
          ]
        },
        {
          "name": "stderr",
          "output_type": "stream",
          "text": [
            " 83%|████████▎ | 5/6 [23:47<04:42, 282.85s/it]"
          ]
        },
        {
          "name": "stdout",
          "output_type": "stream",
          "text": [
            "Epoch 0 Loss 0.0864\n",
            "Epoch 0 train_acc 0.9682833333333334 test_acc 0.9624833333333334\n",
            "Epoch 10 Loss 0.0805\n",
            "Epoch 10 train_acc 0.9719666666666666 test_acc 0.967\n",
            "Epoch 20 Loss 0.0715\n",
            "Epoch 20 train_acc 0.975 test_acc 0.96985\n",
            "Epoch 30 Loss 0.0814\n",
            "Epoch 30 train_acc 0.9726833333333333 test_acc 0.9670166666666666\n",
            "Epoch 40 Loss 0.0884\n",
            "Epoch 40 train_acc 0.9709333333333333 test_acc 0.96555\n",
            "Epoch 50 Loss 0.0593\n",
            "Epoch 50 train_acc 0.97935 test_acc 0.9739166666666667\n",
            "Epoch 60 Loss 0.0842\n",
            "Epoch 60 train_acc 0.9720833333333333 test_acc 0.9661833333333333\n",
            "Epoch 70 Loss 0.0780\n",
            "Epoch 70 train_acc 0.9763166666666667 test_acc 0.9701666666666666\n",
            "Epoch 80 Loss 0.0797\n",
            "Epoch 80 train_acc 0.97245 test_acc 0.9670666666666666\n",
            "Epoch 90 Loss 0.0723\n",
            "Epoch 90 train_acc 0.9754 test_acc 0.97\n"
          ]
        },
        {
          "name": "stderr",
          "output_type": "stream",
          "text": [
            "                                              \r"
          ]
        }
      ],
      "source": [
        "INITIAL_WEIGHTS = deepcopy(model.state_dict())\n",
        "prune_epochs=6\n",
        "p = 0.2\n",
        "losses = {}\n",
        "acc_dict = {}\n",
        "for n in tqdm(range(1, prune_epochs + 1), total=prune_epochs, leave=False):\n",
        "\n",
        "  losses[n], acc_dict[n] = train(model,loss_fn,optimizer,train_dataloader,data)\n",
        "\n",
        "  pruning_rate = p ** (1 / n)\n",
        "\n",
        "  # Prune the model\n",
        "  prune.l1_unstructured(model.layers[0], name=\"weight\", amount=pruning_rate)\n",
        "  prune.l1_unstructured(model.layers[1], name=\"weight\", amount=pruning_rate)\n",
        "  prune.l1_unstructured(model.output_layer, name=\"weight\", amount=pruning_rate/2)\n",
        "\n",
        "  # Reset weights\n",
        "  reseted_weights = deepcopy(model.state_dict())\n",
        "  for param in reseted_weights.keys():\n",
        "      if param.split(\".\")[-1].replace(\"_orig\", \"\") in (\"bias\", \"weight\"):\n",
        "          reseted_weights[param] = deepcopy(INITIAL_WEIGHTS[param.replace(\"_orig\", \"\")])\n",
        "  if n< prune_epochs-1:\n",
        "    model.load_state_dict(reseted_weights)"
      ]
    },
    {
      "cell_type": "markdown",
      "metadata": {
        "id": "yyyfoYEXVvK3"
      },
      "source": [
        "## Probing"
      ]
    },
    {
      "cell_type": "code",
      "execution_count": 12,
      "metadata": {},
      "outputs": [
        {
          "data": {
            "text/plain": [
              "<matplotlib.legend.Legend at 0x7f1c900ce390>"
            ]
          },
          "execution_count": 12,
          "metadata": {},
          "output_type": "execute_result"
        },
        {
          "data": {
            "image/png": "[encoded data removed]",
            "text/plain": [
              "<Figure size 640x480 with 1 Axes>"
            ]
          },
          "metadata": {},
          "output_type": "display_data"
        }
      ],
      "source": [
        "#plot acc_dict(test)\n",
        "plt.figure()\n",
        "for key in acc_dict.keys():\n",
        "#   plt.plot(acc_dict[key]['train'],label=f'train_{key}')\n",
        "  plt.plot(acc_dict[key]['test'],label=f'test_{key}')\n",
        "plt.legend()"
      ]
    },
    {
      "cell_type": "code",
      "execution_count": 13,
      "metadata": {},
      "outputs": [
        {
          "data": {
            "text/plain": [
              "Text(0, 0.5, 'Final accuracy')"
            ]
          },
          "execution_count": 13,
          "metadata": {},
          "output_type": "execute_result"
        },
        {
          "data": {
            "image/png": "[encoded data removed]",
            "text/plain": [
              "<Figure size 640x480 with 1 Axes>"
            ]
          },
          "metadata": {},
          "output_type": "display_data"
        }
      ],
      "source": [
        "final_acc_list = [acc_dict[key]['test'][-1] for key in acc_dict.keys()]\n",
        "plt.figure()\n",
        "plt.plot(final_acc_list)\n",
        "plt.title('Final accuracy vs pruning epoch')\n",
        "plt.xlabel('Pruning epoch')\n",
        "plt.ylabel('Final accuracy')"
      ]
    },
    {
      "cell_type": "code",
      "execution_count": 14,
      "metadata": {
        "colab": {
          "base_uri": "https://localhost:8080/",
          "height": 435
        },
        "id": "lpxcyy_6GEQC",
        "outputId": "f3422a4d-fcd4-42eb-ce29-43a1288698c9"
      },
      "outputs": [
        {
          "data": {
            "image/png": "[encoded data removed]",
            "text/plain": [
              "<Figure size 640x480 with 2 Axes>"
            ]
          },
          "metadata": {},
          "output_type": "display_data"
        }
      ],
      "source": [
        "#normalise weights1 row-wise\n",
        "wt_mat = model.layers[0].weight.data.detach().cpu()\n",
        "w1_normed=F.normalize(wt_mat,p=2,dim=1)\n",
        "#visualise w1_normed as heat-map just in absolute values\n",
        "plt.imshow(w1_normed.abs().numpy())\n",
        "plt.colorbar()\n",
        "plt.show()"
      ]
    },
    {
      "cell_type": "code",
      "execution_count": null,
      "metadata": {},
      "outputs": [],
      "source": []
    },
    {
      "cell_type": "code",
      "execution_count": 15,
      "metadata": {
        "colab": {
          "base_uri": "https://localhost:8080/",
          "height": 435
        },
        "id": "uQUG66BWHeOd",
        "outputId": "a2dd0e78-e1ca-4898-f8ad-d6bd84ed44a1"
      },
      "outputs": [
        {
          "data": {
            "image/png": "[encoded data removed]",
            "text/plain": [
              "<Figure size 640x480 with 2 Axes>"
            ]
          },
          "metadata": {},
          "output_type": "display_data"
        }
      ],
      "source": [
        "#normalise weights1 row-wise\n",
        "wt_mat = model.layers[1].weight.data.detach().cpu()\n",
        "w1_normed=F.normalize(wt_mat,p=2,dim=1)\n",
        "#visualise w1_normed as heat-map just in absolute values\n",
        "plt.imshow(w1_normed.abs().numpy())\n",
        "plt.colorbar()\n",
        "plt.show()"
      ]
    }
  ],
  "metadata": {
    "colab": {
      "authorship_tag": "ABX9TyN1gu3P2Bvdjy5Le6WrC1E7",
      "include_colab_link": true,
      "provenance": []
    },
    "kernelspec": {
      "display_name": "Python 3",
      "name": "python3"
    },
    "language_info": {
      "codemirror_mode": {
        "name": "ipython",
        "version": 3
      },
      "file_extension": ".py",
      "mimetype": "text/x-python",
      "name": "python",
      "nbconvert_exporter": "python",
      "pygments_lexer": "ipython3",
      "version": "3.11.3"
    }
  },
  "nbformat": 4,
  "nbformat_minor": 0
}
