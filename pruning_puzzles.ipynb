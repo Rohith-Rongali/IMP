{
  "nbformat": 4,
  "nbformat_minor": 0,
  "metadata": {
    "colab": {
      "provenance": [],
      "authorship_tag": "ABX9TyP+pjNttVy4VfxYlnLLrRjd",
      "include_colab_link": true
    },
    "kernelspec": {
      "name": "python3",
      "display_name": "Python 3"
    },
    "language_info": {
      "name": "python"
    }
  },
  "cells": [
    {
      "cell_type": "markdown",
      "metadata": {
        "id": "view-in-github",
        "colab_type": "text"
      },
      "source": [
        "<a href=\"https://colab.research.google.com/github/Rohith-Rongali/IMP/blob/main/pruning_puzzles.ipynb\" target=\"_parent\"><img src=\"https://colab.research.google.com/assets/colab-badge.svg\" alt=\"Open In Colab\"/></a>"
      ]
    },
    {
      "cell_type": "code",
      "execution_count": null,
      "metadata": {
        "id": "u5NrnwqyQ4E-"
      },
      "outputs": [],
      "source": [
        "import torch\n",
        "from torch import nn\n",
        "import torch.nn.utils.prune as prune\n",
        "import torch.nn.functional as F"
      ]
    },
    {
      "cell_type": "code",
      "source": [
        "device = torch.device(\"cuda\" if torch.cuda.is_available() else \"cpu\")\n",
        "class DNN(nn.Module):\n",
        "    def __init__(self, dim_in, dim_out, width, depth):\n",
        "        super(DNN, self).__init__()\n",
        "        self.depth = depth\n",
        "        self.layers = nn.ModuleList([nn.Linear(dim_in if i == 0 else width, width) for i in range(self.depth)])\n",
        "        self.output_layer = nn.Linear(width, dim_out)\n",
        "        self.relu = nn.ReLU()\n",
        "\n",
        "    def forward(self, x):\n",
        "        for layer in self.layers:\n",
        "            x = self.relu(layer(x))\n",
        "        x = self.output_layer(x)\n",
        "        return x\n",
        "model = DNN(4,2,10,3).to(device)"
      ],
      "metadata": {
        "id": "dmVgLeo8SE2V"
      },
      "execution_count": null,
      "outputs": []
    },
    {
      "cell_type": "code",
      "source": [
        "list(model.layers[0].named_parameters())"
      ],
      "metadata": {
        "colab": {
          "base_uri": "https://localhost:8080/"
        },
        "id": "KTcRNiSkSk8z",
        "outputId": "f6fea9a8-4920-42f0-b749-cdd1f82ffefa"
      },
      "execution_count": null,
      "outputs": [
        {
          "output_type": "execute_result",
          "data": {
            "text/plain": [
              "[('weight',\n",
              "  Parameter containing:\n",
              "  tensor([[ 0.1877,  0.3423, -0.4911,  0.3108],\n",
              "          [-0.4713,  0.1970, -0.0298,  0.1402],\n",
              "          [ 0.1899, -0.4023,  0.1890,  0.4711],\n",
              "          [ 0.1416,  0.3241,  0.3229,  0.3026],\n",
              "          [ 0.0932,  0.4593, -0.2672,  0.0754],\n",
              "          [-0.0176, -0.0359, -0.3718,  0.3059],\n",
              "          [-0.1632, -0.0459, -0.3760,  0.4926],\n",
              "          [-0.2628,  0.3024,  0.2096, -0.0395],\n",
              "          [-0.2094, -0.2710, -0.3218,  0.4083],\n",
              "          [ 0.3479, -0.2455, -0.3812, -0.1856]], requires_grad=True)),\n",
              " ('bias',\n",
              "  Parameter containing:\n",
              "  tensor([-0.1329,  0.4386,  0.2655, -0.4709, -0.1128,  0.3792,  0.3811,  0.3990,\n",
              "          -0.1714,  0.2147], requires_grad=True))]"
            ]
          },
          "metadata": {},
          "execution_count": 9
        }
      ]
    },
    {
      "cell_type": "code",
      "source": [
        "list(model.layers[0].named_buffers())"
      ],
      "metadata": {
        "colab": {
          "base_uri": "https://localhost:8080/"
        },
        "id": "nIjhPxBkTdfg",
        "outputId": "8ef15890-dcf7-4b6e-a6ae-45f12af72bc8"
      },
      "execution_count": null,
      "outputs": [
        {
          "output_type": "execute_result",
          "data": {
            "text/plain": [
              "[]"
            ]
          },
          "metadata": {},
          "execution_count": 10
        }
      ]
    },
    {
      "cell_type": "code",
      "source": [
        "prune.random_unstructured(model.layers[0], name=\"weight\", amount=0.3)"
      ],
      "metadata": {
        "colab": {
          "base_uri": "https://localhost:8080/"
        },
        "id": "hCH-OmDdTi9W",
        "outputId": "8d552631-ebe0-487d-e549-f2bdbc5a9b1e"
      },
      "execution_count": null,
      "outputs": [
        {
          "output_type": "execute_result",
          "data": {
            "text/plain": [
              "Linear(in_features=4, out_features=10, bias=True)"
            ]
          },
          "metadata": {},
          "execution_count": 11
        }
      ]
    },
    {
      "cell_type": "code",
      "source": [
        "list(model.layers[0].named_parameters())"
      ],
      "metadata": {
        "colab": {
          "base_uri": "https://localhost:8080/"
        },
        "id": "U4frYDs-Trug",
        "outputId": "9cbcdfba-6fb0-40b9-ea44-b3875c68f6e9"
      },
      "execution_count": null,
      "outputs": [
        {
          "output_type": "execute_result",
          "data": {
            "text/plain": [
              "[('bias',\n",
              "  Parameter containing:\n",
              "  tensor([-0.1329,  0.4386,  0.2655, -0.4709, -0.1128,  0.3792,  0.3811,  0.3990,\n",
              "          -0.1714,  0.2147], requires_grad=True)),\n",
              " ('weight_orig',\n",
              "  Parameter containing:\n",
              "  tensor([[ 0.1877,  0.3423, -0.4911,  0.3108],\n",
              "          [-0.4713,  0.1970, -0.0298,  0.1402],\n",
              "          [ 0.1899, -0.4023,  0.1890,  0.4711],\n",
              "          [ 0.1416,  0.3241,  0.3229,  0.3026],\n",
              "          [ 0.0932,  0.4593, -0.2672,  0.0754],\n",
              "          [-0.0176, -0.0359, -0.3718,  0.3059],\n",
              "          [-0.1632, -0.0459, -0.3760,  0.4926],\n",
              "          [-0.2628,  0.3024,  0.2096, -0.0395],\n",
              "          [-0.2094, -0.2710, -0.3218,  0.4083],\n",
              "          [ 0.3479, -0.2455, -0.3812, -0.1856]], requires_grad=True))]"
            ]
          },
          "metadata": {},
          "execution_count": 12
        }
      ]
    },
    {
      "cell_type": "code",
      "source": [
        "list(model.layers[0].named_buffers())"
      ],
      "metadata": {
        "colab": {
          "base_uri": "https://localhost:8080/"
        },
        "id": "YXVv8LSTT0NL",
        "outputId": "253bd3b0-18e9-4b94-c44c-ee52c80f7df6"
      },
      "execution_count": null,
      "outputs": [
        {
          "output_type": "execute_result",
          "data": {
            "text/plain": [
              "[('weight_mask',\n",
              "  tensor([[1., 1., 1., 1.],\n",
              "          [0., 1., 1., 1.],\n",
              "          [1., 0., 0., 1.],\n",
              "          [0., 1., 0., 0.],\n",
              "          [1., 0., 1., 0.],\n",
              "          [1., 1., 1., 1.],\n",
              "          [1., 0., 1., 1.],\n",
              "          [1., 0., 1., 1.],\n",
              "          [1., 1., 1., 0.],\n",
              "          [1., 0., 1., 1.]]))]"
            ]
          },
          "metadata": {},
          "execution_count": 13
        }
      ]
    },
    {
      "cell_type": "code",
      "source": [
        "model.layers[0].weight"
      ],
      "metadata": {
        "colab": {
          "base_uri": "https://localhost:8080/"
        },
        "id": "oMjVe5NGT7LM",
        "outputId": "be9dec69-a418-44de-f7fc-c734a0910435"
      },
      "execution_count": null,
      "outputs": [
        {
          "output_type": "execute_result",
          "data": {
            "text/plain": [
              "tensor([[ 0.1877,  0.3423, -0.4911,  0.3108],\n",
              "        [-0.0000,  0.1970, -0.0298,  0.1402],\n",
              "        [ 0.1899, -0.0000,  0.0000,  0.4711],\n",
              "        [ 0.0000,  0.3241,  0.0000,  0.0000],\n",
              "        [ 0.0932,  0.0000, -0.2672,  0.0000],\n",
              "        [-0.0176, -0.0359, -0.3718,  0.3059],\n",
              "        [-0.1632, -0.0000, -0.3760,  0.4926],\n",
              "        [-0.2628,  0.0000,  0.2096, -0.0395],\n",
              "        [-0.2094, -0.2710, -0.3218,  0.0000],\n",
              "        [ 0.3479, -0.0000, -0.3812, -0.1856]], grad_fn=<MulBackward0>)"
            ]
          },
          "metadata": {},
          "execution_count": 15
        }
      ]
    },
    {
      "cell_type": "code",
      "source": [
        "prune.ln_structured(model.layers[0], name=\"weight\", amount=0.5, n=2, dim=0)"
      ],
      "metadata": {
        "colab": {
          "base_uri": "https://localhost:8080/"
        },
        "id": "AzrIJytLUaCP",
        "outputId": "a7df2134-1a13-4b27-ccf0-208c9c01424a"
      },
      "execution_count": null,
      "outputs": [
        {
          "output_type": "execute_result",
          "data": {
            "text/plain": [
              "Linear(in_features=4, out_features=10, bias=True)"
            ]
          },
          "metadata": {},
          "execution_count": 16
        }
      ]
    },
    {
      "cell_type": "code",
      "source": [
        "list(model.layers[0].named_buffers())"
      ],
      "metadata": {
        "colab": {
          "base_uri": "https://localhost:8080/"
        },
        "id": "mEJHRicdUgnj",
        "outputId": "135b029e-26cd-4d1b-df34-11bdb9ab1b25"
      },
      "execution_count": null,
      "outputs": [
        {
          "output_type": "execute_result",
          "data": {
            "text/plain": [
              "[('weight_mask',\n",
              "  tensor([[1., 1., 1., 1.],\n",
              "          [0., 0., 0., 0.],\n",
              "          [1., 0., 0., 1.],\n",
              "          [0., 0., 0., 0.],\n",
              "          [0., 0., 0., 0.],\n",
              "          [1., 1., 1., 1.],\n",
              "          [1., 0., 1., 1.],\n",
              "          [0., 0., 0., 0.],\n",
              "          [0., 0., 0., 0.],\n",
              "          [1., 0., 1., 1.]]))]"
            ]
          },
          "metadata": {},
          "execution_count": 17
        }
      ]
    },
    {
      "cell_type": "code",
      "source": [
        "for hook in model.layers[0]._forward_pre_hooks.values():\n",
        "    if hook._tensor_name == \"weight\":  # select out the correct hook\n",
        "        break\n",
        "\n",
        "print(list(hook))"
      ],
      "metadata": {
        "id": "b9WRnGHbUvml",
        "outputId": "f720ee31-5761-4254-fb87-58ba6f387937",
        "colab": {
          "base_uri": "https://localhost:8080/"
        }
      },
      "execution_count": null,
      "outputs": [
        {
          "output_type": "stream",
          "name": "stdout",
          "text": [
            "[<torch.nn.utils.prune.RandomUnstructured object at 0x78f836e9e590>, <torch.nn.utils.prune.LnStructured object at 0x78f836e9e5f0>]\n"
          ]
        }
      ]
    },
    {
      "cell_type": "code",
      "source": [
        "model.output_layer.weight"
      ],
      "metadata": {
        "colab": {
          "base_uri": "https://localhost:8080/"
        },
        "id": "_Qkk9_JuyRA1",
        "outputId": "58c18d11-b9ab-4992-f6f6-0e892b1fa9cc"
      },
      "execution_count": 20,
      "outputs": [
        {
          "output_type": "execute_result",
          "data": {
            "text/plain": [
              "Parameter containing:\n",
              "tensor([[ 0.1902, -0.2616, -0.3089, -0.0460,  0.0114, -0.0508,  0.1597,  0.2594,\n",
              "         -0.2004, -0.0994],\n",
              "        [ 0.0197, -0.2390,  0.1228, -0.0423,  0.0973,  0.2530, -0.2046, -0.1634,\n",
              "          0.2472,  0.0101]], requires_grad=True)"
            ]
          },
          "metadata": {},
          "execution_count": 20
        }
      ]
    },
    {
      "cell_type": "code",
      "source": [
        "prune.l1_unstructured(model.output_layer, name=\"weight\", amount=0.1)"
      ],
      "metadata": {
        "colab": {
          "base_uri": "https://localhost:8080/"
        },
        "id": "Oym07IuXyTb9",
        "outputId": "8594f052-9026-409f-bf29-a288ae2d975d"
      },
      "execution_count": 21,
      "outputs": [
        {
          "output_type": "execute_result",
          "data": {
            "text/plain": [
              "Linear(in_features=10, out_features=2, bias=True)"
            ]
          },
          "metadata": {},
          "execution_count": 21
        }
      ]
    },
    {
      "cell_type": "code",
      "source": [
        "list(model.output_layer.named_parameters())"
      ],
      "metadata": {
        "colab": {
          "base_uri": "https://localhost:8080/"
        },
        "id": "l11u3RZpymMe",
        "outputId": "1d6f49e0-e081-48a1-91bc-3b5d33d9ca78"
      },
      "execution_count": 24,
      "outputs": [
        {
          "output_type": "execute_result",
          "data": {
            "text/plain": [
              "[('bias',\n",
              "  Parameter containing:\n",
              "  tensor([-0.0364, -0.0301], requires_grad=True)),\n",
              " ('weight_orig',\n",
              "  Parameter containing:\n",
              "  tensor([[ 0.1902, -0.2616, -0.3089, -0.0460,  0.0114, -0.0508,  0.1597,  0.2594,\n",
              "           -0.2004, -0.0994],\n",
              "          [ 0.0197, -0.2390,  0.1228, -0.0423,  0.0973,  0.2530, -0.2046, -0.1634,\n",
              "            0.2472,  0.0101]], requires_grad=True))]"
            ]
          },
          "metadata": {},
          "execution_count": 24
        }
      ]
    }
  ]
}