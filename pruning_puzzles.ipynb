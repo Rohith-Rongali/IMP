{
  "cells": [
    {
      "cell_type": "markdown",
      "metadata": {
        "colab_type": "text",
        "id": "view-in-github"
      },
      "source": [
        "<a href=\"https://colab.research.google.com/github/Rohith-Rongali/IMP/blob/main/pruning_puzzles.ipynb\" target=\"_parent\"><img src=\"https://colab.research.google.com/assets/colab-badge.svg\" alt=\"Open In Colab\"/></a>"
      ]
    },
    {
      "cell_type": "code",
      "execution_count": 1,
      "metadata": {
        "id": "u5NrnwqyQ4E-"
      },
      "outputs": [],
      "source": [
        "import torch\n",
        "from torch import nn\n",
        "import torch.nn.utils.prune as prune\n",
        "import torch.nn.functional as F"
      ]
    },
    {
      "cell_type": "code",
      "execution_count": 2,
      "metadata": {
        "id": "dmVgLeo8SE2V"
      },
      "outputs": [],
      "source": [
        "device = torch.device(\"cuda\" if torch.cuda.is_available() else \"cpu\")\n",
        "class DNN(nn.Module):\n",
        "    def __init__(self, dim_in, dim_out, width, depth):\n",
        "        super(DNN, self).__init__()\n",
        "        self.depth = depth\n",
        "        self.layers = nn.ModuleList([nn.Linear(dim_in if i == 0 else width, width) for i in range(self.depth)])\n",
        "        self.output_layer = nn.Linear(width, dim_out)\n",
        "        self.relu = nn.ReLU()\n",
        "\n",
        "    def forward(self, x):\n",
        "        for layer in self.layers:\n",
        "            x = self.relu(layer(x))\n",
        "        x = self.output_layer(x)\n",
        "        return x\n",
        "model = DNN(4,2,10,3).to(device)"
      ]
    },
    {
      "cell_type": "code",
      "execution_count": 3,
      "metadata": {
        "colab": {
          "base_uri": "https://localhost:8080/"
        },
        "id": "KTcRNiSkSk8z",
        "outputId": "f6fea9a8-4920-42f0-b749-cdd1f82ffefa"
      },
      "outputs": [
        {
          "data": {
            "text/plain": [
              "[('weight',\n",
              "  Parameter containing:\n",
              "  tensor([[-0.4045,  0.0129, -0.3640, -0.3780],\n",
              "          [-0.3609,  0.0471, -0.3248,  0.3384],\n",
              "          [-0.1249, -0.1702, -0.2273,  0.4971],\n",
              "          [-0.2657, -0.0625,  0.2665,  0.1415],\n",
              "          [ 0.3374, -0.1133,  0.1452,  0.1545],\n",
              "          [ 0.2082, -0.3209, -0.2297, -0.4333],\n",
              "          [-0.1745, -0.0883, -0.1926,  0.2258],\n",
              "          [ 0.2431, -0.3264,  0.3408, -0.0567],\n",
              "          [-0.2632,  0.4146,  0.2632, -0.0121],\n",
              "          [-0.1269, -0.1803,  0.2200, -0.3744]], device='cuda:0',\n",
              "         requires_grad=True)),\n",
              " ('bias',\n",
              "  Parameter containing:\n",
              "  tensor([ 0.4848, -0.0524, -0.0181, -0.3861, -0.2923, -0.1353, -0.0653,  0.1338,\n",
              "           0.3049, -0.4887], device='cuda:0', requires_grad=True))]"
            ]
          },
          "execution_count": 3,
          "metadata": {},
          "output_type": "execute_result"
        }
      ],
      "source": [
        "list(model.layers[0].named_parameters())"
      ]
    },
    {
      "cell_type": "code",
      "execution_count": 4,
      "metadata": {
        "colab": {
          "base_uri": "https://localhost:8080/"
        },
        "id": "nIjhPxBkTdfg",
        "outputId": "8ef15890-dcf7-4b6e-a6ae-45f12af72bc8"
      },
      "outputs": [
        {
          "data": {
            "text/plain": [
              "[]"
            ]
          },
          "execution_count": 4,
          "metadata": {},
          "output_type": "execute_result"
        }
      ],
      "source": [
        "list(model.layers[0].named_buffers())"
      ]
    },
    {
      "cell_type": "code",
      "execution_count": 5,
      "metadata": {
        "colab": {
          "base_uri": "https://localhost:8080/"
        },
        "id": "hCH-OmDdTi9W",
        "outputId": "8d552631-ebe0-487d-e549-f2bdbc5a9b1e"
      },
      "outputs": [
        {
          "data": {
            "text/plain": [
              "Linear(in_features=4, out_features=10, bias=True)"
            ]
          },
          "execution_count": 5,
          "metadata": {},
          "output_type": "execute_result"
        }
      ],
      "source": [
        "prune.random_unstructured(model.layers[0], name=\"weight\", amount=0.3)"
      ]
    },
    {
      "cell_type": "code",
      "execution_count": 6,
      "metadata": {
        "colab": {
          "base_uri": "https://localhost:8080/"
        },
        "id": "U4frYDs-Trug",
        "outputId": "9cbcdfba-6fb0-40b9-ea44-b3875c68f6e9"
      },
      "outputs": [
        {
          "data": {
            "text/plain": [
              "[('bias',\n",
              "  Parameter containing:\n",
              "  tensor([ 0.4848, -0.0524, -0.0181, -0.3861, -0.2923, -0.1353, -0.0653,  0.1338,\n",
              "           0.3049, -0.4887], device='cuda:0', requires_grad=True)),\n",
              " ('weight_orig',\n",
              "  Parameter containing:\n",
              "  tensor([[-0.4045,  0.0129, -0.3640, -0.3780],\n",
              "          [-0.3609,  0.0471, -0.3248,  0.3384],\n",
              "          [-0.1249, -0.1702, -0.2273,  0.4971],\n",
              "          [-0.2657, -0.0625,  0.2665,  0.1415],\n",
              "          [ 0.3374, -0.1133,  0.1452,  0.1545],\n",
              "          [ 0.2082, -0.3209, -0.2297, -0.4333],\n",
              "          [-0.1745, -0.0883, -0.1926,  0.2258],\n",
              "          [ 0.2431, -0.3264,  0.3408, -0.0567],\n",
              "          [-0.2632,  0.4146,  0.2632, -0.0121],\n",
              "          [-0.1269, -0.1803,  0.2200, -0.3744]], device='cuda:0',\n",
              "         requires_grad=True))]"
            ]
          },
          "execution_count": 6,
          "metadata": {},
          "output_type": "execute_result"
        }
      ],
      "source": [
        "list(model.layers[0].named_parameters())"
      ]
    },
    {
      "cell_type": "code",
      "execution_count": 7,
      "metadata": {
        "colab": {
          "base_uri": "https://localhost:8080/"
        },
        "id": "YXVv8LSTT0NL",
        "outputId": "253bd3b0-18e9-4b94-c44c-ee52c80f7df6"
      },
      "outputs": [
        {
          "data": {
            "text/plain": [
              "[('weight_mask',\n",
              "  tensor([[1., 1., 1., 0.],\n",
              "          [1., 0., 0., 1.],\n",
              "          [1., 0., 1., 0.],\n",
              "          [1., 0., 1., 0.],\n",
              "          [1., 1., 1., 1.],\n",
              "          [1., 1., 1., 1.],\n",
              "          [1., 1., 1., 0.],\n",
              "          [0., 0., 0., 1.],\n",
              "          [1., 1., 1., 1.],\n",
              "          [1., 0., 1., 1.]], device='cuda:0'))]"
            ]
          },
          "execution_count": 7,
          "metadata": {},
          "output_type": "execute_result"
        }
      ],
      "source": [
        "list(model.layers[0].named_buffers())"
      ]
    },
    {
      "cell_type": "code",
      "execution_count": 8,
      "metadata": {
        "colab": {
          "base_uri": "https://localhost:8080/"
        },
        "id": "oMjVe5NGT7LM",
        "outputId": "be9dec69-a418-44de-f7fc-c734a0910435"
      },
      "outputs": [
        {
          "data": {
            "text/plain": [
              "tensor([[-0.4045,  0.0129, -0.3640, -0.0000],\n",
              "        [-0.3609,  0.0000, -0.0000,  0.3384],\n",
              "        [-0.1249, -0.0000, -0.2273,  0.0000],\n",
              "        [-0.2657, -0.0000,  0.2665,  0.0000],\n",
              "        [ 0.3374, -0.1133,  0.1452,  0.1545],\n",
              "        [ 0.2082, -0.3209, -0.2297, -0.4333],\n",
              "        [-0.1745, -0.0883, -0.1926,  0.0000],\n",
              "        [ 0.0000, -0.0000,  0.0000, -0.0567],\n",
              "        [-0.2632,  0.4146,  0.2632, -0.0121],\n",
              "        [-0.1269, -0.0000,  0.2200, -0.3744]], device='cuda:0',\n",
              "       grad_fn=<MulBackward0>)"
            ]
          },
          "execution_count": 8,
          "metadata": {},
          "output_type": "execute_result"
        }
      ],
      "source": [
        "model.layers[0].weight"
      ]
    },
    {
      "cell_type": "code",
      "execution_count": 17,
      "metadata": {},
      "outputs": [],
      "source": [
        "w_o= model.layers[0].weight_orig.data"
      ]
    },
    {
      "cell_type": "code",
      "execution_count": 22,
      "metadata": {},
      "outputs": [],
      "source": [
        "y = model(torch.randn(2, 4).to(device))\n",
        "l = torch.nn.MSELoss()(y, torch.randn(2, 2).to(device))\n",
        "l.backward()"
      ]
    },
    {
      "cell_type": "code",
      "execution_count": 23,
      "metadata": {},
      "outputs": [
        {
          "data": {
            "text/plain": [
              "tensor([[ 0.0053, -0.0051,  0.0068,  0.0000],\n",
              "        [-0.0049,  0.0000,  0.0000, -0.0028],\n",
              "        [-0.0205,  0.0000,  0.0024,  0.0000],\n",
              "        [ 0.0000,  0.0000,  0.0000,  0.0000],\n",
              "        [-0.0222,  0.0195, -0.0142, -0.0064],\n",
              "        [-0.0009,  0.0003,  0.0015,  0.0008],\n",
              "        [-0.0140,  0.0075, -0.0036,  0.0000],\n",
              "        [ 0.0000,  0.0000,  0.0000, -0.0074],\n",
              "        [-0.0018,  0.0022, -0.0025, -0.0015],\n",
              "        [ 0.0000,  0.0000,  0.0000,  0.0000]], device='cuda:0')"
            ]
          },
          "execution_count": 23,
          "metadata": {},
          "output_type": "execute_result"
        }
      ],
      "source": [
        "model.layers[0].weight_orig.grad"
      ]
    },
    {
      "cell_type": "markdown",
      "metadata": {},
      "source": [
        "Gradient is zero for the pruned weights"
      ]
    },
    {
      "cell_type": "code",
      "execution_count": null,
      "metadata": {},
      "outputs": [],
      "source": [
        "model.layers[0].weight_orig"
      ]
    },
    {
      "cell_type": "code",
      "execution_count": null,
      "metadata": {
        "colab": {
          "base_uri": "https://localhost:8080/"
        },
        "id": "b9WRnGHbUvml",
        "outputId": "f720ee31-5761-4254-fb87-58ba6f387937"
      },
      "outputs": [
        {
          "name": "stdout",
          "output_type": "stream",
          "text": [
            "[<torch.nn.utils.prune.RandomUnstructured object at 0x78f836e9e590>, <torch.nn.utils.prune.LnStructured object at 0x78f836e9e5f0>]\n"
          ]
        }
      ],
      "source": [
        "for hook in model.layers[0]._forward_pre_hooks.values():\n",
        "    if hook._tensor_name == \"weight\":  # select out the correct hook\n",
        "        break\n",
        "\n",
        "print(list(hook))"
      ]
    },
    {
      "cell_type": "code",
      "execution_count": 20,
      "metadata": {
        "colab": {
          "base_uri": "https://localhost:8080/"
        },
        "id": "_Qkk9_JuyRA1",
        "outputId": "58c18d11-b9ab-4992-f6f6-0e892b1fa9cc"
      },
      "outputs": [
        {
          "data": {
            "text/plain": [
              "Parameter containing:\n",
              "tensor([[ 0.1902, -0.2616, -0.3089, -0.0460,  0.0114, -0.0508,  0.1597,  0.2594,\n",
              "         -0.2004, -0.0994],\n",
              "        [ 0.0197, -0.2390,  0.1228, -0.0423,  0.0973,  0.2530, -0.2046, -0.1634,\n",
              "          0.2472,  0.0101]], requires_grad=True)"
            ]
          },
          "execution_count": 20,
          "metadata": {},
          "output_type": "execute_result"
        }
      ],
      "source": [
        "model.output_layer.weight"
      ]
    },
    {
      "cell_type": "code",
      "execution_count": 21,
      "metadata": {
        "colab": {
          "base_uri": "https://localhost:8080/"
        },
        "id": "Oym07IuXyTb9",
        "outputId": "8594f052-9026-409f-bf29-a288ae2d975d"
      },
      "outputs": [
        {
          "data": {
            "text/plain": [
              "Linear(in_features=10, out_features=2, bias=True)"
            ]
          },
          "execution_count": 21,
          "metadata": {},
          "output_type": "execute_result"
        }
      ],
      "source": [
        "prune.l1_unstructured(model.output_layer, name=\"weight\", amount=0.1)"
      ]
    },
    {
      "cell_type": "code",
      "execution_count": 24,
      "metadata": {
        "colab": {
          "base_uri": "https://localhost:8080/"
        },
        "id": "l11u3RZpymMe",
        "outputId": "1d6f49e0-e081-48a1-91bc-3b5d33d9ca78"
      },
      "outputs": [
        {
          "data": {
            "text/plain": [
              "[('bias',\n",
              "  Parameter containing:\n",
              "  tensor([-0.0364, -0.0301], requires_grad=True)),\n",
              " ('weight_orig',\n",
              "  Parameter containing:\n",
              "  tensor([[ 0.1902, -0.2616, -0.3089, -0.0460,  0.0114, -0.0508,  0.1597,  0.2594,\n",
              "           -0.2004, -0.0994],\n",
              "          [ 0.0197, -0.2390,  0.1228, -0.0423,  0.0973,  0.2530, -0.2046, -0.1634,\n",
              "            0.2472,  0.0101]], requires_grad=True))]"
            ]
          },
          "execution_count": 24,
          "metadata": {},
          "output_type": "execute_result"
        }
      ],
      "source": [
        "list(model.output_layer.named_parameters())"
      ]
    }
  ],
  "metadata": {
    "colab": {
      "authorship_tag": "ABX9TyP+pjNttVy4VfxYlnLLrRjd",
      "include_colab_link": true,
      "provenance": []
    },
    "kernelspec": {
      "display_name": "env1",
      "language": "python",
      "name": "python3"
    },
    "language_info": {
      "codemirror_mode": {
        "name": "ipython",
        "version": 3
      },
      "file_extension": ".py",
      "mimetype": "text/x-python",
      "name": "python",
      "nbconvert_exporter": "python",
      "pygments_lexer": "ipython3",
      "version": "3.11.3"
    }
  },
  "nbformat": 4,
  "nbformat_minor": 0
}
